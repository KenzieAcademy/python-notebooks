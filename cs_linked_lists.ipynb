{
  "nbformat": 4,
  "nbformat_minor": 0,
  "metadata": {
    "colab": {
      "name": "Data Structures - Linked Lists",
      "provenance": [],
      "collapsed_sections": []
    },
    "kernelspec": {
      "name": "python3",
      "display_name": "Python 3"
    }
  },
  "cells": [
    {
      "cell_type": "markdown",
      "metadata": {
        "id": "KLxMsnDFcvuS"
      },
      "source": [
        "<table border=\"0\" align=\"left\" width=\"700\" height=\"144\">\n",
        "<tbody>\n",
        "<tr>\n",
        "<td width=\"120\"><img width=\"100\" src=\"https://static1.squarespace.com/static/5992c2c7a803bb8283297efe/t/59c803110abd04d34ca9a1f0/1530629279239/\" /></td>\n",
        "<td style=\"width: 600px; height: 67px;\">\n",
        "<h1 style=\"text-align: left;\">Data Structures: Linked Lists</h1>\n",
        "<p><a href=\"https://colab.research.google.com/github/KenzieAcademy/python-notebooks/blob/master/cs_linked_lists.ipynb\"> <img src=\"https://colab.research.google.com/assets/colab-badge.svg\" alt=\"Open In Colab\" align=\"left\" width=\"188\" height=\"32\" /> </a></p>\n",
        "</td>\n",
        "</tr>\n",
        "</tbody>\n",
        "</table>"
      ]
    },
    {
      "cell_type": "markdown",
      "metadata": {
        "id": "NydCzWm6dsC7"
      },
      "source": [
        "### Create a Linked List"
      ]
    },
    {
      "cell_type": "code",
      "metadata": {
        "id": "htpT7qIYljWJ"
      },
      "source": [
        "class LinkedList:\n",
        "  def __init__(self, nodes=None):\n",
        "    self.head = None\n",
        "    if nodes is not None:\n",
        "      node = Node(nodes.pop(0))\n",
        "      self.head = node\n",
        "      for element in nodes:\n",
        "        node.next = Node(element)\n",
        "        node = node.next\n",
        "\n",
        "  def __iter__(self):\n",
        "    node = self.head\n",
        "    while node is not None:\n",
        "      yield node\n",
        "      node = node.next\n",
        "\n",
        "  def __repr__(self):\n",
        "    node = self.head\n",
        "    nodes = []\n",
        "    while node is not None:\n",
        "      nodes.append(node.data)\n",
        "      node = node.next\n",
        "    nodes.append(\"None\")\n",
        "    return \" -> \".join(nodes)\n",
        "\n",
        "  def add_first(self, node):\n",
        "    node.next = self.head\n",
        "    self.head = node\n",
        "\n",
        "  def add_last(self, node):\n",
        "    if not self.head:\n",
        "      self.head = node\n",
        "      return\n",
        "    for current_node in self:\n",
        "      pass\n",
        "    current_node.next = node\n",
        "\n",
        "  def add_after(self, target_node_data, new_node):\n",
        "    if not self.head:\n",
        "      raise Exception(\"List is empty\")\n",
        "    \n",
        "    for node in self:\n",
        "      if node.data == target_node_data:\n",
        "        new_node.next = node.next\n",
        "        node.next = new_node\n",
        "        return\n",
        "\n",
        "    raise Exception(f\"Node with data '{target_node_data}' not found\")\n",
        "\n",
        "  def add_before(self, target_node_data, new_node):\n",
        "    if not self.head:\n",
        "      raise Exception(\"List is empty\")\n",
        "\n",
        "    if self.head.data == target_node_data:\n",
        "      self.add_first(new_node)\n",
        "\n",
        "    previous_node = self.head\n",
        "    for node in self:\n",
        "      if node.data == target_node_data:\n",
        "        previous_node.next = new_node\n",
        "        new_node.next = node\n",
        "        return\n",
        "      previous_node = node\n",
        "\n",
        "    raise Exception(f\"Node with data '{target_node_data}' not found\")\n",
        "\n",
        "  def remove_node(self, target_node_data):\n",
        "    if not self.head:\n",
        "      raise Exception(\"List is empty\")\n",
        "\n",
        "    if self.head.data == target_node_data:\n",
        "      self.head = self.head.next\n",
        "      return\n",
        "\n",
        "    previous_node = self.head\n",
        "    for node in self:\n",
        "      if node.data == target_node_data:\n",
        "        previous_node.next = node.next\n",
        "        return\n",
        "      previous_node = node\n",
        "\n",
        "    raise Exception(f\"Node with data '{target_node_data}' not found\")\n",
        "\n",
        "  def get(self, pos):\n",
        "    if not self.head:\n",
        "      raise Exception(\"List is empty\")\n",
        "\n",
        "    for i, node in enumerate(self):\n",
        "      if i == pos:\n",
        "        return node.data\n",
        "\n",
        "    raise Exception(f\"Node not found for position {pos}\")\n"
      ],
      "execution_count": null,
      "outputs": []
    },
    {
      "cell_type": "code",
      "metadata": {
        "id": "eAhxBK2wcpXI"
      },
      "source": [
        "class Node:\n",
        "  def __init__(self, data):\n",
        "    self.data = data\n",
        "    self.next = None\n",
        "\n",
        "  def __repr__(self):\n",
        "    return f\"{self.data}\""
      ],
      "execution_count": null,
      "outputs": []
    },
    {
      "cell_type": "code",
      "metadata": {
        "id": "bsQeQtprmhxs"
      },
      "source": [
        "llist = LinkedList()\n",
        "llist.add_first(Node(3))\n",
        "print(llist.get(0))"
      ],
      "execution_count": null,
      "outputs": []
    },
    {
      "cell_type": "code",
      "metadata": {
        "id": "azvJE7xalzOU"
      },
      "source": [
        "n1 = Node(1)\n",
        "print(n1)"
      ],
      "execution_count": null,
      "outputs": []
    }
  ]
}
