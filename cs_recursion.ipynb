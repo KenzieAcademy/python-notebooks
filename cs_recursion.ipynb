{
  "nbformat": 4,
  "nbformat_minor": 0,
  "metadata": {
    "colab": {
      "name": "Python Recursion and Memoization.ipynb",
      "provenance": [],
      "collapsed_sections": []
    },
    "kernelspec": {
      "name": "python3",
      "display_name": "Python 3"
    }
  },
  "cells": [
    {
      "cell_type": "markdown",
      "metadata": {
        "id": "XJz5zST9-X7O"
      },
      "source": [
        "<table border=\"0\" align=\"left\" width=\"700\" height=\"144\">\n",
        "<tbody>\n",
        "<tr>\n",
        "<td width=\"120\"><img width=\"100\" src=\"https://static1.squarespace.com/static/5992c2c7a803bb8283297efe/t/59c803110abd04d34ca9a1f0/1530629279239/\" /></td>\n",
        "<td style=\"width: 600px; height: 67px;\">\n",
        "<h1 style=\"text-align: left;\">Recursion and Memoization</h1>\n",
        "<p><a href=\"https://colab.research.google.com/github/KenzieAcademy/python-notebooks/blob/master/cs_recursion.ipynb\"> <img src=\"https://colab.research.google.com/assets/colab-badge.svg\" alt=\"Open In Colab\" align=\"left\" width=\"188\" height=\"32\" /> </a></p>\n",
        "</td>\n",
        "</tr>\n",
        "<tr>\n",
        "<td width=\"200\" colspan=\"2\"><img src=\"https://codehs.gitbooks.io/apjava/content/static/algorithms/Algorithms_Recursion_Example.jpg\" width=\"200\" /></td>\n",
        "</tr>\n",
        "</tbody>\n",
        "</table>"
      ]
    },
    {
      "cell_type": "markdown",
      "metadata": {
        "id": "VrLcJgyxjUOl"
      },
      "source": [
        "* Wikipedia: *Recursion occurs when a thing is defined in terms of itself or of its type*\n",
        "* Merriam-Webster: *the determination of a succession of elements (such as numbers or functions) by operation on one or more preceding elements according to a rule or formula involving a finite number of steps.*\n",
        "\n",
        "Hmm...I'm still confused...\n",
        "\n",
        "This is a little better:\n",
        "* If the current problem represents a simple case, solve it. If not, divide it into subproblems and apply the same strategy to them.\n",
        "\n",
        "**What characterizes a recursive function?**\n",
        "1. A simple **base case** (or cases) — a terminating scenario that does not use recursion to produce an answer\n",
        "1. A **recursive step** — a set of rules that reduces all other cases toward the base case\n",
        "\n",
        "A more loose way to think about it is the following.\n",
        "* The **base case** represents the smallest problem that can be solved directly.\n",
        "* The **recursive step** represents each problem that cannot be solved directly."
      ]
    },
    {
      "cell_type": "code",
      "metadata": {
        "id": "hsZ-GeNdOb8P"
      },
      "source": [
        "# Countdown - iterative\n",
        "def i_countdown(n):\n",
        "  while n > 0:\n",
        "    print(n)\n",
        "    n -= 1"
      ],
      "execution_count": null,
      "outputs": []
    },
    {
      "cell_type": "code",
      "metadata": {
        "id": "r5Kq9DMWUQkn"
      },
      "source": [
        "i_countdown(5)"
      ],
      "execution_count": null,
      "outputs": []
    },
    {
      "cell_type": "code",
      "metadata": {
        "id": "9QDLi0XWO3Jl"
      },
      "source": [
        "# Countdown - recursive\n",
        "# which is the base case? which is the recursive case?\n",
        "def r_countdown(n):\n",
        "  if n <= 1:\n",
        "    return n\n",
        "  else:\n",
        "    print(n)\n",
        "    return r_countdown(n - 1)"
      ],
      "execution_count": null,
      "outputs": []
    },
    {
      "cell_type": "code",
      "metadata": {
        "id": "7LTMyOEfUS3Y"
      },
      "source": [
        "r_countdown(5)"
      ],
      "execution_count": null,
      "outputs": []
    },
    {
      "cell_type": "markdown",
      "metadata": {
        "id": "OHub_EOgUYqz"
      },
      "source": [
        "## Computing a Factorial"
      ]
    },
    {
      "cell_type": "markdown",
      "metadata": {
        "id": "SRjGk7RxP8ov"
      },
      "source": [
        "A more practical example would be that of computing a factorial. A factorial is a number multiplied by all positive numbers less than itself. It is expressed mathematically using an exclamation mark, where `5!` means \"5 factorial\".\n",
        "\n",
        "*Example*: 5! = 5 * 4 * 3 * 2 * 1\n",
        "\n",
        "This formula lends itself very well to a recursive approach. Why? Because it is the same step happening over and over with a reduced problem size each time.\n",
        "\n",
        "What is the simplest factorial? 1! So, let's use that as our base case. If all factorials must eventually arrive at 1, that is the simplest problem to act upon, and the point at which we want to stop.\n",
        "\n",
        "Consider if `n = 5`:\n",
        "1. `f(n)`\n",
        "1. If `n` is 1, return 1.\n",
        "1. Otherwise, return `n * f(n - 1)`"
      ]
    },
    {
      "cell_type": "code",
      "metadata": {
        "id": "TIZvitIli-lj"
      },
      "source": [
        "# Factorial - recursive\n",
        "def factorial(n):\n",
        "    if n == 1:\n",
        "        return n\n",
        "    return n * factorial(n-1)"
      ],
      "execution_count": null,
      "outputs": []
    },
    {
      "cell_type": "code",
      "metadata": {
        "id": "MyZT1ka2neEK"
      },
      "source": [
        "factorial(3)"
      ],
      "execution_count": null,
      "outputs": []
    },
    {
      "cell_type": "markdown",
      "metadata": {
        "id": "PiuDf9c9Uhlc"
      },
      "source": [
        "## Fibonacci"
      ]
    },
    {
      "cell_type": "markdown",
      "metadata": {
        "id": "GwUcKQXfUlZa"
      },
      "source": [
        "Another popular example is that of computing a number from the Fibonacci sequence. The Fibonacci sequence is a series of numbers that continues extending by adding each number with the number that came before it in order to produce the next number. The series begins with `0, 1` as a starting point.\n",
        "\n",
        "*Example*: 0, 1, 1, 2, 3, 5, 8, 13, 21, 34, 55, ...\n",
        "\n",
        "In this case, we want to compute a number from the Fibonacci sequence given a position within the sequence.\n",
        "\n",
        "*Note*: This is an example of a recursive function with multiple base cases."
      ]
    },
    {
      "cell_type": "code",
      "metadata": {
        "id": "qW7-J1KmV7NS"
      },
      "source": [
        "# Fibonacci - recursive\n",
        "def fib(n):\n",
        "  if n == 0:\n",
        "    return 0\n",
        "  elif n == 1:\n",
        "    return 1\n",
        "  else:\n",
        "    result = fib(n-1) + fib(n-2)\n",
        "    return result"
      ],
      "execution_count": null,
      "outputs": []
    },
    {
      "cell_type": "code",
      "metadata": {
        "id": "ML-QoHiTWRJP"
      },
      "source": [
        "fib(3)"
      ],
      "execution_count": null,
      "outputs": []
    },
    {
      "cell_type": "markdown",
      "metadata": {
        "id": "bWTCL7ZsvIhr"
      },
      "source": [
        "Here are a couple of crude diagrams representing each side of the `fib(n-1) + fib(n-2)` logic."
      ]
    },
    {
      "cell_type": "markdown",
      "metadata": {
        "id": "MrotnvzGb2E-"
      },
      "source": [
        "#### n = 3\n",
        "```\n",
        "  n-1   n   n-2\n",
        "-----------------\n",
        "        3\n",
        "  (2)   +   1\n",
        " 1 + 0\n",
        "```"
      ]
    },
    {
      "cell_type": "markdown",
      "metadata": {
        "id": "oLYWK9Yscp8z"
      },
      "source": [
        "#### n = 5\n",
        "```\n",
        "         n-1         n       n-2\n",
        "------------------------------------\n",
        "                     5\n",
        "         (4)         +       (3)\n",
        "    (3)   +   (2)    |   (2)  +  1\n",
        " (2) + 1  |  1 + 0   |  1 + 0\n",
        "1 + 0     |          |\n",
        "```"
      ]
    },
    {
      "cell_type": "markdown",
      "metadata": {
        "id": "oT_oD5TG-SdR"
      },
      "source": [
        "# Memoization"
      ]
    },
    {
      "cell_type": "markdown",
      "metadata": {
        "id": "vl3IiJccXa-b"
      },
      "source": [
        "**Memoization** is an optimization technique that can be thought of as \"caching\" values, or storing already-computed values, to be recalled later directly from memory rather than recalculating what has already been done.\n",
        "\n",
        "This technique applies very well to the fibonacci function above since it spends a lot of time recalculating the same values over and over."
      ]
    },
    {
      "cell_type": "code",
      "metadata": {
        "id": "-qorLvBmX9zJ"
      },
      "source": [
        "# Fibonacci with memoization\n",
        "memos = {}\n",
        "def m_fib(n):\n",
        "  if n in memos:\n",
        "    return memos[n]\n",
        "  if n == 0:\n",
        "    return 0\n",
        "  elif n == 1:\n",
        "    return 1\n",
        "  else:\n",
        "    result = m_fib(n-1) + m_fib(n-2)\n",
        "    memos[n] = result\n",
        "    return result"
      ],
      "execution_count": null,
      "outputs": []
    },
    {
      "cell_type": "code",
      "metadata": {
        "id": "Srg7JzIeYL4d"
      },
      "source": [
        "m_fib(7)"
      ],
      "execution_count": null,
      "outputs": []
    },
    {
      "cell_type": "code",
      "metadata": {
        "id": "xSyIIhe6Yz46"
      },
      "source": [
        "import time\n",
        "\"\"\"\n",
        "Be careful with this with the non-memoized `fib()` function!\n",
        "Its time cost grows very quickly as `n` grows!\n",
        "i.e., `n = 40` could take 30+ seconds\n",
        "\n",
        "If you want to experiment with larger values for `n`, do so\n",
        "outside of this Colab environment. Copy the `fib()` function\n",
        "to your own computer.\n",
        "\"\"\"\n",
        "n = 40"
      ],
      "execution_count": null,
      "outputs": []
    },
    {
      "cell_type": "code",
      "metadata": {
        "id": "xj4kT8WIYmdz"
      },
      "source": [
        "start_time = time.time()\n",
        "fib(n)\n",
        "print(f\"without memoization, fib({n}): {time.time() - start_time:.6f} seconds\")"
      ],
      "execution_count": null,
      "outputs": []
    },
    {
      "cell_type": "code",
      "metadata": {
        "id": "-ZufslZsYtDg"
      },
      "source": [
        "start_time = time.time()\n",
        "print(m_fib(n))\n",
        "print(f\"with memoization, m_fib({n}): {time.time() - start_time:.6f} seconds\")"
      ],
      "execution_count": null,
      "outputs": []
    },
    {
      "cell_type": "markdown",
      "metadata": {
        "id": "O3KOu7wYwnEA"
      },
      "source": [
        "*Note*: The memoized version of the function, `m_fib(n)`, can easily handle values of `n` of 500 and greater. Again, **experiment with larger values for `n` only on your own computer and not in this Colab notebook environment**!"
      ]
    },
    {
      "cell_type": "markdown",
      "metadata": {
        "id": "4U4gv9hc9-Rd"
      },
      "source": [
        "# Final Thoughts"
      ]
    },
    {
      "cell_type": "markdown",
      "metadata": {
        "id": "ALBSO2jH-eNa"
      },
      "source": [
        "<img src=\"https://files.realpython.com/media/fixing_problems.ffd6d34e887e.png\" />\n",
        "\n",
        "[Google: \"recursion\"](https://www.google.com/search?hl=en&q=recursion)"
      ]
    }
  ]
}