{
  "nbformat": 4,
  "nbformat_minor": 0,
  "metadata": {
    "colab": {
      "name": "Exploring Dictionaries.ipynb",
      "provenance": [],
      "collapsed_sections": []
    },
    "kernelspec": {
      "name": "python3",
      "display_name": "Python 3"
    }
  },
  "cells": [
    {
      "cell_type": "markdown",
      "metadata": {
        "id": "C0YcrsibAmkf",
        "colab_type": "text"
      },
      "source": [
        "<table border=\"0\" align=\"left\" width=\"700\" height=\"144\">\n",
        "<tbody>\n",
        "<tr>\n",
        "<td width=\"120\"><img width=\"100\" src=\"https://static1.squarespace.com/static/5992c2c7a803bb8283297efe/t/59c803110abd04d34ca9a1f0/1530629279239/\" /></td>\n",
        "<td style=\"width: 600px; height: 67px;\">\n",
        "<h1 style=\"text-align: left;\">Exploring Python Dictionaries</h1>\n",
        "<p><a href=\"https://colab.research.google.com/github/KenzieAcademy/python-notebooks/blob/master/demo_dictionaries.ipynb\"> <img src=\"https://colab.research.google.com/assets/colab-badge.svg\" alt=\"Open In Colab\" align=\"left\" width=\"188\" height=\"32\" /> </a></p>\n",
        "</td>\n",
        "</tr>\n",
        "</tbody>\n",
        "</table>"
      ]
    },
    {
      "cell_type": "markdown",
      "metadata": {
        "id": "ihU3VHNSZfZx",
        "colab_type": "text"
      },
      "source": [
        "### About dictionaries\n",
        "Dictionaries are collections of key/value pairs. They can be used to store data in a more associative way than lists or tuples since you are not limited to using sequence positioning to access values. Between Python language operators, keywords, and built-in dictionary methods, there are many ways to interact with dictionaries. Let's learn more about dictionaries and take a look at how to leverage them as one of the most frequently used data types in Python.\n",
        "\n",
        "### What are the properties of a dictionary?\n",
        "When discussing Python data types, it is important to point out that each object type has certain characteristics about it that allow it to fit within the language in different ways. Here are the characteristics of a dictionary.\n",
        "\n",
        "Mutable? | Sequence? | Ordered? | Iterable?\n",
        "--- | --- | --- | ---\n",
        "Yes | No | Yes | Yes\n",
        "\n",
        "* Dictionaries are **mutable** because their values can be changed in-place as opposed to creating a new dictionary object each time they are modified.\n",
        "* Dictionaries are **not sequences** since you cannot access items by their position within the dictionary.\n",
        "* Dictionaries are **ordered** data types, officially, as of Python 3.7, meaning that the order in which items are added to them is retained.\n",
        "* Dictionaries are **iterable** since you can iterate, or loop, over them."
      ]
    },
    {
      "cell_type": "markdown",
      "metadata": {
        "id": "Ma6-XB6iWp4B",
        "colab_type": "text"
      },
      "source": [
        "### **Creating a dictionary object**\n",
        "A dictionary can be defined using the literal syntax `{}` or the built-in `dict()` function.\n",
        "\n",
        "The literal syntax accepts any number of key/value pairs delimited by a colon `:` character."
      ]
    },
    {
      "cell_type": "code",
      "metadata": {
        "id": "nESshE8YXv5x",
        "colab_type": "code",
        "colab": {}
      },
      "source": [
        "# dictionary object to use throughout the notebook\n",
        "# TODO: create a dictionary based on some topic (sports cities/teams, authors/books, etc.)\n",
        "instructors = {\n",
        "    'Randy': 'Q1',\n",
        "    'Vince': 'Q2',\n",
        "    'Daniel': 'Q3',\n",
        "    'Joe': 'Q4'\n",
        "}  # TODO: rename this based on the chosen topic"
      ],
      "execution_count": null,
      "outputs": []
    },
    {
      "cell_type": "markdown",
      "metadata": {
        "id": "D4X0_aHGXzfL",
        "colab_type": "text"
      },
      "source": [
        "The `dict()` function accepts any number of key/value pairs delimited by an equal `=` sign. As far as coding style goes, keyword arguments to functions should be done using a \"tight equals\" for assignment (no spaces around it) since the keyword and value are very tightly coupled.\n",
        "\n",
        "Some reasons you might choose the `dict()` option over the literal syntax are:\n",
        "* if you have related data in another iterable collection, but want to convert it to a dictionary\n",
        "* if you have two related, but separate, lists of data and you want to combine them into a dictionary\n",
        "* if you want to create a new dictionary that extends an existing one"
      ]
    },
    {
      "cell_type": "code",
      "metadata": {
        "id": "JrVeBAxkYTfB",
        "colab_type": "code",
        "colab": {}
      },
      "source": [
        "d1 = dict(a='A', b='B', c='C')  # dictionary from basic key=value arguments\n",
        "d2 = dict(**d1)  # dictionary from unpacked key=value pairs\n",
        "d3 = dict([('a', 'A'), ('b', 'B'), ('c', 'C')])  # dictionary from a list of tuples\n",
        "d4 = dict(zip(['a', 'b', 'c'], ['A', 'B', 'C']))  # dictionary from two lists using zip()\n",
        "d5 = dict(d1, d='D')  # create a new dictionary that extends an existing one\n",
        "\n",
        "print(d1, d2, d3, d4, d5, sep='\\n')"
      ],
      "execution_count": null,
      "outputs": []
    },
    {
      "cell_type": "markdown",
      "metadata": {
        "id": "gb6QTubQWaGN",
        "colab_type": "text"
      },
      "source": [
        "Another way to create a dictionary is using the `dict.fromkeys()` method.\n",
        "* `dict.fromkeys(iterable, value=None)` &mdash; create a new dictionary with keys from `iterable` and values set to `value`"
      ]
    },
    {
      "cell_type": "code",
      "metadata": {
        "id": "9HMukS8RXBrq",
        "colab_type": "code",
        "colab": {}
      },
      "source": [
        "d6 = dict.fromkeys(['a', 'b', 'c'], 1)\n",
        "print(d6)"
      ],
      "execution_count": null,
      "outputs": []
    },
    {
      "cell_type": "markdown",
      "metadata": {
        "id": "dwp6vK7ocMjG",
        "colab_type": "text"
      },
      "source": [
        "### **Accessing keys and values of a dictionary**\n",
        "* `[]` &mdash; Index the dictionary by key name\n",
        "* `dict.get(key, None)` &mdash; return the value for a given key if it exists, otherwise return the default value\n",
        "* `dict.items()` &mdash; return all key/value pairs from a dictionary as a list of tuples\n",
        "* `dict.keys()` &mdash; return all keys from a dictionary as a list\n",
        "* `dict.values()` &mdash; return all values from a dictionary as a list"
      ]
    },
    {
      "cell_type": "code",
      "metadata": {
        "id": "8g5ckO5pcQQY",
        "colab_type": "code",
        "colab": {}
      },
      "source": [
        "# retrieve a value by key, using indexing\n",
        "v1 = instructors['Randy']  # TODO: replace this dictionary name and key based on the chosen topic\n",
        "# retrieve a value by key, using the get() method\n",
        "v2 = instructors.get('Daniel', 'Facilitator')  # TODO: replace this dictionary name and key based on the chosen topic\n",
        "print(v1, v2, sep='\\n')"
      ],
      "execution_count": null,
      "outputs": []
    },
    {
      "cell_type": "code",
      "metadata": {
        "id": "XJvP5ZyyPnWE",
        "colab_type": "code",
        "colab": {}
      },
      "source": [
        "# TODO: replace underscores with dictionary name\n",
        "items = instructors.items()\n",
        "keys = instructors.keys()\n",
        "values = instructors.values()\n",
        "\n",
        "print(items, keys, values, sep='\\n')"
      ],
      "execution_count": null,
      "outputs": []
    },
    {
      "cell_type": "code",
      "metadata": {
        "id": "CFHf7-rXLQd0",
        "colab_type": "code",
        "colab": {}
      },
      "source": [
        "for k, v in instructors.items():\n",
        "  print(f\"{k}:\\t{v}\")"
      ],
      "execution_count": null,
      "outputs": []
    },
    {
      "cell_type": "code",
      "metadata": {
        "id": "5dtuHhKsLR4u",
        "colab_type": "code",
        "colab": {}
      },
      "source": [
        "for k in instructors:\n",
        "  print(k)"
      ],
      "execution_count": null,
      "outputs": []
    },
    {
      "cell_type": "code",
      "metadata": {
        "id": "H2jXbbWILT-P",
        "colab_type": "code",
        "colab": {}
      },
      "source": [
        "for k in instructors.keys():\n",
        "  print(k)"
      ],
      "execution_count": null,
      "outputs": []
    },
    {
      "cell_type": "code",
      "metadata": {
        "id": "uJeZqeWDLVMe",
        "colab_type": "code",
        "colab": {}
      },
      "source": [
        "for v in instructors.values():\n",
        "  print(v)"
      ],
      "execution_count": null,
      "outputs": []
    },
    {
      "cell_type": "markdown",
      "metadata": {
        "id": "O_dlbCEYsvKL",
        "colab_type": "text"
      },
      "source": [
        "### **KeyErrors**\n",
        "If you try to access a key that does not exist, you will be met with a KeyError exception."
      ]
    },
    {
      "cell_type": "code",
      "metadata": {
        "id": "Zzc1aBsvr4le",
        "colab_type": "code",
        "colab": {}
      },
      "source": [
        "# accessing a key that does not exist\n",
        "instructors['JT']  # TODO: replace underscore with dictionary name"
      ],
      "execution_count": null,
      "outputs": []
    },
    {
      "cell_type": "markdown",
      "metadata": {
        "id": "C63RlhI6sc8F",
        "colab_type": "text"
      },
      "source": [
        "#### Avoiding KeyErrors\n",
        "You can use \"short-circuit evaluation\" to test for the existence of a key before accessing it."
      ]
    },
    {
      "cell_type": "code",
      "metadata": {
        "id": "OvT2Kdd3sT2A",
        "colab_type": "code",
        "colab": {}
      },
      "source": [
        "# TODO: replace underscores with dictionary name\n",
        "print('JT' in instructors and instructors['JT'])\n",
        "print('Vince' in instructors and instructors['Vince'])  # TODO: replace key with one that exists"
      ],
      "execution_count": null,
      "outputs": []
    },
    {
      "cell_type": "markdown",
      "metadata": {
        "id": "ULg2BmTyu8K0",
        "colab_type": "text"
      },
      "source": [
        "You can also use the `dict.get()` method, optionally specifying a default value to return if the given key is not found in the dictionary."
      ]
    },
    {
      "cell_type": "code",
      "metadata": {
        "id": "v4mIT39Mu7vt",
        "colab_type": "code",
        "colab": {}
      },
      "source": [
        "# TODO: replace underscores with dictionary name\n",
        "print(instructors.get('JT'))\n",
        "print(instructors.get('JT', 'sorry'))"
      ],
      "execution_count": null,
      "outputs": []
    },
    {
      "cell_type": "markdown",
      "metadata": {
        "id": "-XqUxZthYcyT",
        "colab_type": "text"
      },
      "source": [
        "### **Adding an item to a dictionary**\n",
        "* `[]` &mdash; Assign to a new key using square brackets\n",
        "* `dict.setdefault(key, value)` &mdash; create a new key with the given value if it does not already exist, otherwise return its value"
      ]
    },
    {
      "cell_type": "code",
      "metadata": {
        "id": "PiHrRs-9YfuK",
        "colab_type": "code",
        "colab": {}
      },
      "source": [
        "# TODO: replace underscores with dictionary name\n",
        "instructors['Timothy'] = 'Angular'\n",
        "print(instructors)"
      ],
      "execution_count": null,
      "outputs": []
    },
    {
      "cell_type": "code",
      "metadata": {
        "id": "EVl8t0Biv5An",
        "colab_type": "code",
        "colab": {}
      },
      "source": [
        "# TODO: replace underscores with dictionary name\n",
        "instructors.setdefault('Timothy', 'Quantum Computing')  # TODO: replace arguments with an existing key and new value, respectively\n",
        "instructors.setdefault('Marcel', 'Go')  # TODO: replace arguments with a new key and value, respectively\n",
        "print(instructors)"
      ],
      "execution_count": null,
      "outputs": []
    },
    {
      "cell_type": "markdown",
      "metadata": {
        "id": "YguHNgMLYgDd",
        "colab_type": "text"
      },
      "source": [
        "### **Updating an item within a dictionary**\n",
        "* `[]` &mdash; Reassign to an existing key using square brackets\n",
        "* `dict.update()` &mdash; update a dictionary from another dictionary or iterable containing key/value pairs"
      ]
    },
    {
      "cell_type": "code",
      "metadata": {
        "id": "5nAakIZfYjdJ",
        "colab_type": "code",
        "colab": {}
      },
      "source": [
        "# TODO: replace underscores with dictionary name\n",
        "instructors['Timothy'] = 'Quantum Computing'  # TODO: replace key and value with an existing key and a new value\n",
        "print(instructors)\n",
        "\n",
        "# TODO: update with dictionary including existing keys with new values and at least one new key/value\n",
        "instructors.update({ 'Marcel': 'Golang', 'Daniel': 'Python', 'Michael': 'Machine Learning' })\n",
        "print(instructors)"
      ],
      "execution_count": null,
      "outputs": []
    },
    {
      "cell_type": "markdown",
      "metadata": {
        "id": "399kZ1cxYjye",
        "colab_type": "text"
      },
      "source": [
        "### **Removing an item from a dictionary**\n",
        "* `del` &mdash; Python language keyword for removing an object reference\n",
        "* `dict.pop(key)` &mdash; remove the given key from the dictionary and return its value\n",
        "* `dict.popitem()` &mdash; remove and return the last key/value pair of a dictionary as a tuple"
      ]
    },
    {
      "cell_type": "code",
      "metadata": {
        "id": "nDyuNfeDYl21",
        "colab_type": "code",
        "colab": {}
      },
      "source": [
        "# TODO: replace underscores with dictionary name\n",
        "print(instructors)\n",
        "del instructors['Marcel']  # TODO: replace empty string with an existing key\n",
        "del instructors['Randy']  # TODO: replace empty string with an existing key\n",
        "del instructors['Joe']  # TODO: replace empty string with an existing key\n",
        "del instructors['Vince']  # TODO: replace empty string with an existing key\n",
        "print(instructors)"
      ],
      "execution_count": null,
      "outputs": []
    },
    {
      "cell_type": "code",
      "metadata": {
        "id": "96a9fI0jP1nW",
        "colab_type": "code",
        "colab": {}
      },
      "source": [
        "item = instructors.pop('Timothy')  # TODO: replace empty string with an existing key\n",
        "print(item)\n",
        "print(instructors)"
      ],
      "execution_count": null,
      "outputs": []
    },
    {
      "cell_type": "code",
      "metadata": {
        "id": "6k2vaAP5P_p3",
        "colab_type": "code",
        "colab": {}
      },
      "source": [
        "item = instructors.popitem()\n",
        "print(item)\n",
        "print(instructors)"
      ],
      "execution_count": null,
      "outputs": []
    },
    {
      "cell_type": "markdown",
      "metadata": {
        "id": "DmfNXcIQqrKl",
        "colab_type": "text"
      },
      "source": [
        "### **Checking for the existence of a key or value in a dictionary**\n",
        "* `in` &mdash; Python's membership operator"
      ]
    },
    {
      "cell_type": "code",
      "metadata": {
        "id": "qcvRchATV3HO",
        "colab_type": "code",
        "colab": {}
      },
      "source": [
        "# First, let's put everyone back into the dictionary\n",
        "instructors = {\n",
        "    'Randy': 'Q1',\n",
        "    'Vince': 'Q2',\n",
        "    'Daniel': 'Q3',\n",
        "    'Joe': 'Q4',\n",
        "    'Timothy': 'Quantum Computing',\n",
        "    'Marcel': 'Golang',\n",
        "    'Michael': 'Machine Learning'\n",
        "}"
      ],
      "execution_count": null,
      "outputs": []
    },
    {
      "cell_type": "code",
      "metadata": {
        "id": "yd_boDA0q3UQ",
        "colab_type": "code",
        "colab": {}
      },
      "source": [
        "# TODO: replace underscores with dictionary name\n",
        "# does a given key exist in the dictionary? - key is the default iterable of a dictionary\n",
        "print('Randy' in instructors)  # TODO: replace empty string with an existing key\n",
        "print('JT' in instructors)  # TODO: replace empty string with a non-existent key\n",
        "\n",
        "print('Randy' in instructors.keys())  # TODO: replace empty string with an existing key\n",
        "print('JT' in instructors.keys())  # TODO: replace empty string with a non-existent key"
      ],
      "execution_count": null,
      "outputs": []
    },
    {
      "cell_type": "code",
      "metadata": {
        "id": "BTdfgAMGrROD",
        "colab_type": "code",
        "colab": {}
      },
      "source": [
        "# TODO: replace underscores with dictionary name\n",
        "# does a given value exist in the dictionary? - key is the default iterable of a dictionary\n",
        "print('Q1' in instructors)  # TODO: replace empty string with an existing value\n",
        "print('Q1' in instructors.values())  # TODO: replace empty string with an existing value"
      ],
      "execution_count": null,
      "outputs": []
    },
    {
      "cell_type": "markdown",
      "metadata": {
        "id": "93herZ9-YWJ3",
        "colab_type": "text"
      },
      "source": [
        "### **What can a dictionary contain?**\n",
        "#### Keys can be any hashable data type."
      ]
    },
    {
      "cell_type": "code",
      "metadata": {
        "id": "bJTrZKwhO1PT",
        "colab_type": "code",
        "colab": {}
      },
      "source": [
        "d = {\n",
        "    5: 'test',  # integer as a key\n",
        "    'name': 'test',  # string as a key\n",
        "    (1, 2): 'test'  # tuple as a key\n",
        "}\n",
        "print(d)"
      ],
      "execution_count": null,
      "outputs": []
    },
    {
      "cell_type": "code",
      "metadata": {
        "id": "BgQMElPEm9Lt",
        "colab_type": "code",
        "colab": {}
      },
      "source": [
        "# trying to use a mutable type as a dictionary key\n",
        "d = {\n",
        "    [1, 2]: 'some value'\n",
        "}"
      ],
      "execution_count": null,
      "outputs": []
    },
    {
      "cell_type": "code",
      "metadata": {
        "id": "uyDj-4YuR8Uu",
        "colab_type": "code",
        "colab": {}
      },
      "source": [
        "# What will this do?\n",
        "d = {\n",
        "    0: 'zero',\n",
        "    False: None\n",
        "}\n",
        "print(d)\n",
        "\n",
        "# Because True/False are derived from the `int` class as 1 and 0 respectively, this\n",
        "# dictionary definition will define a key of 0 with the value 'zero' and then\n",
        "# immediately overwrite its value with None since False will be interpreted as 0."
      ],
      "execution_count": null,
      "outputs": []
    },
    {
      "cell_type": "code",
      "metadata": {
        "id": "fGh0lbu6l1YI",
        "colab_type": "code",
        "colab": {}
      },
      "source": [
        "# how about this for fun?\n",
        "def square(x):\n",
        "  return x * x\n",
        "\n",
        "d = {\n",
        "    square: 4,  # function as a key\n",
        "    lambda x: x + 1: 5  # lambda as a key\n",
        "}\n",
        "\n",
        "print(d)"
      ],
      "execution_count": null,
      "outputs": []
    },
    {
      "cell_type": "code",
      "metadata": {
        "id": "aL20m0k_m5XY",
        "colab_type": "code",
        "colab": {}
      },
      "source": [
        "# Run each function from the keys defined above, using each key's value as the argument to the function\n",
        "for k, v in d.items():\n",
        "  print(k(v))"
      ],
      "execution_count": null,
      "outputs": []
    },
    {
      "cell_type": "markdown",
      "metadata": {
        "id": "MUfeXmteoFDT",
        "colab_type": "text"
      },
      "source": [
        "#### Values can be any data type at all!"
      ]
    },
    {
      "cell_type": "code",
      "metadata": {
        "id": "pZEj_SMwoHOo",
        "colab_type": "code",
        "colab": {}
      },
      "source": [
        "import math\n",
        "\n",
        "d = {\n",
        "    'test1': 5,  # integer as a value\n",
        "    'test2': 'string',  # string as a value\n",
        "    'test3': (1, 2),  # tuple as a value\n",
        "    'test4': [1, 2],  # list as a value\n",
        "    'test5': {'one': 1, 'two': 2},  # dictionary as a value\n",
        "    'test6': lambda x: x + 1,  # function as a value\n",
        "    'test7': math  # module as a value\n",
        "}\n",
        "\n",
        "for v in d.values():\n",
        "  print(v)"
      ],
      "execution_count": null,
      "outputs": []
    },
    {
      "cell_type": "markdown",
      "metadata": {
        "id": "1BTNLqwMb-oH",
        "colab_type": "text"
      },
      "source": [
        "### **What does \"hashable\" mean?**\n",
        "*Hashing* is the process of using an algorithm to map data of any size to a fixed length, called a *hash value*. Hashing is used to create high performance, direct access data structures for storing and accessing data quickly.\n",
        "\n",
        "An object that is *hashable* has a hash value that does not change during its lifetime. The main idea is that if you throw two objects at a hash function and get the same hash value back, the two objects are equivalent. Let's explore this idea a little bit using Python's built-in `hash()` function."
      ]
    },
    {
      "cell_type": "code",
      "metadata": {
        "id": "iIBbl-3DcEo9",
        "colab_type": "code",
        "colab": {}
      },
      "source": [
        "# hash strings\n",
        "print(f\"Hash of '':\\t{hash('')}\")\n",
        "print(f\"Hash of 'hi':\\t{hash('hi')}\")\n",
        "print(f\"Hash of 'hi':\\t{hash('hi')}\")"
      ],
      "execution_count": null,
      "outputs": []
    },
    {
      "cell_type": "code",
      "metadata": {
        "id": "UleG15szjT8O",
        "colab_type": "code",
        "colab": {}
      },
      "source": [
        "# hash tuples\n",
        "print(f\"Hash of (1, 2):\\t{hash((1, 2))}\")\n",
        "print(f\"Hash of (1, 3):\\t{hash((1, 3))}\")\n",
        "print(f\"Hash of (1, 3):\\t{hash((1, 3))}\")"
      ],
      "execution_count": null,
      "outputs": []
    },
    {
      "cell_type": "code",
      "metadata": {
        "id": "ETnUzN5adOFl",
        "colab_type": "code",
        "colab": {}
      },
      "source": [
        "# hash a list\n",
        "print(f\"Hash of [1, 2]:\\t{hash([1, 2])}\")"
      ],
      "execution_count": null,
      "outputs": []
    }
  ]
}