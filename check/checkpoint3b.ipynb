{
  "nbformat": 4,
  "nbformat_minor": 0,
  "metadata": {
    "colab": {
      "name": "checkpoint3b.ipynb",
      "provenance": [],
      "collapsed_sections": []
    },
    "kernelspec": {
      "name": "python3",
      "display_name": "Python 3"
    }
  },
  "cells": [
    {
      "cell_type": "markdown",
      "metadata": {
        "id": "wZu0CJ054mZk"
      },
      "source": [
        "<table align=left width=\"590\" height=\"144\" style=\"height: 67px; width: 565px;\">\n",
        "<tbody>\n",
        "<tr>\n",
        "<td style=\"width: 422px; height: 67px;\">\n",
        "<h1 style=\"text-align: left;\">Python Foundations</h1>\n",
        "<h2 style=\"text-align: left;\">Checkpoint 3B</h2>\n",
        "</td>\n",
        "</tr>\n",
        "</tbody>\n",
        "</table>"
      ]
    },
    {
      "cell_type": "code",
      "metadata": {
        "id": "5LeUhxORcYZ5"
      },
      "source": [
        "from datetime import datetime as dt\n",
        "\n",
        "# Fill in the __author__ string with your name and run this cell.\n",
        "__author__ = \"???\"\n",
        "start_time = dt.utcnow()\n",
        "print(f\"Author: {__author__}\")\n",
        "print(f\"Start Time: {start_time} UTC\")"
      ],
      "execution_count": null,
      "outputs": []
    },
    {
      "cell_type": "markdown",
      "metadata": {
        "id": "EnAMvbT9HGz4"
      },
      "source": [
        "## 1."
      ]
    },
    {
      "cell_type": "code",
      "metadata": {
        "id": "7LPp2lbSEso_"
      },
      "source": [
        "# Fix the following class definition so that there are no more syntax errors.\n",
        "\n",
        "cls MyClass\n",
        "  def __repr__(self):\n",
        "    return \"OK\"\n",
        "\n",
        "# do not modify this code\n",
        "print(MyClass())"
      ],
      "execution_count": null,
      "outputs": []
    },
    {
      "cell_type": "markdown",
      "metadata": {
        "id": "b5rRWStkHG4o"
      },
      "source": [
        "## 2."
      ]
    },
    {
      "cell_type": "code",
      "metadata": {
        "id": "SEHv5SSfm-AT"
      },
      "source": [
        "# Create a class named `MyClass`. When instantiated below\n",
        "# using `m = MyClass(5)`, its initializer method should\n",
        "# assign the argument `5` as an instance variable named `x`.\n",
        "\n",
        "# your code here\n",
        "\n",
        "# do not modify this code\n",
        "m = MyClass(5)\n",
        "expected = 5\n",
        "'OK' if m.x == expected else f'Test Failed: {m.x} != {expected}'"
      ],
      "execution_count": null,
      "outputs": []
    },
    {
      "cell_type": "markdown",
      "metadata": {
        "id": "k8e4LZGs8b3m"
      },
      "source": [
        "## 3."
      ]
    },
    {
      "cell_type": "code",
      "metadata": {
        "id": "cfvfQujj8eR6"
      },
      "source": [
        "# Within the `Dog` class below, add a new method named `bark`, which should\n",
        "# print whatever you would like your dog to say. Then, use the `Dog` class to\n",
        "# create an instance of a dog and make it bark!\n",
        "\n",
        "class Dog:\n",
        "  def __init__(self, name):\n",
        "    self.name = name\n",
        "\n",
        "  # your code here\n",
        "\n",
        "\n",
        "# do not modify this code\n",
        "try:\n",
        "  Dog(\"Fido\").__getattribute__(\"bark\")\n",
        "except AttributeError as e:\n",
        "  print(f'Test Failed: {e}')\n",
        "else:\n",
        "  print(\"OK\")"
      ],
      "execution_count": null,
      "outputs": []
    },
    {
      "cell_type": "markdown",
      "metadata": {
        "id": "Mkoo420I8f2k"
      },
      "source": [
        "## 4."
      ]
    },
    {
      "cell_type": "code",
      "metadata": {
        "id": "btbvrCwU8gxY"
      },
      "source": [
        "# Create a class named `Kitten` that inherits from the `Cat` class defined\n",
        "# below.\n",
        "# When instantiated, the `Kitten` class initializer should accept a name as\n",
        "# an argument and store that name as an instance variable.\n",
        "# Then, create an instance of a kitten and make it meow!\n",
        "\n",
        "# do not modify this class\n",
        "class Cat:\n",
        "  def meow(self):\n",
        "    print(\"MEOOOOOW\")\n",
        "\n",
        "\n",
        "# your code here\n",
        "\n",
        "\n",
        "# do not modify this code\n",
        "try:\n",
        "  Kitten(\"Felix\").__getattribute__(\"name\")\n",
        "  Kitten(\"Felix\").__getattribute__(\"meow\")\n",
        "except AttributeError as e:\n",
        "  print(f'Test Failed: {e}')\n",
        "else:\n",
        "  print(\"OK\")"
      ],
      "execution_count": null,
      "outputs": []
    },
    {
      "cell_type": "markdown",
      "metadata": {
        "id": "pS1ZjRRS8iT_"
      },
      "source": [
        "## 5."
      ]
    },
    {
      "cell_type": "code",
      "metadata": {
        "id": "oQO0mwgg8jSN"
      },
      "source": [
        "# Create a class named `Kitten` that inherits from the `Cat` class defined\n",
        "# below.\n",
        "# When instantiated, the `Kitten` class initializer should accept a name as\n",
        "# an argument and store that name as an instance variable.\n",
        "# Then, within the `Kitten` class, override the `meow` method that was\n",
        "# inherited from the `Cat` class so that it prints whatever you would like\n",
        "# your kitten to say.\n",
        "\n",
        "# do not modify this code\n",
        "if globals().get(\"Kitten\"):\n",
        "  del Kitten\n",
        "class Cat:\n",
        "  def meow(self):\n",
        "    raise NotImplementedError(\n",
        "      \"Test Failed: `meow` method was not overriden in the `Kitten` class\"\n",
        "    )\n",
        "    print(\"MEOOOOOW\")\n",
        "\n",
        "\n",
        "# your code here\n",
        "\n",
        "\n",
        "# do not modify this code\n",
        "try:\n",
        "  k = Kitten(\"Felix\")\n",
        "  k.__getattribute__(\"name\")\n",
        "  k.__getattribute__(\"meow\")\n",
        "except AttributeError as e:\n",
        "  print(f'Test Failed: {e}')\n",
        "else:\n",
        "  k.meow()\n",
        "  print(\"OK\")"
      ],
      "execution_count": null,
      "outputs": []
    },
    {
      "cell_type": "markdown",
      "metadata": {
        "id": "C3MxnK4BWOjp"
      },
      "source": [
        "# Please run the final cell below to conclude."
      ]
    },
    {
      "cell_type": "code",
      "metadata": {
        "id": "zuSg-c4WWVuZ"
      },
      "source": [
        "# Wrapping up\n",
        "end_time = dt.utcnow()\n",
        "print(f\"End Time: {end_time} UTC\")\n",
        "print(f\"Duration: {end_time - start_time}\")"
      ],
      "execution_count": null,
      "outputs": []
    },
    {
      "cell_type": "markdown",
      "metadata": {
        "id": "ebGc7MyNXloO"
      },
      "source": [
        "# The End\n",
        "Now, use the **File** menu above and select **Download .ipynb**. Save the file to your computer and submit it for the **Checkpoint 3B** assessment."
      ]
    }
  ]
}