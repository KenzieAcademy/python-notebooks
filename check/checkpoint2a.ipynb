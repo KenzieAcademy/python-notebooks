{
  "nbformat": 4,
  "nbformat_minor": 0,
  "metadata": {
    "colab": {
      "name": "Checkpoint2a.ipynb",
      "provenance": [],
      "collapsed_sections": []
    },
    "kernelspec": {
      "name": "python3",
      "display_name": "Python 3"
    }
  },
  "cells": [
    {
      "cell_type": "markdown",
      "metadata": {
        "id": "wZu0CJ054mZk"
      },
      "source": [
        "<table align=left width=\"590\" height=\"144\" style=\"height: 67px; width: 565px;\">\n",
        "<tbody>\n",
        "<tr>\n",
        "<td width=82><img alt=\"\" src=\"https://static1.squarespace.com/static/5992c2c7a803bb8283297efe/t/59c803110abd04d34ca9a1f0/1530629279239/\" /></td>\n",
        "<td style=\"width: 422px; height: 67px;\">\n",
        "<h1 style=\"text-align: left;\">Python Foundations</h1>\n",
        "<h2 style=\"text-align: left;\">Checkpoint 2A</h2>\n",
        "</td>\n",
        "</tr>\n",
        "</tbody>\n",
        "</table>"
      ]
    },
    {
      "cell_type": "code",
      "metadata": {
        "id": "5LeUhxORcYZ5"
      },
      "source": [
        "from datetime import datetime as dt\n",
        "\n",
        "# Fill in the __author__ string with your name and run this cell.\n",
        "__author__ = \"???\"\n",
        "start_time = dt.utcnow()\n",
        "print(f\"Author: {__author__}\")\n",
        "print(f\"Start Time: {start_time} UTC\")"
      ],
      "execution_count": null,
      "outputs": []
    },
    {
      "cell_type": "markdown",
      "metadata": {
        "id": "J22SGfBh6AoC"
      },
      "source": [
        "# Lists"
      ]
    },
    {
      "cell_type": "markdown",
      "metadata": {
        "id": "IXG7MKDc53km"
      },
      "source": [
        "## 1."
      ]
    },
    {
      "cell_type": "code",
      "metadata": {
        "id": "MpQKIxJP54JM"
      },
      "source": [
        "# Using list methods, add the numbers 1, 2, and 3 to the end of the `nums` list\n",
        "# defined below.\n",
        "nums = [9, 8, 17]\n",
        "\n",
        "# your code here\n",
        "\n",
        "# do not modify this code\n",
        "expected = [9, 8, 17, 1, 2, 3]\n",
        "'OK' if nums == expected else f'Test Failed: {nums} != {expected}'"
      ],
      "execution_count": null,
      "outputs": []
    },
    {
      "cell_type": "markdown",
      "metadata": {
        "id": "7_05QpeA6Fdo"
      },
      "source": [
        "## 2."
      ]
    },
    {
      "cell_type": "code",
      "metadata": {
        "id": "BJGJ2cd76BUv"
      },
      "source": [
        "# Using list methods, place a -2 at the beginning of the `nums` list defined below.\n",
        "nums = [9, 8, 17, 1, 3]\n",
        "\n",
        "# your code here\n",
        "\n",
        "# do not modify this code\n",
        "expected = [-2, 9, 8, 17, 1, 3]\n",
        "'OK' if nums == expected else f'Test Failed: {nums} != {expected}'"
      ],
      "execution_count": null,
      "outputs": []
    },
    {
      "cell_type": "markdown",
      "metadata": {
        "id": "m5MA_gNiGHlR"
      },
      "source": [
        "## 3."
      ]
    },
    {
      "cell_type": "code",
      "metadata": {
        "id": "0gSWVymEGIFx"
      },
      "source": [
        "# Using list methods, remove the value 17 from the `nums` list defined below.\n",
        "nums = [-2, 9, 8, 17, 1, 3]\n",
        "\n",
        "# your code here\n",
        "\n",
        "# do not modify this code\n",
        "expected = [-2, 9, 8, 1, 3]\n",
        "'OK' if nums == expected else f'Test Failed: {nums} != {expected}'"
      ],
      "execution_count": null,
      "outputs": []
    },
    {
      "cell_type": "markdown",
      "metadata": {
        "id": "XmKDFw9WGIxy"
      },
      "source": [
        "## 4."
      ]
    },
    {
      "cell_type": "code",
      "metadata": {
        "id": "g4ss_TzEGKmT"
      },
      "source": [
        "# Sort the `tups` list defined below by each tuple's second item (the\n",
        "# square value).\n",
        "tups = [(-2, 4), (9, 81), (8, 64), (1, 1), (3, 9)]\n",
        "\n",
        "# your code here\n",
        "\n",
        "# do not modify this code\n",
        "expected = [(1, 1), (-2, 4), (3, 9), (8, 64), (9, 81)]\n",
        "'OK' if tups == expected else f'Test Failed: {tups} != {expected}'"
      ],
      "execution_count": null,
      "outputs": []
    },
    {
      "cell_type": "markdown",
      "metadata": {
        "id": "caHgfC8sGLQi"
      },
      "source": [
        "# Loops"
      ]
    },
    {
      "cell_type": "markdown",
      "metadata": {
        "id": "iNYcXAIhGMaA"
      },
      "source": [
        "## 5."
      ]
    },
    {
      "cell_type": "code",
      "metadata": {
        "id": "vJ5T_RQ3GL14"
      },
      "source": [
        "# Using a `for` loop, build a list named `new_words` that contains the length\n",
        "# of each word from the `words` list defined below.\n",
        "words = ['This', 'is', 'the', 'way']\n",
        "\n",
        "# your code here\n",
        "\n",
        "# do not modify this code\n",
        "expected = [4, 2, 3, 3]\n",
        "'OK' if new_words == expected else f'Test Failed: {new_words} != {expected}'"
      ],
      "execution_count": null,
      "outputs": []
    },
    {
      "cell_type": "markdown",
      "metadata": {
        "id": "3-neUMOLHBqJ"
      },
      "source": [
        "## 6."
      ]
    },
    {
      "cell_type": "code",
      "metadata": {
        "id": "Mth4qc3BHCpi"
      },
      "source": [
        "# Using a `for` loop with the `enumerate()` function, print each index and\n",
        "# word from the `words` list defined below. Make sure the printed output\n",
        "# matches the \"Expected Output\" below this cell.\n",
        "words = ['What', 'goes', 'up', 'must', 'come', 'down']\n",
        "\n",
        "# your code here\n"
      ],
      "execution_count": null,
      "outputs": []
    },
    {
      "cell_type": "markdown",
      "metadata": {
        "id": "0qNFDpWOIwej"
      },
      "source": [
        "### Expected Output:\n",
        "```\n",
        "0 What\n",
        "1 goes\n",
        "2 up\n",
        "3 must\n",
        "4 come\n",
        "5 down\n",
        "```"
      ]
    },
    {
      "cell_type": "markdown",
      "metadata": {
        "id": "ujr0HEaRHFzo"
      },
      "source": [
        "## 7."
      ]
    },
    {
      "cell_type": "code",
      "metadata": {
        "id": "eZWAHh1nHP_W"
      },
      "source": [
        "# Fill in the following code, replacing the question marks, to print the\n",
        "# numbers 1-10 counting backwards. Make sure the printed output\n",
        "# matches the \"Expected Output\" below this cell.\n",
        "for i in range(?, ?, ?):\n",
        "  print(i)"
      ],
      "execution_count": null,
      "outputs": []
    },
    {
      "cell_type": "markdown",
      "metadata": {
        "id": "8mgwWzBoI7jS"
      },
      "source": [
        "### Expected Output:\n",
        "```\n",
        "10\n",
        "9\n",
        "8\n",
        "7\n",
        "6\n",
        "5\n",
        "4\n",
        "3\n",
        "2\n",
        "1\n",
        "```"
      ]
    },
    {
      "cell_type": "markdown",
      "metadata": {
        "id": "qECsIGImHGGk"
      },
      "source": [
        "## 8."
      ]
    },
    {
      "cell_type": "code",
      "metadata": {
        "id": "oaaLP-TjHQnA"
      },
      "source": [
        "# Using a `while` loop, remove the smallest number from the `nums` list defined\n",
        "# below until there are only 5 numbers remaining.\n",
        "nums = [76, 22, 21, 35, 98, 88, 7, 81, 54, 10]\n",
        "\n",
        "# your code here\n",
        "\n",
        "# do not modify this code\n",
        "expected = [76, 98, 88, 81, 54]\n",
        "'OK' if nums == expected else f'Test Failed: {nums} != {expected}'"
      ],
      "execution_count": null,
      "outputs": []
    },
    {
      "cell_type": "markdown",
      "metadata": {
        "id": "ZxMxH1-h2qn3"
      },
      "source": [
        "# Debugging"
      ]
    },
    {
      "cell_type": "markdown",
      "metadata": {
        "id": "UoP-nqJ4HHOg"
      },
      "source": [
        "## 9."
      ]
    },
    {
      "cell_type": "code",
      "metadata": {
        "id": "0wH506LyHO-6"
      },
      "source": [
        "# Fix the bugs in the following code.\n",
        "# Run this cell to see any errors that remain.\n",
        "def fizz_buzz(n):\n",
        "    result_str = \"\"\n",
        "    for i in range(1, n):\n",
        "        if i % 2 == 0 and i % 3 == 0:\n",
        "            result_str += \"FizzBuzz, \"\n",
        "        elif i % 2 = 0:\n",
        "            result_str += \"Fizz, \"\n",
        "        elif i % 3 == 0\n",
        "            result_str += \"Buzz, \"\n",
        "        else:\n",
        "            result_str += i + \", \"\n",
        "     return result_str\n",
        "\n",
        "\n",
        "# Do not modify the code below\n",
        "print('OK' if fizz_buzz(15) == '1, Fizz, Buzz, Fizz, 5, FizzBuzz, 7, Fizz, Buzz, Fizz, 11, FizzBuzz, 13, Fizz, ' else 'NOT OK')"
      ],
      "execution_count": null,
      "outputs": []
    },
    {
      "cell_type": "markdown",
      "metadata": {
        "id": "C3MxnK4BWOjp"
      },
      "source": [
        "# Please run the final cell below to conclude."
      ]
    },
    {
      "cell_type": "code",
      "metadata": {
        "id": "zuSg-c4WWVuZ"
      },
      "source": [
        "# Wrapping up\n",
        "end_time = dt.utcnow()\n",
        "print(f\"End Time: {end_time} UTC\")\n",
        "print(f\"Duration: {end_time - start_time}\")"
      ],
      "execution_count": null,
      "outputs": []
    },
    {
      "cell_type": "markdown",
      "metadata": {
        "id": "ebGc7MyNXloO"
      },
      "source": [
        "# The End\n",
        "Now, use the **File** menu above and select **Download .ipynb**. Save the file to your computer and submit it for the **Checkpoint 2A** assessment."
      ]
    }
  ]
}