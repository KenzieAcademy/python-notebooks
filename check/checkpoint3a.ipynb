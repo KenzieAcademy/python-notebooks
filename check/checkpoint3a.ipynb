{
  "nbformat": 4,
  "nbformat_minor": 0,
  "metadata": {
    "colab": {
      "name": "checkpoint3a.ipynb",
      "provenance": [],
      "collapsed_sections": []
    },
    "kernelspec": {
      "name": "python3",
      "display_name": "Python 3"
    }
  },
  "cells": [
    {
      "cell_type": "markdown",
      "metadata": {
        "id": "wZu0CJ054mZk"
      },
      "source": [
        "<table align=left width=\"590\" height=\"144\" style=\"height: 67px; width: 565px;\">\n",
        "<tbody>\n",
        "<tr>\n",
        "<td style=\"width: 422px; height: 67px;\">\n",
        "<h1 style=\"text-align: left;\">Python Foundations</h1>\n",
        "<h2 style=\"text-align: left;\">Checkpoint 3A</h2>\n",
        "</td>\n",
        "</tr>\n",
        "</tbody>\n",
        "</table>"
      ]
    },
    {
      "cell_type": "code",
      "metadata": {
        "id": "5LeUhxORcYZ5"
      },
      "source": [
        "from datetime import datetime as dt\n",
        "\n",
        "# Fill in the __author__ string with your name and run this cell.\n",
        "__author__ = \"???\"\n",
        "start_time = dt.utcnow()\n",
        "print(f\"Author: {__author__}\")\n",
        "print(f\"Start Time: {start_time} UTC\")"
      ],
      "execution_count": null,
      "outputs": []
    },
    {
      "cell_type": "markdown",
      "metadata": {
        "id": "_XhHywcxIHkC"
      },
      "source": [
        "# Functions"
      ]
    },
    {
      "cell_type": "markdown",
      "metadata": {
        "id": "EnAMvbT9HGz4"
      },
      "source": [
        "## 1."
      ]
    },
    {
      "cell_type": "code",
      "metadata": {
        "id": "7LPp2lbSEso_"
      },
      "source": [
        "# Fix the following function definition so that there are no more syntax errors.\n",
        "\n",
        "function my_function:\n",
        "  print(\"OK\")\n",
        "\n",
        "# do not modify this code\n",
        "my_function()"
      ],
      "execution_count": null,
      "outputs": []
    },
    {
      "cell_type": "markdown",
      "metadata": {
        "id": "b5rRWStkHG4o"
      },
      "source": [
        "## 2."
      ]
    },
    {
      "cell_type": "code",
      "metadata": {
        "id": "vZJd1wf9HT_y"
      },
      "source": [
        "# Create a function named `my_function` that accepts two arguments\n",
        "# and prints their sum. Make sure that your printed output matches the\n",
        "# Expected Output in the cell below.\n",
        "\n",
        "# your code here\n",
        "\n",
        "# do not modify this code\n",
        "my_function(2, 3)"
      ],
      "execution_count": null,
      "outputs": []
    },
    {
      "cell_type": "markdown",
      "metadata": {
        "id": "sJJcwYWCUjuK"
      },
      "source": [
        "### Expected Output:\n",
        "```\n",
        "5\n",
        "```"
      ]
    },
    {
      "cell_type": "markdown",
      "metadata": {
        "id": "I4Rc8kO4HG9m"
      },
      "source": [
        "## 3."
      ]
    },
    {
      "cell_type": "code",
      "metadata": {
        "id": "GDSk1dGlHSHf"
      },
      "source": [
        "# Create a function named `my_function` that accepts two arguments and\n",
        "# returns \"even\" if their sum is even, or \"odd\" if their sum is odd. \n",
        "\n",
        "# your code here\n",
        "\n",
        "# do not modify this code\n",
        "print('OK') if my_function(1, 1) == \"even\" else print(f'Test Failed: {my_function(1, 1)} != even')\n",
        "print('OK') if my_function(1, 2) == \"odd\" else print(f'Test Failed: {my_function(1, 2)} != odd')"
      ],
      "execution_count": null,
      "outputs": []
    },
    {
      "cell_type": "markdown",
      "metadata": {
        "id": "24byrJ62BAsG"
      },
      "source": [
        "## 4."
      ]
    },
    {
      "cell_type": "code",
      "metadata": {
        "id": "tDwKo71vHStH"
      },
      "source": [
        "# Call the following function so that it assigns the expected value\n",
        "# to the `spud` variable.\n",
        "\n",
        "# do not modify this function\n",
        "def my_function(s1, s2, s3):\n",
        "  return f\"{s1}{s3}{s2}\"\n",
        "\n",
        "\n",
        "spud = # your code here\n",
        "\n",
        "# do not modify this code\n",
        "expected = \"potato\"\n",
        "'OK' if spud == expected else f'Test Failed: {spud} != {expected}'"
      ],
      "execution_count": null,
      "outputs": []
    },
    {
      "cell_type": "markdown",
      "metadata": {
        "id": "xs5vXMr_HHCC"
      },
      "source": [
        "## 5."
      ]
    },
    {
      "cell_type": "code",
      "metadata": {
        "id": "6w0HFcd4HTM-"
      },
      "source": [
        "# Lord of the Strings!\n",
        "\n",
        "# Create a function named `sarcasm()` that accepts a single string argument and\n",
        "# returns the string with its characters at even indices capitalized.\n",
        "# Use it in a sentence by creating another function named `sentence()` that\n",
        "# accepts the return value from `sarcasm()` as an argument and uses it inside\n",
        "# of a longer string. Return the longer string.\n",
        "\n",
        "# your code here\n",
        "\n",
        "# do not modify this code\n",
        "word = \"python\"\n",
        "expected = \"PyThOn\"\n",
        "sarcasm_word = sarcasm(word)\n",
        "if sarcasm_word != expected:\n",
        "  print(f'Test Failed: {sarcasm_word} != {expected}')\n",
        "else:\n",
        "  sarcasm_sentence = sentence(sarcasm_word)\n",
        "  if sarcasm_word not in sarcasm_sentence:\n",
        "    print(f'Test Failed: {sarcasm_sentence} does not contain {sarcasm_word}')\n",
        "  elif len(sarcasm_sentence) <= len(sarcasm_word):\n",
        "    print(f'Test Failed: {sarcasm_word} was not used in a sentence')\n",
        "  else:\n",
        "    print(f\"OK: {sarcasm_sentence}\")"
      ],
      "execution_count": null,
      "outputs": []
    },
    {
      "cell_type": "markdown",
      "metadata": {
        "id": "C3MxnK4BWOjp"
      },
      "source": [
        "# Please run the final cell below to conclude."
      ]
    },
    {
      "cell_type": "code",
      "metadata": {
        "id": "zuSg-c4WWVuZ"
      },
      "source": [
        "# Wrapping up\n",
        "end_time = dt.utcnow()\n",
        "print(f\"End Time: {end_time} UTC\")\n",
        "print(f\"Duration: {end_time - start_time}\")"
      ],
      "execution_count": null,
      "outputs": []
    },
    {
      "cell_type": "markdown",
      "metadata": {
        "id": "ebGc7MyNXloO"
      },
      "source": [
        "# The End\n",
        "Now, use the **File** menu above and select **Download .ipynb**. Save the file to your computer and submit it for the **Checkpoint 3A** assessment."
      ]
    }
  ]
}