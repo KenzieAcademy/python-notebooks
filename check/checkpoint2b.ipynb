{
  "nbformat": 4,
  "nbformat_minor": 0,
  "metadata": {
    "colab": {
      "name": "Checkpoint2b.ipynb",
      "provenance": [],
      "collapsed_sections": [],
      "toc_visible": true
    },
    "kernelspec": {
      "name": "python3",
      "display_name": "Python 3"
    }
  },
  "cells": [
    {
      "cell_type": "markdown",
      "metadata": {
        "id": "wZu0CJ054mZk"
      },
      "source": [
        "<table align=left width=\"590\" height=\"144\" style=\"height: 67px; width: 565px;\">\n",
        "<tbody>\n",
        "<tr>\n",
        "<td style=\"width: 422px; height: 67px;\">\n",
        "<h1 style=\"text-align: left;\">Python Foundations</h1>\n",
        "<h2 style=\"text-align: left;\">Checkpoint 2B</h2>\n",
        "</td>\n",
        "</tr>\n",
        "</tbody>\n",
        "</table>"
      ]
    },
    {
      "cell_type": "code",
      "metadata": {
        "id": "5LeUhxORcYZ5"
      },
      "source": [
        "from datetime import datetime as dt\n",
        "\n",
        "# Fill in the __author__ string with your name and run this cell.\n",
        "__author__ = \"???\"\n",
        "start_time = dt.utcnow()\n",
        "print(f\"Author: {__author__}\")\n",
        "print(f\"Start Time: {start_time} UTC\")"
      ],
      "execution_count": null,
      "outputs": []
    },
    {
      "cell_type": "markdown",
      "metadata": {
        "id": "_XhHywcxIHkC"
      },
      "source": [
        "# Dictionaries"
      ]
    },
    {
      "cell_type": "markdown",
      "metadata": {
        "id": "EnAMvbT9HGz4"
      },
      "source": [
        "## 1."
      ]
    },
    {
      "cell_type": "code",
      "metadata": {
        "id": "7LPp2lbSEso_"
      },
      "source": [
        "# Create a `person` dictionary with the following key/value pairs:\n",
        "#   name: Bob\n",
        "#    age: 50\n",
        "#   wife: Martha\n",
        "\n",
        "person = # your code here\n",
        "\n",
        "# do not modify this code\n",
        "ok_name = \"name\" in person and person.get(\"name\") == \"Bob\"\n",
        "ok_age = \"age\" in person and person.get(\"age\") == 50\n",
        "ok_wife = \"wife\" in person and person.get(\"wife\") == \"Martha\"\n",
        "'OK' if ok_name and ok_age and ok_wife else f'Test Failed: invalid key or value'"
      ],
      "execution_count": null,
      "outputs": []
    },
    {
      "cell_type": "markdown",
      "metadata": {
        "id": "b5rRWStkHG4o"
      },
      "source": [
        "## 2."
      ]
    },
    {
      "cell_type": "code",
      "metadata": {
        "id": "vZJd1wf9HT_y",
        "colab": {
          "base_uri": "https://localhost:8080/"
        },
        "outputId": "3d80e6cc-aab2-4409-f0de-3da52ef099f7"
      },
      "source": [
        "# Using the `person` dictionary that you created, print each of its key/value\n",
        "# pairs on their own line.\n",
        "# See the \"Example Output\" below for an idea of how to format each key/value\n",
        "# pair.\n",
        "\n",
        "# your code here\n"
      ],
      "execution_count": null,
      "outputs": [
        {
          "output_type": "stream",
          "text": [
            "name: Bob\n",
            "age: 50\n",
            "wife: Martha\n"
          ],
          "name": "stdout"
        }
      ]
    },
    {
      "cell_type": "markdown",
      "metadata": {
        "id": "sJJcwYWCUjuK"
      },
      "source": [
        "### Example Output:\n",
        "```\n",
        "name: Bob\n",
        "age: 50\n",
        "wife: Martha\n",
        "```"
      ]
    },
    {
      "cell_type": "markdown",
      "metadata": {
        "id": "I4Rc8kO4HG9m"
      },
      "source": [
        "## 3."
      ]
    },
    {
      "cell_type": "code",
      "metadata": {
        "id": "GDSk1dGlHSHf"
      },
      "source": [
        "# Using the `person` dictionary, add 1 to the `age`.\n",
        "\n",
        "# your code here\n",
        "\n",
        "# do not modify this code\n",
        "expected = {\"name\": \"Bob\", \"age\": 51, \"wife\": \"Martha\"}\n",
        "'OK' if person == expected else f'Test Failed: {person} != {expected}'"
      ],
      "execution_count": null,
      "outputs": []
    },
    {
      "cell_type": "markdown",
      "metadata": {
        "id": "24byrJ62BAsG"
      },
      "source": [
        "## 4."
      ]
    },
    {
      "cell_type": "code",
      "metadata": {
        "id": "tDwKo71vHStH"
      },
      "source": [
        "# Print \"no kids\" if the \"children\" key is not found in the `person` dictionary.\n",
        "# Make sure the printed output matches the \"Expected Output\" below this cell.\n",
        "\n",
        "# your code here\n"
      ],
      "execution_count": null,
      "outputs": []
    },
    {
      "cell_type": "markdown",
      "metadata": {
        "id": "imWHWN30Ulwg"
      },
      "source": [
        "### Expected Output:\n",
        "```\n",
        "no kids\n",
        "```"
      ]
    },
    {
      "cell_type": "markdown",
      "metadata": {
        "id": "xs5vXMr_HHCC"
      },
      "source": [
        "## 5."
      ]
    },
    {
      "cell_type": "code",
      "metadata": {
        "id": "6w0HFcd4HTM-",
        "colab": {
          "base_uri": "https://localhost:8080/",
          "height": 35
        },
        "outputId": "af0348e4-cfbf-49c0-ba46-cba62ccbbec1"
      },
      "source": [
        "# Bob and Martha just had twins!\n",
        "# Add a \"children\" key to the `person` dictionary with the children's\n",
        "# names as the key's value. Give the children any names you'd like!\n",
        "\n",
        "# your code here\n",
        "\n",
        "# do not modify this code\n",
        "'OK' if person.get(\"children\") else f'Test Failed: No \"children\" key detected'"
      ],
      "execution_count": null,
      "outputs": [
        {
          "output_type": "execute_result",
          "data": {
            "application/vnd.google.colaboratory.intrinsic+json": {
              "type": "string"
            },
            "text/plain": [
              "'Test Failed: No \"children\" key detected'"
            ]
          },
          "metadata": {
            "tags": []
          },
          "execution_count": 48
        }
      ]
    },
    {
      "cell_type": "markdown",
      "metadata": {
        "id": "U5Bvyot4B5As"
      },
      "source": [
        "## 6."
      ]
    },
    {
      "cell_type": "code",
      "metadata": {
        "id": "cWim3Ds6BBQl"
      },
      "source": [
        "# Now, remove the \"children\" key from the `person` dictionary.\n",
        "\n",
        "# your code here\n",
        "\n",
        "# do not modify this code\n",
        "'OK' if \"children\" not in person else f'Test Failed: \"children\" key detected'"
      ],
      "execution_count": null,
      "outputs": []
    },
    {
      "cell_type": "markdown",
      "metadata": {
        "id": "MeO08mBOB6V1"
      },
      "source": [
        "## 7."
      ]
    },
    {
      "cell_type": "code",
      "metadata": {
        "id": "66anf9FQB_3-"
      },
      "source": [
        "# Open a file named \"\""
      ],
      "execution_count": null,
      "outputs": []
    },
    {
      "cell_type": "markdown",
      "metadata": {
        "id": "Awl5HYYxB7yx"
      },
      "source": [
        "## 8."
      ]
    },
    {
      "cell_type": "code",
      "metadata": {
        "id": "b4aRlZ9ZCAU8"
      },
      "source": [
        "# file: read"
      ],
      "execution_count": null,
      "outputs": []
    },
    {
      "cell_type": "markdown",
      "metadata": {
        "id": "y6o_ObK7B83Y"
      },
      "source": [
        "## 9."
      ]
    },
    {
      "cell_type": "code",
      "metadata": {
        "id": "qZwbL9J2CA3O"
      },
      "source": [
        "# file: write"
      ],
      "execution_count": null,
      "outputs": []
    },
    {
      "cell_type": "markdown",
      "metadata": {
        "id": "utrqM8ZsUrve"
      },
      "source": [
        "## 10."
      ]
    },
    {
      "cell_type": "code",
      "metadata": {
        "id": "K9FsBTukUtG3"
      },
      "source": [
        "# file: append"
      ],
      "execution_count": null,
      "outputs": []
    },
    {
      "cell_type": "markdown",
      "metadata": {
        "id": "C3MxnK4BWOjp"
      },
      "source": [
        "# Please run the final cell below to conclude."
      ]
    },
    {
      "cell_type": "code",
      "metadata": {
        "id": "zuSg-c4WWVuZ"
      },
      "source": [
        "# Wrapping up\n",
        "end_time = dt.utcnow()\n",
        "print(f\"End Time: {end_time} UTC\")\n",
        "print(f\"Duration: {end_time - start_time}\")"
      ],
      "execution_count": null,
      "outputs": []
    },
    {
      "cell_type": "markdown",
      "metadata": {
        "id": "ebGc7MyNXloO"
      },
      "source": [
        "# The End\n",
        "Now, use the **File** menu above and select **Download .ipynb**. Save the file to your computer and submit it for the **Checkpoint 2B** assessment."
      ]
    }
  ]
}