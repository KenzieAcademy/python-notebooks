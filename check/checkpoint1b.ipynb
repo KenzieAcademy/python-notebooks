{
  "nbformat": 4,
  "nbformat_minor": 0,
  "metadata": {
    "colab": {
      "name": "Checkpoint 1B.ipynb",
      "provenance": [],
      "collapsed_sections": [
        "LJHOrf8bv4Q_",
        "xX2D7_QwvzYT",
        "MUAItsSBE1Qd",
        "C3MxnK4BWOjp",
        "ebGc7MyNXloO"
      ]
    },
    "kernelspec": {
      "name": "python3",
      "display_name": "Python 3"
    }
  },
  "cells": [
    {
      "cell_type": "markdown",
      "metadata": {
        "id": "wZu0CJ054mZk"
      },
      "source": [
        "<table align=left width=\"590\" height=\"144\" style=\"height: 67px; width: 565px;\">\n",
        "<tbody>\n",
        "<tr>\n",
        "<td width=82><img alt=\"revA\" src=\"https://static1.squarespace.com/static/5992c2c7a803bb8283297efe/t/59c803110abd04d34ca9a1f0/1530629279239/\" /></td>\n",
        "<td style=\"width: 422px; height: 67px;\">\n",
        "<h1 style=\"text-align: left;\">Python Foundations</h1>\n",
        "<h2 style=\"text-align: left;\">Checkpoint 1B</h2>\n",
        "</td>\n",
        "</tr>\n",
        "</tbody>\n",
        "</table>"
      ]
    },
    {
      "cell_type": "code",
      "metadata": {
        "id": "5LeUhxORcYZ5"
      },
      "source": [
        "from datetime import datetime as dt\n",
        "\n",
        "# Fill in the __author__ string with your name and run this cell.\n",
        "__author__ = \"???\"\n",
        "start_time = dt.utcnow()\n",
        "print(f\"Author: {__author__}\")\n",
        "print(f\"Start Time: {start_time} UTC\")"
      ],
      "execution_count": null,
      "outputs": []
    },
    {
      "cell_type": "markdown",
      "metadata": {
        "id": "VRFl42awvXg7"
      },
      "source": [
        "# Numbers"
      ]
    },
    {
      "cell_type": "markdown",
      "metadata": {
        "id": "IXG7MKDc53km"
      },
      "source": [
        "## 1."
      ]
    },
    {
      "cell_type": "code",
      "metadata": {
        "id": "UzXVTFuZvjTT"
      },
      "source": [
        "# Modify the following expression to produce the `expected` result\n",
        "# defined below without changing the numbers.\n",
        "# Make sure it is an integer instead of a float!\n",
        "x = 6 + 4 / 2\n",
        "\n",
        "# do not modify this code\n",
        "expected = 5\n",
        "'OK' if x == expected else f'Test Failed: {x} != {expected}'"
      ],
      "execution_count": null,
      "outputs": []
    },
    {
      "cell_type": "markdown",
      "metadata": {
        "id": "6tYsTn7bvaog"
      },
      "source": [
        "# Strings"
      ]
    },
    {
      "cell_type": "markdown",
      "metadata": {
        "id": "ajoSpW0yvi7l"
      },
      "source": [
        "## 2."
      ]
    },
    {
      "cell_type": "code",
      "metadata": {
        "id": "AQoltIEVGCGp"
      },
      "source": [
        "# Using the variable `s`, make `p` equal the `expected` result defined below\n",
        "# by using indexing, slicing, concatenation, and/or string formatting.\n",
        "s = \"pynoth\"\n",
        "\n",
        "p = # your code here\n",
        "\n",
        "# do not modify this code\n",
        "expected = \"python\"\n",
        "'OK' if p == expected else f'Test Failed: {p} != {expected}'"
      ],
      "execution_count": null,
      "outputs": []
    },
    {
      "cell_type": "markdown",
      "metadata": {
        "id": "dtS7148kvlxi"
      },
      "source": [
        "## 3."
      ]
    },
    {
      "cell_type": "code",
      "metadata": {
        "id": "huk13Mk1vuvG"
      },
      "source": [
        "# Make `p` equal the `expected` result defined below by using string methods\n",
        "# on the variable `s`.\n",
        "# Hint: use `print(dir(str))` to see available string methods.\n",
        "s = \"python\"\n",
        "\n",
        "p = # your code here\n",
        "\n",
        "# do not modify this code\n",
        "expected = \"Pyth0n\"\n",
        "'OK' if p == expected else f'Test Failed: {p} != {expected}'"
      ],
      "execution_count": null,
      "outputs": []
    },
    {
      "cell_type": "markdown",
      "metadata": {
        "id": "w_vbVcHdvqNF"
      },
      "source": [
        "## 4."
      ]
    },
    {
      "cell_type": "code",
      "metadata": {
        "id": "gWwPJUcfvvL7"
      },
      "source": [
        "# Make `p` equal the `expected` result defined below by using string methods\n",
        "# on the variable `s`.\n",
        "# Hint: use `print(dir(str))` to see available string methods.\n",
        "s = \"I'm_just_here_for_the_python.\"\n",
        "\n",
        "p = # your code here\n",
        "\n",
        "# do not modify this code\n",
        "expected = \"I'm just here for the python.\"\n",
        "'OK' if p == expected else f\"Test Failed: {p} != {expected}\""
      ],
      "execution_count": null,
      "outputs": []
    },
    {
      "cell_type": "markdown",
      "metadata": {
        "id": "8KCgUKKvvrbA"
      },
      "source": [
        "## 5."
      ]
    },
    {
      "cell_type": "code",
      "metadata": {
        "id": "CsKF6SAevv9c"
      },
      "source": [
        "# Make `p` equal the `expected` result defined below by using string methods\n",
        "# on the variable `s`.\n",
        "# Hint: use `print(dir(str))` to see available string methods.\n",
        "s = \"---I'm just here for the python.   \\n\"\n",
        "\n",
        "p = # your code here\n",
        "\n",
        "# do not modify this code\n",
        "expected = \"I'm just here for the python.\"\n",
        "'OK' if p == expected else f\"Test Failed: {p} != {expected}\""
      ],
      "execution_count": null,
      "outputs": []
    },
    {
      "cell_type": "markdown",
      "metadata": {
        "id": "I-nrLG1xvsXa"
      },
      "source": [
        "## 6."
      ]
    },
    {
      "cell_type": "code",
      "metadata": {
        "id": "UH3cbY-QvwdL"
      },
      "source": [
        "# Make `p` equal the `expected` result defined below using the variable `s`.\n",
        "s = \"?gnihtyreve dna ,esrevinu eht ,efil fo gninaem eht si tahW\"\n",
        "\n",
        "p = # your code here\n",
        "\n",
        "# do not modify this code\n",
        "expected = \"What is the meaning of life, the universe, and everything?\"\n",
        "'OK (42)' if p == expected else f\"Test Failed: {p} != {expected}\""
      ],
      "execution_count": null,
      "outputs": []
    },
    {
      "cell_type": "markdown",
      "metadata": {
        "id": "11AUqfyGvyS3"
      },
      "source": [
        "## 7."
      ]
    },
    {
      "cell_type": "code",
      "metadata": {
        "id": "U7g1aXSrv0Uu"
      },
      "source": [
        "# Use your knowledge of string formatting to make `result` equal the\n",
        "# string \"3 + 5 = 8\" using only the `n1` and `n2` variables defined below.\n",
        "n1, n2 = 3, 5\n",
        "\n",
        "result = # your code here\n",
        "\n",
        "# do not modify this code\n",
        "expected = \"3 + 5 = 8\"\n",
        "'OK' if result == expected else f\"Test Failed: {result} != {expected}\""
      ],
      "execution_count": null,
      "outputs": []
    },
    {
      "cell_type": "markdown",
      "metadata": {
        "id": "6fVkp7OjvfM3"
      },
      "source": [
        "# Conditionals"
      ]
    },
    {
      "cell_type": "markdown",
      "metadata": {
        "id": "xX2D7_QwvzYT"
      },
      "source": [
        "## 8."
      ]
    },
    {
      "cell_type": "code",
      "metadata": {
        "id": "MpQKIxJP54JM"
      },
      "source": [
        "# Fill in the `just_in_case()` function using a conditional statement (if/else)\n",
        "# and string methods to do the following:\n",
        "#   - If `s` begins with a lowercase letter, set a variable named `result`\n",
        "#     to the uppercase form of `s`.\n",
        "#       Example: just_in_case(\"python\") -> \"PYTHON\"\n",
        "#   - If `s` begins with an uppercase letter, set a variable named `result`\n",
        "#     to the lowercase form of `s`.\n",
        "#       Example: just_in_case(\"PYTHON\") -> \"python\"\n",
        "\n",
        "def just_in_case(s):\n",
        "  # your code here\n",
        "  return result\n",
        "\n",
        "# do not modify this code\n",
        "expect = {\n",
        "    \"pYTHON\": \"PYTHON\",\n",
        "    \"Python\": \"python\"\n",
        "}\n",
        "for k, v in expect.items():\n",
        "  print('OK' if just_in_case(k) == v else f\"Test Failed: {just_in_case(k)} != {v}\")"
      ],
      "execution_count": null,
      "outputs": []
    },
    {
      "cell_type": "markdown",
      "metadata": {
        "id": "4QCguwob-BBI"
      },
      "source": [
        "## 9."
      ]
    },
    {
      "cell_type": "code",
      "metadata": {
        "id": "5vaRSzKk-CIw"
      },
      "source": [
        "# Fill in the `find_letter()` function to do the following:\n",
        "#   - If `char` is found in the string `s`, set a variable named `result`\n",
        "#     to \"found\".\n",
        "#   - If `char` is not found in the string `s`, set a variable named `result`\n",
        "#     to \"not found\".\n",
        "\n",
        "s = \"life, the universe, and everything\"\n",
        "\n",
        "def find_letter(char):\n",
        "  # your code here\n",
        "  return result\n",
        "\n",
        "# do not modify this code\n",
        "expect = {\n",
        "    \"z\": \"not found\",\n",
        "    \"e\": \"found\"\n",
        "}\n",
        "for k, v in expect.items():\n",
        "  print('OK' if find_letter(k) == v else f\"Test Failed: {find_letter(k)} != {v}\")"
      ],
      "execution_count": null,
      "outputs": []
    },
    {
      "cell_type": "markdown",
      "metadata": {
        "id": "eG4Ct9hH-CcY"
      },
      "source": [
        "## 10."
      ]
    },
    {
      "cell_type": "code",
      "metadata": {
        "id": "aJ7qfF2g-DfC"
      },
      "source": [
        "# Use a conditional statement to do the following:\n",
        "#   - If `n` is negative and odd, set a variable named `result`\n",
        "#     to \"negative odd\".\n",
        "#   - If `n` is positive and even, set a variable named `result`\n",
        "#     to \"positive even\".\n",
        "#   - Otherwise, set a variable named `result` to `n` squared.\n",
        "\n",
        "def final_boss(n):\n",
        "  # your code here\n",
        "  return result\n",
        "\n",
        "# do not modify this code\n",
        "expect = {\n",
        "    -3: \"negative odd\",\n",
        "    2: \"positive even\",\n",
        "    3: 9\n",
        "}\n",
        "for k, v in expect.items():\n",
        "  print('OK' if final_boss(k) == v else f\"Test Failed: {final_boss(k)} != {v}\")"
      ],
      "execution_count": null,
      "outputs": []
    },
    {
      "cell_type": "markdown",
      "metadata": {
        "id": "C3MxnK4BWOjp"
      },
      "source": [
        "# Please run the final cell below to conclude."
      ]
    },
    {
      "cell_type": "code",
      "metadata": {
        "id": "zuSg-c4WWVuZ"
      },
      "source": [
        "# Wrapping up\n",
        "end_time = dt.utcnow()\n",
        "print(f\"End Time: {end_time} UTC\")\n",
        "print(f\"Duration: {end_time - start_time}\")"
      ],
      "execution_count": null,
      "outputs": []
    },
    {
      "cell_type": "markdown",
      "metadata": {
        "id": "ebGc7MyNXloO"
      },
      "source": [
        "# The End\n",
        "Now, use the **File** menu above and select **Download .ipynb**. Save the file to your computer and submit it for the **Checkpoint 1B** assessment."
      ]
    }
  ]
}