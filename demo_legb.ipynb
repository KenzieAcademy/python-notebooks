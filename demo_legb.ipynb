{
  "nbformat": 4,
  "nbformat_minor": 0,
  "metadata": {
    "colab": {
      "name": "Python Scope Resolution - LEGB!",
      "provenance": [],
      "collapsed_sections": []
    },
    "kernelspec": {
      "name": "python3",
      "display_name": "Python 3"
    }
  },
  "cells": [
    {
      "cell_type": "markdown",
      "metadata": {
        "id": "_ohrqWKLG5Xt",
        "colab_type": "text"
      },
      "source": [
        "<table border=\"0\" align=\"left\" width=\"700\" height=\"144\">\n",
        "<tbody>\n",
        "<tr>\n",
        "<td width=\"120\"><img width=\"100\" src=\"https://static1.squarespace.com/static/5992c2c7a803bb8283297efe/t/59c803110abd04d34ca9a1f0/1530629279239/\" /></td>\n",
        "<td style=\"width: 600px; height: 67px;\">\n",
        "<h1 style=\"text-align: left;\">Scope Resolution: the LEGB Rule!</h1>\n",
        "<p><a href=\"https://colab.research.google.com/github/KenzieAcademy/python-notebooks/blob/master/demo_legb.ipynb\"> <img src=\"https://colab.research.google.com/assets/colab-badge.svg\" alt=\"Open In Colab\" align=\"left\" width=\"188\" height=\"32\" /> </a></p>\n",
        "</td>\n",
        "</tr>\n",
        "</tbody>\n",
        "</table>"
      ]
    },
    {
      "cell_type": "markdown",
      "metadata": {
        "id": "s-A3wQ2eef_s",
        "colab_type": "text"
      },
      "source": [
        "### Namespaces\n",
        "A namespace is a container for mapping names to objects. Such a “name-to-object” mapping allows us to access an object by a name that we’ve assigned to it.\n",
        "\n",
        "`a_string = \"something\"`\n",
        "\n",
        "A namespace can be imagined as a Python dictionary structure, where the dictionary keys represent the names and the dictionary values represent the objects themselves.\n",
        "\n",
        "```\n",
        "a_namespace = {'name_a': object1, 'name_b': object2}\n",
        "b_namespace = {'name_a': object3, 'name_b': object4}\n",
        "```\n",
        "\n",
        "Namespaces are used to avoid confusion in cases where the same names exist within the same scope (e.g., modules, classes, functions).\n"
      ]
    },
    {
      "cell_type": "markdown",
      "metadata": {
        "id": "LjjPdevfemUW",
        "colab_type": "text"
      },
      "source": [
        "### Scope\n",
        "Scope defines the hierarchical order in which namespaces are searched in order to obtain name-to-object mappings (i.e., variables). It is a context in which variables exist and from which they are referenced. Scope defines the accessibility and lifetime of a variable."
      ]
    },
    {
      "cell_type": "code",
      "metadata": {
        "id": "mMGlhuGeeW4o",
        "colab_type": "code",
        "colab": {}
      },
      "source": [
        "\"\"\"Local vs global scope\"\"\"\n",
        "\n",
        "num = 1  # num in the global scope\n",
        "\n",
        "def do_something():\n",
        "  num = 2  # num in the local scope\n",
        "  print(f'num in do_something():\\t{num}')\n",
        "\n",
        "do_something()\n",
        "print(f'num global:\\t\\t{num}')"
      ],
      "execution_count": null,
      "outputs": []
    },
    {
      "cell_type": "markdown",
      "metadata": {
        "id": "MQnG0Z6ofQhR",
        "colab_type": "text"
      },
      "source": [
        "Based on the above example, we can determine that there is definitely a rule which is followed in order to decide from which namespace a variable is chosen."
      ]
    },
    {
      "cell_type": "markdown",
      "metadata": {
        "id": "dWyJU33Kfco2",
        "colab_type": "text"
      },
      "source": [
        "### The LEGB Rule\n",
        "In Python, the LEGB rule is used to decide the order in which the namespaces are to be searched, defined as \"scope resolution\". The scopes are listed here in order of precedence, highest to lowest, from innermost to outermost.\n",
        "* (**L**)ocal: defined inside a function or class\n",
        "* (**E**)nclosed: defined inside enclosing functions (i.e., parents of nested functions)\n",
        "* (**G**)lobal: defined at the outermost level\n",
        "* (**B**)uilt-in: defined in Python's built-in modules\n",
        "\n",
        "![LEGB scope diagram](https://media.geeksforgeeks.org/wp-content/uploads/ScopeResolution-1-300x260.png)"
      ]
    },
    {
      "cell_type": "markdown",
      "metadata": {
        "id": "rG56ljhegv16",
        "colab_type": "text"
      },
      "source": [
        "### Local Scope\n",
        "Local scope refers to variables defined in the current function. A function will first look for a variable name in its local scope. The outer scopes are then checked only if the variable is not found locally."
      ]
    },
    {
      "cell_type": "code",
      "metadata": {
        "id": "eIIU04r2hAxS",
        "colab_type": "code",
        "colab": {}
      },
      "source": [
        "\"\"\"Demonstration of local scope\"\"\"\n",
        "\n",
        "where_am_i = 'global scope'\n",
        "\n",
        "def my_func():\n",
        "  where_am_i = 'local scope'\n",
        "  print(where_am_i)\n",
        "\n",
        "my_func()"
      ],
      "execution_count": null,
      "outputs": []
    },
    {
      "cell_type": "markdown",
      "metadata": {
        "id": "WEBB_sLRhaI5",
        "colab_type": "text"
      },
      "source": [
        "In the above example, calling `my_func` prints the value of its local variable `where_am_i` because it is defined and available in the local scope -- the first place it looks according to LEGB.\n",
        "\n"
      ]
    },
    {
      "cell_type": "markdown",
      "metadata": {
        "id": "Q01caiHLk-YS",
        "colab_type": "text"
      },
      "source": [
        "### Enclosed Scope\n",
        "For the enclosed scope, we need to define an outer function enclosing the inner function."
      ]
    },
    {
      "cell_type": "code",
      "metadata": {
        "id": "c1prtPFXhUQc",
        "colab_type": "code",
        "colab": {}
      },
      "source": [
        "\"\"\"Demonstration of enclosed scope\"\"\"\n",
        "\n",
        "where_am_i = \"global scope\"\n",
        "\n",
        "def my_func_outer():\n",
        "  where_am_i = \"enclosed scope\"\n",
        "  def my_func_inner():\n",
        "    print(where_am_i)  # looks for where_am_i in the local scope first\n",
        "\n",
        "  my_func_inner()\n",
        "\n",
        "my_func_outer()"
      ],
      "execution_count": null,
      "outputs": []
    },
    {
      "cell_type": "markdown",
      "metadata": {
        "id": "l5eMqQg-luPZ",
        "colab_type": "text"
      },
      "source": [
        "In the above example, line 8 looks for `where_am_i` within the local scope first, but does not find it. The enclosed scope is then searched and the variable is found there without resorting to the global scope."
      ]
    },
    {
      "cell_type": "markdown",
      "metadata": {
        "id": "hx_Gt1xRBC6A",
        "colab_type": "text"
      },
      "source": [
        "## Global Scope\n"
      ]
    },
    {
      "cell_type": "code",
      "metadata": {
        "id": "AYnfouP4BE_5",
        "colab_type": "code",
        "colab": {}
      },
      "source": [
        "\"\"\"Demonstration of global scope\"\"\"\n",
        "\n",
        "where_am_i = \"global scope\"\n",
        "\n",
        "def my_func_outer():\n",
        "  def my_func_inner():\n",
        "    print(where_am_i)  # looks for where_am_i in the local scope first\n",
        "\n",
        "  my_func_inner()\n",
        "\n",
        "my_func_outer()"
      ],
      "execution_count": null,
      "outputs": []
    },
    {
      "cell_type": "markdown",
      "metadata": {
        "id": "3_RvV8tBBZwv",
        "colab_type": "text"
      },
      "source": [
        "In the above example, line 7 looks for `where_am_i` within the local scope first, but does not find it. The enclosed scope is then searched, where it is also not found. Then, the global scope is searched and the variable is found there without resorting to the built-in scope."
      ]
    },
    {
      "cell_type": "markdown",
      "metadata": {
        "id": "256HntMon9GF",
        "colab_type": "text"
      },
      "source": [
        "### Built-in Scope\n",
        "The built-in namespace is created when the Python interpreter starts up, and it’s never deleted. It is where you access all of those handy *built-in* functions that come pre-loaded in Python.\n",
        "\n",
        "Here, since `len` is not defined in either local, enclosed, or global scope, the built-in scope is searched."
      ]
    },
    {
      "cell_type": "code",
      "metadata": {
        "id": "97BOc33LlhZ6",
        "colab_type": "code",
        "colab": {}
      },
      "source": [
        "\"\"\"Demonstration of built-in scope\"\"\"\n",
        "\n",
        "# where is the built-in scope?\n",
        "\n",
        "def my_func_outer(word):\n",
        "  def my_func_inner():\n",
        "    print(len(word))  # wait...len isn't defined anywhere!\n",
        "  my_func_inner()\n",
        "\n",
        "my_func_outer('hello')"
      ],
      "execution_count": null,
      "outputs": []
    },
    {
      "cell_type": "code",
      "metadata": {
        "id": "iuuNDo8MXJqB",
        "colab_type": "code",
        "colab": {}
      },
      "source": [
        "# if we had defined our own len() function within any scope, it would\n",
        "# take precedence over Python's built-in len() function\n",
        "\n",
        "def len(obj):\n",
        "  print(\"We'll handle this ourselves, thank you very much!\")\n",
        "\n",
        "len('hello')"
      ],
      "execution_count": null,
      "outputs": []
    },
    {
      "cell_type": "markdown",
      "metadata": {
        "id": "2EA22JttovMy",
        "colab_type": "text"
      },
      "source": [
        "## Namespace Conflicts\n",
        "\n",
        "Now, let's imagine that someone is implementing a function to calculate the surface area of any of the known planets in our galaxy, and the function expects an integer argument that corresponds to the planet's distance from the sun, relative to the other planets."
      ]
    },
    {
      "cell_type": "code",
      "metadata": {
        "id": "aIPAkq0InRdP",
        "colab_type": "code",
        "colab": {}
      },
      "source": [
        "\"\"\"Rescued by namespaces\"\"\"\n",
        "# Adjust the following code to produce the correct calculation\n",
        "# as shown in each planet line's comment.\n",
        "\n",
        "from math import pi  # we are going to need pi for some calculations\n",
        "# import math  # <-- hint\n",
        "\n",
        "def planet_area(pi):\n",
        "  \"\"\"Given a planet index based on distance from\n",
        "  the sun, find the surface area of the planet.\n",
        "  \"\"\"\n",
        "  # the planets, ordered by distance from the sun,\n",
        "  # nearest to farthest, and their diameters\n",
        "  planets = {\n",
        "      'mercury': 3031,  # should calculate 28,842,647.99\n",
        "      'venus': 7521,  # should calculate 177,658,321.20\n",
        "      'earth': 7926,  # should calculate 197,359,487.49\n",
        "      'mars': 4222,  # should calculate 55,999,781.26\n",
        "      'jupiter': 88729,  # should calculate 24,732,684,486.76\n",
        "      'saturn': 74600,  # should calculate 17,483,465,772.05\n",
        "      'uranus': 32600,  # should calculate 3,338,759,008.53\n",
        "      'neptune': 30200  # should calculate 2,865,258,163.78\n",
        "  }\n",
        "  planet = list(planets.items())[pi]\n",
        "  r = planet[1] // 2\n",
        "  planet_area = 4 * pi * r**2\n",
        "  print(f\"The surface area of {planet[0].capitalize()} is {planet_area:,.2f} square miles\")\n",
        "\n",
        "planet_area(2)"
      ],
      "execution_count": null,
      "outputs": []
    },
    {
      "cell_type": "markdown",
      "metadata": {
        "id": "sEfhjrbH3zIH",
        "colab_type": "text"
      },
      "source": [
        "### **Sidebar**: Syntax vs. Semantic Errors\n",
        "There are two types of errors that you will encounter on your coding adventures: **Syntax** and **Semantic**.\n"
      ]
    },
    {
      "cell_type": "markdown",
      "metadata": {
        "id": "lanCaTn-hy5x",
        "colab_type": "text"
      },
      "source": [
        "#### Syntax Errors\n",
        "The Syntax of a programming language is used to signify the structure of programs without considering their meaning. A syntax error occurs when you write a statement that is not valid according to the grammar of the language. These will not go unnoticed. They will scream at you! In Python, these include errors such as missing colons when introducing a new code block, mismatched parentheses or braces, etc. In fact, you will see a specific SyntaxError exception type from Python when falling prey to these types of blunders."
      ]
    },
    {
      "cell_type": "code",
      "metadata": {
        "id": "TBOKwYWA7Hly",
        "colab_type": "code",
        "colab": {}
      },
      "source": [
        "# Fix the syntax error!\n",
        "list('abc']"
      ],
      "execution_count": null,
      "outputs": []
    },
    {
      "cell_type": "markdown",
      "metadata": {
        "id": "1vw9Ni6H6Jv4",
        "colab_type": "text"
      },
      "source": [
        "#### Semantic Errors\n",
        "A semantic error (or logic error) occurs when a statement is syntactically valid, but does not do what the programmer intended. It causes the program to operate incorrectly, but does not cause it to terminate abnormally. Semantic errors can lend themselves to being difficult to track down, generally going unnoticed until unexepected results become apparent. These include mistakes such as mismatched string cases in comparisons, overwriting variable names from other scopes, incorrect indentation, etc."
      ]
    },
    {
      "cell_type": "code",
      "metadata": {
        "id": "963H1CR5-gcw",
        "colab_type": "code",
        "colab": {}
      },
      "source": [
        "# The Case of the Mismatched Case\n",
        "# Try entering Mr. Magoo (case sensitive) when asked for your name\n",
        "your_name = input(\"What is your name? \")\n",
        "if your_name in ['mr. magoo', 'mr. jones', 'mr. anderson']:\n",
        "  print(\"You are on the list! Welcome!\")\n",
        "else:\n",
        "  print(\"You are not invited. Bye bye!\")"
      ],
      "execution_count": null,
      "outputs": []
    },
    {
      "cell_type": "code",
      "metadata": {
        "id": "GCPCyWWzgJim",
        "colab_type": "code",
        "colab": {}
      },
      "source": [
        "# The Case of the Blank Space\n",
        "# Where's Debby?!\n",
        "friends = ['Joe', 'Susan', 'Bill', 'Greg', 'Debby', 'Polly', 'Marsha', 'Steve']\n",
        "guest_list = ['Bill', 'Debby ', 'Susan', 'Polly', 'Steve']\n",
        "num_invited = 0\n",
        "for person in friends:\n",
        "  if person in guest_list:\n",
        "    print(f\"Dear {person}. You are invited!\")\n",
        "    num_invited += 1\n",
        "\n",
        "print(f\"{num_invited} of your friends will be coming to the party.\")"
      ],
      "execution_count": null,
      "outputs": []
    },
    {
      "cell_type": "markdown",
      "metadata": {
        "id": "PeR1VZFA1ePq",
        "colab_type": "text"
      },
      "source": [
        "### Examples of syntax vs. semantic errors, side-by-side\n"
      ]
    },
    {
      "cell_type": "code",
      "metadata": {
        "id": "10dcZYhCqqMe",
        "colab_type": "code",
        "colab": {}
      },
      "source": [
        "# syntax error -- breaks your interpreter!\n",
        "# Fix the syntax error!\n",
        "number = input(\"Enter a number: \")\n",
        "if number in range(5)\n",
        "  print('Good')\n",
        "else:\n",
        "  print('Bad')"
      ],
      "execution_count": null,
      "outputs": []
    },
    {
      "cell_type": "code",
      "metadata": {
        "id": "ApZ7HnpY1lQO",
        "colab_type": "code",
        "colab": {}
      },
      "source": [
        "# semantic error -- breaks your spirit :(\n",
        "# Try entering 3 when asked for a number...fix the semantic error!\n",
        "number = input(\"Enter a number: \")\n",
        "if number in range(5):\n",
        "  print('Good')\n",
        "else:\n",
        "  print('Bad')"
      ],
      "execution_count": null,
      "outputs": []
    },
    {
      "cell_type": "markdown",
      "metadata": {
        "id": "nnB4AmMH7lE-",
        "colab_type": "text"
      },
      "source": [
        "The examples given have been very simplistic in order to directly demonstrate these concepts. In reality, as your programs get larger and more complex, semantic errors can become increasingly more difficult to track down. All is not lost, however! Although tried-and-true techniques like exception handling will be of no use, with well-written unit tests and the use of a debugger, you can track down semantic errors. Some dev environment extensions will even detect certain semantic errors as you write them, such as trying to use a variable that has not been defined."
      ]
    },
    {
      "cell_type": "markdown",
      "metadata": {
        "id": "NG0udyWB4hG1",
        "colab_type": "text"
      },
      "source": [
        "### Scope Access\n",
        "You can view the dictionary mapping of the global and local variables by using the `globals()` and `locals()` built-in functions.\n"
      ]
    },
    {
      "cell_type": "code",
      "metadata": {
        "id": "_gzDKtoZQ2Lt",
        "colab_type": "code",
        "colab": {}
      },
      "source": [
        "my_global_var = \"Hello, Globe!\"\n",
        "\n",
        "def my_func():\n",
        "  my_local_var = \"Hello, locals!\"\n",
        "  print(locals())\n",
        "  print(f\"my_local_var in locals? {'my_local_var' in locals()}\")\n",
        "\n",
        "my_func()"
      ],
      "execution_count": null,
      "outputs": []
    },
    {
      "cell_type": "code",
      "metadata": {
        "id": "yup9dfG0UrhU",
        "colab_type": "code",
        "colab": {}
      },
      "source": [
        "print(globals())\n",
        "print(f\"my_local_var in globals? {'my_local_var' in globals()}\")\n",
        "print(f\"my_global_var in globals? {'my_global_var' in globals()}\")"
      ],
      "execution_count": null,
      "outputs": []
    },
    {
      "cell_type": "markdown",
      "metadata": {
        "id": "GvlY-fSJ4bBR",
        "colab_type": "text"
      },
      "source": [
        "### Scope Keywords\n",
        "As you have seen, variables are searched for hierarchically through the LEGB rule (scope resolution) where the nearest definition of the variable is the one that will be used. Because of this, if you try to modify a variable from another scope, it will instead be created as a newly defined variable within its own scope."
      ]
    },
    {
      "cell_type": "code",
      "metadata": {
        "id": "TXAoxc7CHVC8",
        "colab_type": "code",
        "colab": {}
      },
      "source": [
        "useful_var = \"I am useful.\"\n",
        "\n",
        "def redefine_useful():\n",
        "  useful_var = \"I am way more useful now!\"  # we are redefining the global useful_var...right?\n",
        "\n",
        "redefine_useful()\n",
        "print(useful_var)  # wrong!"
      ],
      "execution_count": null,
      "outputs": []
    },
    {
      "cell_type": "markdown",
      "metadata": {
        "id": "WxiVe5aEHVZQ",
        "colab_type": "text"
      },
      "source": [
        "Python's scope keywords make it is possible to modify variables from other scopes.\n",
        "\n",
        "The `global` keyword allows you to essentially pull a variable from the global scope into another scope."
      ]
    },
    {
      "cell_type": "code",
      "metadata": {
        "id": "npsnH-oMFnnl",
        "colab_type": "code",
        "colab": {}
      },
      "source": [
        "my_global_var = \"global var\"\n",
        "\n",
        "def my_func():\n",
        "  global my_global_var\n",
        "  my_global_var = \"global from local\"\n",
        "\n",
        "print(my_global_var)\n",
        "my_func()\n",
        "print(my_global_var)"
      ],
      "execution_count": null,
      "outputs": []
    },
    {
      "cell_type": "markdown",
      "metadata": {
        "id": "HUwYuVFoGCES",
        "colab_type": "text"
      },
      "source": [
        "The `nonlocal` keyword allows you to pull a variable from an enclosing scope into another scope."
      ]
    },
    {
      "cell_type": "code",
      "metadata": {
        "id": "S3B2fzKmF5jd",
        "colab_type": "code",
        "colab": {}
      },
      "source": [
        "def my_func_outer():\n",
        "  limits = 'enclosed'\n",
        "  def my_func_inner():\n",
        "    nonlocal limits\n",
        "    limits = 'enclosed from local'\n",
        "  \n",
        "  print(limits)\n",
        "  my_func_inner()\n",
        "  print(limits)\n",
        "\n",
        "my_func_outer()"
      ],
      "execution_count": null,
      "outputs": []
    }
  ]
}