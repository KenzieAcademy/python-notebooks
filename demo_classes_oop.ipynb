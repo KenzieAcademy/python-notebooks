{
  "nbformat": 4,
  "nbformat_minor": 0,
  "metadata": {
    "kernelspec": {
      "name": "python3",
      "display_name": "Python 3"
    },
    "colab": {
      "name": "demo_classes_oop.ipynb",
      "provenance": []
    }
  },
  "cells": [
    {
      "cell_type": "markdown",
      "metadata": {
        "id": "NponoejRPbOz"
      },
      "source": [
        "<table align=left width=\"590\" height=\"144\" style=\"height: 67px; width: 565px;\">\n",
        "<tbody>\n",
        "<tr>\n",
        "<td width=82><img src=\"https://static1.squarespace.com/static/5992c2c7a803bb8283297efe/t/59c803110abd04d34ca9a1f0/1530629279239/\" /></td>\n",
        "<td style=\"width: 422px; height: 67px;\">\n",
        "<h1 style=\"text-align: left;\">Intro to Classes and OOP</h1>\n",
        "<p><a href=\"https://colab.research.google.com/github/KenzieAcademy/python-notebooks/blob/master/demo_classes_oop.ipynb\"> <img src=\"https://colab.research.google.com/assets/colab-badge.svg\" alt=\"Open In Colab\" align=\"left\" width=\"188\" height=\"32\" /> </a></p>\n",
        "</td>\n",
        "</tr>\n",
        "</tbody>\n",
        "</table>"
      ]
    },
    {
      "cell_type": "markdown",
      "metadata": {
        "id": "njN1ruDBPbO1"
      },
      "source": [
        "### What Is Object-Oriented Programming (OOP)?\n",
        "\n",
        "Object-oriented Programming, or **OOP** for short, is a programming _paradigm_ which provides a means of structuring programs so that properties and behaviors are bundled into individual objects.\n",
        "\n",
        "### Example Objects\n",
        "\n",
        "Person: \n",
        " - Properties -> Name, Age, Address\n",
        " - Behaviors -> Run, Sleep, Talk\n",
        "\n",
        "Email:\n",
        " - Properties -> Subject, Body, From, Recipient list\n",
        " - Behaviors -> Send, Add Attachment\n",
        "\n",
        "OOP models real-world entities as software objects, which have some data associated with them and can perform certain functions.\n",
        "\n",
        "The key takeaway is that objects are at the center of the object-oriented programming paradigm, not only representing the data, as in procedural programming, but in the overall structure of the program as well.\n"
      ]
    },
    {
      "cell_type": "markdown",
      "metadata": {
        "id": "HqLyenghBiQR"
      },
      "source": [
        "## Classes\n",
        "A **class** is a blueprint that defines the properties and behaviors of any type of object. Generally speaking, classes are used to create new, user-defined data structures that contain arbitrary information about something.\n",
        "\n",
        "To create a class, use the `class` keyword followed by a descriptive name in **title case** for the type of object you are outlining. By following the title case convention, anyone looking at your code will be able to instantly recognize a class just by its name."
      ]
    },
    {
      "cell_type": "code",
      "metadata": {
        "id": "IOqEPMbIG1Au"
      },
      "source": [
        "# Empty class definition\n",
        "class MyClass:\n",
        "    pass"
      ],
      "execution_count": null,
      "outputs": []
    },
    {
      "cell_type": "markdown",
      "metadata": {
        "id": "aUySBohEG0Cp"
      },
      "source": [
        "Imagine that you wanted to represent some dogs in your program. You decide that any dog should have a name and age, and be able to \"speak\" in some manner. A class will allow you to outline this definition of what a dog is within the context of your program."
      ]
    },
    {
      "cell_type": "code",
      "metadata": {
        "id": "_DJ1Z4xAE2HB"
      },
      "source": [
        "class Dog:\n",
        "    def __init__(self, name, age):\n",
        "        self.name = name\n",
        "        self.age = age\n",
        "\n",
        "    def speak(self, sound):\n",
        "        return f\"{self.name} says {sound}\""
      ],
      "execution_count": null,
      "outputs": []
    },
    {
      "cell_type": "markdown",
      "metadata": {
        "id": "z9KXxRcKPbO5"
      },
      "source": [
        "## Objects\n",
        "Once you have a class, it can be used to create actual objects that contain the properties and behaviors defined within it. These objects are called **instances** of the class. The act of creating an object from a class is called **instantiation**. To create an object from a class, you **instantiate** it. Notice that all of this terminology centers around the word **instance**.\n",
        "\n",
        "Once an object is instantiated from a class, it's not just an *idea* anymore; it's an actual object that lives on its own &mdash; an instance of the class. The properties and behaviors of any object are its own, and are not tied to other objects instantiated from the same class.\n",
        "\n",
        "Put another way, a class is like a form or questionnaire. It defines the needed information. An object would be the filled out form &mdash; a particular instance of the form; it contains actual information reflective of what went into it.\n",
        "\n",
        "You can fill out multiple copies of the form to create many different instances of it, but without the form as a guide, you would be lost, not knowing what information is required. Thus, before you can create individual instances of an object, there must first be a class that defines what is needed."
      ]
    },
    {
      "cell_type": "code",
      "metadata": {
        "id": "bpMbTHEpL4n7"
      },
      "source": [
        "dogs = []\n",
        "\n",
        "# A dog named Roger who's 8 years old\n",
        "dogs.append(Dog(\"Roger\", 8))\n",
        "# A dog named Lucy who's 5 years old\n",
        "dogs.append(Dog(\"Lucy\", 5))\n",
        "\n",
        "print(dogs)"
      ],
      "execution_count": null,
      "outputs": []
    },
    {
      "cell_type": "markdown",
      "metadata": {
        "id": "_r8XZnUiPbPC"
      },
      "source": [
        "## Instance Attributes\n",
        "The properties that have been mentioned as part of a class or object are actually referred to as **attributes**. Attributes can be accessed through dot notation (*i.e., object_name.attribute_name*)."
      ]
    },
    {
      "cell_type": "code",
      "metadata": {
        "id": "pCMC-7S9MDTn"
      },
      "source": [
        "# Let's find out about our dogs.\n",
        "# Notice that each dog's attributes are specific to their own instance\n",
        "for dog in dogs:\n",
        "    print(f\"{dog.name} is {dog.age} years old.\")"
      ],
      "execution_count": null,
      "outputs": []
    },
    {
      "cell_type": "markdown",
      "metadata": {
        "id": "9cnEo1OHPbPG"
      },
      "source": [
        "## Class Attributes\n",
        "While instance attributes are specific to each object, class attributes are the same for all instances, which in this case is all dogs.\n",
        "\n",
        "Let's update our `Dog` class to indicate that all dogs are of the mammal species."
      ]
    },
    {
      "cell_type": "code",
      "metadata": {
        "id": "q6uW1pmjPbPH"
      },
      "source": [
        "class Dog:\n",
        "    # Class Attribute\n",
        "    species = 'mammal'\n",
        "\n",
        "    # Initializer / Instance Attributes\n",
        "    def __init__(self, name, age):\n",
        "        self.name = name\n",
        "        self.age = age"
      ],
      "execution_count": null,
      "outputs": []
    },
    {
      "cell_type": "markdown",
      "metadata": {
        "id": "tUOl8P1DPbPK"
      },
      "source": [
        "## Instantiating Objects\n",
        "<img width=200 src=\"https://www.rd.com/wp-content/uploads/2018/02/0_Adorable-Puppy-Pictures-that-Will-Make-You-Melt_516537724_ch_ch_FT.jpg\" />\n",
        "\n",
        "Let's create some doggies!\n",
        "\n",
        "A special `__init__()` function is used to initialize an object’s initial attributes by giving them their default value (or state). Each argument passed into the class during instantiation is provided to the `__init__()` function to give the programmer a chance to associate values to the specific instance of the class."
      ]
    },
    {
      "cell_type": "code",
      "metadata": {
        "id": "e_gwBpBhPbPK"
      },
      "source": [
        "# What happens if we forget init params?\n",
        "d = Dog()"
      ],
      "execution_count": null,
      "outputs": []
    },
    {
      "cell_type": "code",
      "metadata": {
        "id": "8m5heybgPbPN"
      },
      "source": [
        "# Instantiate!\n",
        "daisy = Dog('Daisy', 2)\n",
        "benji = Dog('Benji', 0)"
      ],
      "execution_count": null,
      "outputs": []
    },
    {
      "cell_type": "code",
      "metadata": {
        "id": "ow82vkLQPbPP"
      },
      "source": [
        "# Access the instance attributes\n",
        "print(f\"{daisy.name} is {daisy.age} and {benji.name} is {benji.age}.\")"
      ],
      "execution_count": null,
      "outputs": []
    },
    {
      "cell_type": "code",
      "metadata": {
        "id": "JgMjX1-rXiCj"
      },
      "source": [
        "# Is Daisy a mammal?\n",
        "if daisy.species == \"mammal\":\n",
        "    print(f\"{daisy.name} is a {daisy.species}!\")"
      ],
      "execution_count": null,
      "outputs": []
    },
    {
      "cell_type": "markdown",
      "metadata": {
        "id": "o-7eKaekPbPT"
      },
      "source": [
        "## Exercise\n",
        "Using the same `Dog` class:\n",
        "1. Instantiate three new dogs, each with a different name and age.\n",
        "1. Complete the function `get_oldest_dog()`, which takes any number of dogs as arguments (`*args`) and should return the oldest dog.\n",
        "1. Use the result to print the oldest dog's information.\n",
        "  * e.g., `The oldest dog is 7 years old.`"
      ]
    },
    {
      "cell_type": "code",
      "metadata": {
        "id": "kbC_SONiPbPT"
      },
      "source": [
        "# Three Doggies coming right up:\n",
        "# code goes here\n",
        "\n",
        "def get_oldest_dog(*args):\n",
        "    \"\"\"Returns the oldest dog from any number of dogs.\"\"\"\n",
        "    # more code goes here\n",
        "    pass  # remove this line\n",
        "\n",
        "oldest = get_oldest_dog(???)  # replace ???\n",
        "print(f\"The oldest dog is {?}, {?} years old\")  # replace each ?"
      ],
      "execution_count": null,
      "outputs": []
    },
    {
      "cell_type": "markdown",
      "metadata": {
        "id": "kvcYi3HqPbPV"
      },
      "source": [
        "## Instance Methods (not instance attributes)\n",
        "Instance methods are functions that are defined inside a class. They are mainly used to perform operations involving the contents of an instance. For all instance methods, the first argument is always `self`. Python will implicitly provide the object instance as the first argument to all instance methods when they are called. That is why it is referred to as `self` &mdash; it represents the object instance itself."
      ]
    },
    {
      "cell_type": "code",
      "metadata": {
        "id": "Ej6VJWDWPbPW"
      },
      "source": [
        "class Dog:\n",
        "    # Class Attribute\n",
        "    species = 'mammal'\n",
        "\n",
        "    # Initializer / Instance Attributes\n",
        "    def __init__(self, name, age):\n",
        "        self.name = name\n",
        "        self.age = age\n",
        "\n",
        "    # instance method\n",
        "    def description(self):\n",
        "        return f\"{self.name} is a {self.species} and is {self.age} years old.\"\n",
        "\n",
        "    # instance method\n",
        "    def speak(self, sound):\n",
        "        return f\"{self.name} says \\\"{sound}\\\".\"\n",
        "    \n",
        "\n",
        "# Instantiate the Dog object\n",
        "brutus = Dog(\"Brutus\", 9)\n",
        "\n",
        "# call our instance methods\n",
        "print(brutus.description())\n",
        "print(brutus.speak(\"SNORT\"))"
      ],
      "execution_count": null,
      "outputs": []
    },
    {
      "cell_type": "markdown",
      "metadata": {
        "id": "--CDWrnxPbPZ"
      },
      "source": [
        "## Object Inheritance\n",
        "Inheritance is the process by which one class takes on the attributes and methods of another. Newly formed classes are called **child** classes, and the classes that child classes are derived from are called **parent** classes.\n",
        "\n",
        "It’s important to note that child classes override or extend the functionality (i.e., attributes and behaviors) of parent classes. In other words, child classes inherit all of the parent’s attributes and behaviors, but can also specify different behavior to follow. The most basic type of class is the `object` class, which all other classes inherit as their parent."
      ]
    },
    {
      "cell_type": "code",
      "metadata": {
        "id": "GJ1mvVOVFAjY"
      },
      "source": [
        "# The object class from which all other classes implicitly inherit\n",
        "dir(object)"
      ],
      "execution_count": null,
      "outputs": []
    },
    {
      "cell_type": "code",
      "metadata": {
        "id": "lk6yfmRfFU-3"
      },
      "source": [
        "# Compare this to the above cell and you should notice the similarity\n",
        "class Dog:\n",
        "    pass\n",
        "\n",
        "dir(Dog)"
      ],
      "execution_count": null,
      "outputs": []
    },
    {
      "cell_type": "markdown",
      "metadata": {
        "id": "APtTiJWuEt5Q"
      },
      "source": [
        "## Extending the Functionality of a Parent Class\n",
        "Let's continue using the `Dog` class. What’s another way to differentiate one dog from another?"
      ]
    },
    {
      "cell_type": "code",
      "metadata": {
        "id": "NM_TTEiUPbPZ"
      },
      "source": [
        "# Parent class\n",
        "class Dog:\n",
        "    # Class attribute\n",
        "    species = 'mammal'\n",
        "\n",
        "    # Initializer / Instance attributes\n",
        "    def __init__(self, name, age):\n",
        "        self.name = name\n",
        "        self.age = age\n",
        "\n",
        "    # instance method\n",
        "    def description(self):\n",
        "        return f\"{self.name} is {self.age} years old\"\n",
        "\n",
        "    # instance method\n",
        "    def speak(self):\n",
        "        return f\"{self.name} says \\\"GENERIC WOOF\\\".\"\n",
        "\n",
        "    # instance method\n",
        "    def run(self, seconds, fps):\n",
        "        \"\"\"How fast is the dog in feet per second (fps)?\"\"\"\n",
        "        distance = seconds * fps\n",
        "        return f\"{self.name} ran {distance} feet in {seconds} seconds.\"\n",
        "\n",
        "\n",
        "# Child class (inherits from Dog class)\n",
        "class Pug(Dog):\n",
        "  def run(self, seconds):\n",
        "    distance = seconds * 2\n",
        "    return f\"{self.name} ran {distance} feet in {seconds} seconds with those tiny little legs!\"\n",
        "\n",
        "# Child class (inherits from Dog class)\n",
        "class GreatDane(Dog):\n",
        "  def run(self, seconds):\n",
        "    distance = seconds * 25\n",
        "    return f\"{self.name} ran {distance} feet in {seconds} seconds with those crazy legs!\""
      ],
      "execution_count": null,
      "outputs": []
    },
    {
      "cell_type": "code",
      "metadata": {
        "id": "KWIskufAPbPc"
      },
      "source": [
        "# create a Pug instance\n",
        "brutus = Pug('Brutus', 9)\n",
        "print(brutus.speak())\n",
        "print(brutus.run(30))"
      ],
      "execution_count": null,
      "outputs": []
    },
    {
      "cell_type": "code",
      "metadata": {
        "id": "tCcZ5casPbPe"
      },
      "source": [
        "# Make a bigger dog!\n",
        "marmaduke = GreatDane('Marmaduke', 5)\n",
        "print(marmaduke.speak())\n",
        "print(marmaduke.run(30))"
      ],
      "execution_count": null,
      "outputs": []
    },
    {
      "cell_type": "markdown",
      "metadata": {
        "id": "jh86AGgBPbPh"
      },
      "source": [
        "## Parent or Child?\n",
        "The `isinstance()` function is used to determine if an instance is also an instance of a certain parent class.\n"
      ]
    },
    {
      "cell_type": "code",
      "metadata": {
        "id": "kEEPBEeAPbPi"
      },
      "source": [
        "# is brutus an instance of a Dog?\n",
        "isinstance(brutus, Dog)"
      ],
      "execution_count": null,
      "outputs": []
    },
    {
      "cell_type": "code",
      "metadata": {
        "id": "woMM4K1-PbPl"
      },
      "source": [
        "# How about marmaduke?\n",
        "isinstance(marmaduke, Dog)"
      ],
      "execution_count": null,
      "outputs": []
    },
    {
      "cell_type": "code",
      "metadata": {
        "id": "yx0IejztPbPo"
      },
      "source": [
        "# is brutus a pug?\n",
        "isinstance(brutus, Pug)"
      ],
      "execution_count": null,
      "outputs": []
    },
    {
      "cell_type": "code",
      "metadata": {
        "id": "4Xcy08w8PbPs"
      },
      "source": [
        "# is brutus a Great Dane?\n",
        "isinstance(brutus, GreatDane)"
      ],
      "execution_count": null,
      "outputs": []
    },
    {
      "cell_type": "markdown",
      "metadata": {
        "id": "iB0IRBv_PbPu"
      },
      "source": [
        "## Overriding the Functionality of a Parent Class\n",
        "Child classes can also override attributes and behaviors from their parent class."
      ]
    },
    {
      "cell_type": "code",
      "metadata": {
        "id": "BrLJLJelPbPu"
      },
      "source": [
        "# Child class (inherits from Dog class)\n",
        "class Pug(Dog):\n",
        "  def speak(self):\n",
        "    return f\"{self.name} says \\\"SNORT\\\".\"\n",
        "\n",
        "class GreatDane(Dog):\n",
        "  def speak(self):\n",
        "    return f\"{self.name} says \\\"BOW WOW WOW WOW WOW\\\".\""
      ],
      "execution_count": null,
      "outputs": []
    },
    {
      "cell_type": "code",
      "metadata": {
        "id": "JxRKR2FsPbPy"
      },
      "source": [
        "brutus = Pug('Brutus', 9)\n",
        "print(brutus.speak())\n",
        "print(brutus.run(60, 2))"
      ],
      "execution_count": null,
      "outputs": []
    },
    {
      "cell_type": "code",
      "metadata": {
        "id": "AzJ6LdyZGW-Y"
      },
      "source": [
        "marmaduke = GreatDane('marmaduke', 2)\n",
        "print(marmaduke.speak())\n",
        "print(marmaduke.run(60, 25))"
      ],
      "execution_count": null,
      "outputs": []
    },
    {
      "cell_type": "markdown",
      "metadata": {
        "id": "4mRT7JKrPbP8"
      },
      "source": [
        "## Checkup\n",
        "    What’s a class?\n",
        "    What’s an instance?\n",
        "    What’s the relationship between a class and an instance?\n",
        "    What’s the Python syntax used for defining a new class?\n",
        "    What’s the spelling convention for a class name?\n",
        "    How do you instantiate, or create an instance of, a class?\n",
        "    How do you access the properties and behaviors of a class instance?\n",
        "    What's an attribute?\n",
        "    What’s a method?\n",
        "    What’s the purpose of self?\n",
        "    What’s the purpose of the `__init__` method?\n",
        "    Describe how inheritance helps prevent code duplication.\n",
        "    Can child classes override properties of their parents?"
      ]
    }
  ]
}