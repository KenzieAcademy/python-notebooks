{
  "nbformat": 4,
  "nbformat_minor": 0,
  "metadata": {
    "kernelspec": {
      "name": "python3",
      "display_name": "Python 3"
    },
    "colab": {
      "name": "Activity_Camels_Rollin_N_Reverse.ipynb",
      "provenance": []
    }
  },
  "cells": [
    {
      "cell_type": "markdown",
      "metadata": {
        "id": "dEYcCY7821i3"
      },
      "source": [
        "<table border=\"0\" align=\"left\" width=\"700\" height=\"144\">\n",
        "<tbody>\n",
        "<tr>\n",
        "<td width=\"120\"><img width=\"100\" src=\"https://static1.squarespace.com/static/5992c2c7a803bb8283297efe/t/59c803110abd04d34ca9a1f0/1530629279239/\" /></td>\n",
        "<td style=\"width: 600px; height: 67px;\">\n",
        "<h1 style=\"text-align: left;\">Activity: Camels Rollin' N Reverse</h1>\n",
        "<p><a href=\"https://colab.research.google.com/github/KenzieAcademy/python-notebooks/blob/master/Activity_Camels_Rollin_N_Reverse.ipynb\"> <img src=\"https://colab.research.google.com/assets/colab-badge.svg\" alt=\"Open In Colab\" align=\"left\" width=\"188\" height=\"32\" /> </a></p>\n",
        "</td>\n",
        "</tr>\n",
        "</tbody>\n",
        "</table>"
      ]
    },
    {
      "cell_type": "markdown",
      "metadata": {
        "id": "mLBWqpto21i3"
      },
      "source": [
        "This is a set of four string practice exercises\n",
        "1. The Case of the Camel\n",
        "1. Keep on Rollin'\n",
        "1. Find the Nth Occurrence\n",
        "1. Reverse the Words\n",
        "\n",
        "## TDD == Test Driven Development\n",
        "These exercises also introduce you to the software engineering concept of **TDD**.\n",
        " - Start with a collection of tests that are all failing.\n",
        " - Switch off between editing your function and testing it.\n",
        " - As you develop the function, more tests will pass."
      ]
    },
    {
      "cell_type": "markdown",
      "metadata": {
        "id": "4TZSI6Vm21i4"
      },
      "source": [
        "## Instructions\n",
        "\n",
        "**Use SHIFT+ENTER to run each cell.**\n",
        "These exercises use a tool called Juptyer Notebook. Here are some quick guidelines:\n",
        "\n",
        "- Each block of python code is called a cell.\n",
        "- You are running an actual python program, cell-by-cell.\n",
        "- You can edit and re-run the code cells in place without overwriting the original notebook.\n",
        "- Don't worry about the In [x]: or Out [y]: notations on the left margin.\n",
        "- Variables are remembered between cells.\n",
        "- Don't worry about formatting your output to print everything on a single line."
      ]
    },
    {
      "cell_type": "code",
      "metadata": {
        "id": "wYZdE7xg21i5"
      },
      "source": [
        "# First, let us define a simple test \"harness\" to be used in all 4 exercises.\n",
        "def run_test(got, expected):\n",
        "    if got != expected:\n",
        "        print(\"Test result: BOO -- Expected '{}' but got '{}'\".format(expected, got))\n",
        "    else:\n",
        "        print(\"Test result: YAY\")"
      ],
      "execution_count": null,
      "outputs": []
    },
    {
      "cell_type": "markdown",
      "metadata": {
        "id": "jROvqEkI21i8"
      },
      "source": [
        "### Let us begin..."
      ]
    },
    {
      "cell_type": "markdown",
      "metadata": {
        "id": "C1gLHpdZ21i8"
      },
      "source": [
        "### 1. The Case of the Camel\n",
        "Create a function `to_camel_case` that converts dash-/underscore-delimited words into camel case. The first word within the output should be capitalized only if the original word was capitalized.\n",
        "\n",
        "Examples:\n",
        "```\n",
        "to_camel_case(\"the-stealth-warrior\") # returns \"theStealthWarrior\"\n",
        "to_camel_case(\"The_Stealth_Warrior\") # returns \"TheStealthWarrior\"\n",
        "```"
      ]
    },
    {
      "cell_type": "code",
      "metadata": {
        "id": "a0tBwmM_21i9"
      },
      "source": [
        "def to_camel_case(s):\n",
        "    # Your code here\n",
        "    pass"
      ],
      "execution_count": null,
      "outputs": []
    },
    {
      "cell_type": "code",
      "metadata": {
        "id": "kTiBkklL21i_"
      },
      "source": [
        "# Test functions\n",
        "run_test(to_camel_case(\"the-stealth-warrior\"), \"theStealthWarrior\")\n",
        "run_test(to_camel_case(\"The_Stealth_Warrior\"), \"TheStealthWarrior\")"
      ],
      "execution_count": null,
      "outputs": []
    },
    {
      "cell_type": "markdown",
      "metadata": {
        "id": "5NZDSmdw21jG"
      },
      "source": [
        "### 2. Keep on Rollin'\n",
        "Your beater car can't take another Indiana winter. The shock absorbers are gone and you think it can handle about 15 more potholes before it's wrecked.\n",
        "\n",
        "Unfortunately for you, your drive is very bumpy! Given a string showing either flat road (\"_\") or bumps (\"n\"), work out whether you make it home safely. 15 bumps or under, return \"Woohoo!\", over 15 bumps return \"Car Dead\".\n",
        "\n",
        "Write a function named `road_test` that will examine a road condition string and return the prediction.\n",
        "\n",
        "Examples:\n",
        "```\n",
        "road_test(\"n\") ==> \"Woohoo!\"\n",
        "road_test(\"_nnnnnnn_n__n______nn__nn_nnn\") ==> \"Car Dead\"\n",
        "road_test(\"______n___n_\") ==> \"Woohoo!\"\n",
        "```"
      ]
    },
    {
      "cell_type": "code",
      "metadata": {
        "id": "SL80wM_U21jH"
      },
      "source": [
        "def road_test(s):\n",
        "    # Your code here\n",
        "    pass"
      ],
      "execution_count": null,
      "outputs": []
    },
    {
      "cell_type": "code",
      "metadata": {
        "id": "Uxe3RDbp21jM"
      },
      "source": [
        "# Test functions\n",
        "run_test(road_test(\"n\"), \"Woohoo!\")\n",
        "run_test(road_test(\"_nnnnnnn_n__n______nn__nn_nnn\"), \"Car Dead\")\n",
        "run_test(road_test(\"______n___n_\"), \"Woohoo!\")"
      ],
      "execution_count": null,
      "outputs": []
    },
    {
      "cell_type": "markdown",
      "metadata": {
        "id": "285av93m21jB"
      },
      "source": [
        "### 3. Find the Nth Occurrence\n",
        "Create a function `find_nth_occurrence` that returns the index of the nth occurrence of a substring within a string (considering that those substrings could overlap each other). If there are fewer than n occurrences of the substring, return -1.\n",
        "\n",
        "Examples:\n",
        "```\n",
        "string = \"This is an example. Return the nth occurrence of example in this example string.\"\n",
        "find_nth_occurrence(\"example\", string, 1) == 11\n",
        "find_nth_occurrence(\"example\", string, 2) == 49\n",
        "find_nth_occurrence(\"example\", string, 3) == 65\n",
        "find_nth_occurrence(\"example\", string, 4) == -1\n",
        "```\n",
        "Multiple occurrences are allowed to overlap, e.g.\n",
        "```\n",
        "find_nth_occurrence(\"TestTest\", \"TestTestTestTest\", 1) == 0\n",
        "find_nth_occurrence(\"TestTest\", \"TestTestTestTest\", 2) == 4\n",
        "find_nth_occurrence(\"TestTest\", \"TestTestTestTest\", 3) == 8\n",
        "find_nth_occurrence(\"TestTest\", \"TestTestTestTest\", 4) == -1\n",
        "```"
      ]
    },
    {
      "cell_type": "code",
      "metadata": {
        "id": "cl8VpWZl21jC"
      },
      "source": [
        "def find_nth_occurrence(sub, string, n):\n",
        "    # Your code here\n",
        "    pass"
      ],
      "execution_count": null,
      "outputs": []
    },
    {
      "cell_type": "code",
      "metadata": {
        "id": "axkQyEtO21jE"
      },
      "source": [
        "# Test functions\n",
        "string = \"This is an example. Return the nth occurrence of example in this example string.\"\n",
        "run_test(find_nth_occurrence(\"example\", string, 1), 11)\n",
        "run_test(find_nth_occurrence(\"example\", string, 2), 49)\n",
        "run_test(find_nth_occurrence(\"example\", string, 3), 65)\n",
        "run_test(find_nth_occurrence(\"example\", string, 4), -1)\n",
        "run_test(find_nth_occurrence(\"TestTest\", \"TestTestTestTest\", 1), 0)\n",
        "run_test(find_nth_occurrence(\"TestTest\", \"TestTestTestTest\", 2), 4)\n",
        "run_test(find_nth_occurrence(\"TestTest\", \"TestTestTestTest\", 3), 8)\n",
        "run_test(find_nth_occurrence(\"TestTest\", \"TestTestTestTest\", 4), -1)"
      ],
      "execution_count": null,
      "outputs": []
    },
    {
      "cell_type": "markdown",
      "metadata": {
        "id": "E7dmkwLa21jO"
      },
      "source": [
        "### 4. Reverse the Words\n",
        "Create a function that accepts a string parameter and reverses each word in the string. All spaces in the string should be retained.\n",
        "\n",
        "Examples:\n",
        "```\n",
        "\"This is an example!\" ==> \"sihT si na !elpmaxe\"\n",
        "\"double  spaces\"      ==> \"elbuod  secaps\"\n",
        "```"
      ]
    },
    {
      "cell_type": "code",
      "metadata": {
        "id": "0nQsMjLm21jO"
      },
      "source": [
        "def reverse_words(sentence):\n",
        "    # Your code here\n",
        "    pass"
      ],
      "execution_count": null,
      "outputs": []
    },
    {
      "cell_type": "code",
      "metadata": {
        "id": "mZJRWnaO21jQ"
      },
      "source": [
        "# Test functions\n",
        "run_test(reverse_words(\"This is an example!\"), \"sihT si na !elpmaxe\")\n",
        "run_test(reverse_words(\"double  spaces\"), \"elbuod  secaps\")\n",
        "run_test(reverse_words(\"big       spaces\"), \"gib       secaps\")"
      ],
      "execution_count": null,
      "outputs": []
    },
    {
      "cell_type": "markdown",
      "metadata": {
        "id": "N-YZU9A421jS"
      },
      "source": [
        "## NICE JOB! You are done!"
      ]
    }
  ]
}