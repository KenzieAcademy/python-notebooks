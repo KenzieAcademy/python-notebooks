{
  "nbformat": 4,
  "nbformat_minor": 0,
  "metadata": {
    "kernelspec": {
      "name": "python3",
      "display_name": "Python 3"
    },
    "colab": {
      "name": "Activity_Basic_Looping.ipynb",
      "provenance": []
    }
  },
  "cells": [
    {
      "cell_type": "markdown",
      "metadata": {
        "id": "swyTSVhy5Z2T"
      },
      "source": [
        "<table border=\"0\" align=\"left\" width=\"700\" height=\"144\">\n",
        "<tbody>\n",
        "<tr>\n",
        "<td width=\"120\"><img width=\"100\" src=\"https://static1.squarespace.com/static/5992c2c7a803bb8283297efe/t/59c803110abd04d34ca9a1f0/1530629279239/\" /></td>\n",
        "<td style=\"width: 600px; height: 67px;\">\n",
        "<h1 style=\"text-align: left;\">Activity: Basic Looping</h1>\n",
        "<p><a href=\"https://colab.research.google.com/github/KenzieAcademy/python-notebooks/blob/master/Activity_Basic_Looping.ipynb\"> <img src=\"https://colab.research.google.com/assets/colab-badge.svg\" alt=\"Open In Colab\" align=\"left\" width=\"188\" height=\"32\" /> </a></p>\n",
        "</td>\n",
        "</tr>\n",
        "</tbody>\n",
        "</table>"
      ]
    },
    {
      "cell_type": "markdown",
      "metadata": {
        "id": "bzZ2fDYN5Z2U"
      },
      "source": [
        "## Instructions\n",
        "\n",
        "**Use SHIFT+ENTER to run each cell.**\n",
        "These exercises use a tool called Juptyer Notebook. Here are some quick guidelines:\n",
        "\n",
        "- Each block of python code is called a cell.\n",
        "- You are running an actual python program, cell-by-cell.\n",
        "- You can edit and re-run the code cells in place without overwriting the original notebook.\n",
        "- Don't worry about the In [x]: or Out [y]: notations on the left margin.\n",
        "- Variables are remembered between cells.\n",
        "- Please use the `print()` function when displaying your answers.\n",
        "- Don't worry about formatting your output to print everything on a single line."
      ]
    },
    {
      "cell_type": "markdown",
      "metadata": {
        "id": "RJVV-wfY5Z2U"
      },
      "source": [
        "### Let us begin..."
      ]
    },
    {
      "cell_type": "markdown",
      "metadata": {
        "id": "ygDksKpP5Z2V"
      },
      "source": [
        "### 1.\n",
        "Print a list of integers from 1 to 20.\n",
        "\n",
        "Example:\n",
        "```\n",
        "[1, 2, 3, ..., 19, 20]\n",
        "```"
      ]
    },
    {
      "cell_type": "code",
      "metadata": {
        "id": "r4qdL8Sd5Z2W"
      },
      "source": [
        "print('Integers from 1 to 20:')\n",
        "# Your code goes here"
      ],
      "execution_count": null,
      "outputs": []
    },
    {
      "cell_type": "markdown",
      "metadata": {
        "id": "vSpiTNcT5Z2Z"
      },
      "source": [
        "### 2.\n",
        "Print a list containing only the even numbers from 1 to 20. Remember that `range()` accepts 3 arguments...\n",
        "\n",
        "Example:\n",
        "```\n",
        "[2, 4, 6, ..., 18, 20]\n",
        "```"
      ]
    },
    {
      "cell_type": "code",
      "metadata": {
        "id": "n8CgljUa5Z2a"
      },
      "source": [
        "print('Evens from 1 to 20:')\n",
        "# Your code goes here"
      ],
      "execution_count": null,
      "outputs": []
    },
    {
      "cell_type": "markdown",
      "metadata": {
        "id": "o39ynB6D5Z2c"
      },
      "source": [
        "### 3.\n",
        "Print a list containing only the odd numbers from 1 to 20.\n",
        "\n",
        "Example:\n",
        "```\n",
        "[1, 3, 5, ..., 17, 19]\n",
        "```"
      ]
    },
    {
      "cell_type": "code",
      "metadata": {
        "id": "m63pBrvp5Z2d"
      },
      "source": [
        "print('Odds from 1 to 20:')\n",
        "# Your code goes here"
      ],
      "execution_count": null,
      "outputs": []
    },
    {
      "cell_type": "markdown",
      "metadata": {
        "id": "tV0ustjT5Z2g"
      },
      "source": [
        "### 4.\n",
        "Print a list containing the multiples of 5, from 5 to 100.\n",
        "\n",
        "Example:\n",
        "```\n",
        "[5, 10, 15, ..., 95, 100]\n",
        "```"
      ]
    },
    {
      "cell_type": "code",
      "metadata": {
        "id": "E_B_h7wk5Z2g"
      },
      "source": [
        "print('Multiples of 5, from 5 to 100:')\n",
        "# Your code goes here"
      ],
      "execution_count": null,
      "outputs": []
    },
    {
      "cell_type": "markdown",
      "metadata": {
        "id": "FlLx_zJ_5Z2j"
      },
      "source": [
        "### 5.\n",
        "Print a list containing the squares of integers from 1 to 10.\n",
        "\n",
        "Example:\n",
        "```\n",
        "[1, 4, 9, ..., 81, 100]\n",
        "```"
      ]
    },
    {
      "cell_type": "code",
      "metadata": {
        "id": "K55Fmz7n5Z2j"
      },
      "source": [
        "print('Squares of integers from 1 to 10:')\n",
        "# Your code goes here"
      ],
      "execution_count": null,
      "outputs": []
    },
    {
      "cell_type": "markdown",
      "metadata": {
        "id": "1C5oIyu65Z2n"
      },
      "source": [
        "### 6.\n",
        "Print a list of integers, counting backwards from 20 to 1.\n",
        "\n",
        "Example:\n",
        "```\n",
        "[20, 19, 18, ..., 2, 1]\n",
        "```"
      ]
    },
    {
      "cell_type": "code",
      "metadata": {
        "id": "r21vTSF55Z2n"
      },
      "source": [
        "print('Integers from 20 to 1:')\n",
        "# Your code goes here"
      ],
      "execution_count": null,
      "outputs": []
    },
    {
      "cell_type": "markdown",
      "metadata": {
        "id": "zZUOiNNr5Z2r"
      },
      "source": [
        "### 7.\n",
        "Print a list containing only the even numbers, counting backwards from 20 to 2.\n",
        "\n",
        "Example:\n",
        "```\n",
        "[20, 18, 16, ..., 4, 2]\n",
        "```"
      ]
    },
    {
      "cell_type": "code",
      "metadata": {
        "id": "ykBB_bUO5Z2s"
      },
      "source": [
        "print('Evens from 20 to 2:')\n",
        "# Your code goes here"
      ],
      "execution_count": null,
      "outputs": []
    },
    {
      "cell_type": "markdown",
      "metadata": {
        "id": "RAXE1DWj5Z2u"
      },
      "source": [
        "### 8.\n",
        "Print a list containing only the odd numbers from 20 to 1, counting backwards.\n",
        "\n",
        "Example:\n",
        "```\n",
        "[19, 17, 15, ..., 3, 1]\n",
        "```"
      ]
    },
    {
      "cell_type": "code",
      "metadata": {
        "id": "lpx_-7rZ5Z2v"
      },
      "source": [
        "print('Odds from 20 to 1:')\n",
        "# Your code goes here"
      ],
      "execution_count": null,
      "outputs": []
    },
    {
      "cell_type": "markdown",
      "metadata": {
        "id": "3xGmBW2i5Z2x"
      },
      "source": [
        "### 9.\n",
        "Print a list containing the multiples of 5, counting down from 100.\n",
        "\n",
        "Example:\n",
        "```\n",
        "[100, 95, 90, ..., 10, 5]\n",
        "```"
      ]
    },
    {
      "cell_type": "code",
      "metadata": {
        "id": "-kP5OhH35Z2x"
      },
      "source": [
        "print('Multiples of 5 descending from 100 to 5:')\n",
        "# Your code goes here"
      ],
      "execution_count": null,
      "outputs": []
    },
    {
      "cell_type": "markdown",
      "metadata": {
        "id": "PgjV5d5C5Z20"
      },
      "source": [
        "### 10.\n",
        "Print a list containing the square of integers, descending from 10 to 1.\n",
        "\n",
        "Example:\n",
        "```\n",
        "[100, 81, 64, ..., 4, 1]\n",
        "```"
      ]
    },
    {
      "cell_type": "code",
      "metadata": {
        "id": "o-9Ar6M05Z20"
      },
      "source": [
        "print(\"Squares of integers descending from 10 to 1:\")\n",
        "# Your code goes here"
      ],
      "execution_count": null,
      "outputs": []
    },
    {
      "cell_type": "code",
      "metadata": {
        "id": "QF_dKvkL5Z22"
      },
      "source": [
        "# Here's a static list to work with for the next cells\n",
        "sample_list = [\n",
        "    469, 755, 244, 245, 758, 450, \n",
        "    302, 20, 712, 71, 456, 21, 398, \n",
        "    339, 882, 848, 179, 535, 940, 472\n",
        "]"
      ],
      "execution_count": null,
      "outputs": []
    },
    {
      "cell_type": "markdown",
      "metadata": {
        "id": "ozy_qT7j5Z25"
      },
      "source": [
        "### 11.\n",
        "Print the elements of sample_list and the count of elements.\n"
      ]
    },
    {
      "cell_type": "code",
      "metadata": {
        "id": "XGkHl1eA5Z25"
      },
      "source": [
        "print(\"Elements and count of sample_list:\")\n",
        "# Your code goes here"
      ],
      "execution_count": null,
      "outputs": []
    },
    {
      "cell_type": "markdown",
      "metadata": {
        "id": "4bN5Epm55Z27"
      },
      "source": [
        "### 12.\n",
        "Print only the even numbers contained in sample_list and their count."
      ]
    },
    {
      "cell_type": "code",
      "metadata": {
        "id": "gn8bNLBn5Z28"
      },
      "source": [
        "print(\"Even elements and their count:\")\n",
        "# Your code goes here"
      ],
      "execution_count": null,
      "outputs": []
    },
    {
      "cell_type": "markdown",
      "metadata": {
        "id": "9sWSwGXj5Z2-"
      },
      "source": [
        "### 13.\n",
        "Print only the odd numbers contained in sample_list and their count."
      ]
    },
    {
      "cell_type": "code",
      "metadata": {
        "id": "6GzTSySh5Z2-"
      },
      "source": [
        "print(\"Odd elements and their count:\")\n",
        "# Your code goes here"
      ],
      "execution_count": null,
      "outputs": []
    },
    {
      "cell_type": "markdown",
      "metadata": {
        "id": "jlLWnN9Q5Z3A"
      },
      "source": [
        "### 14.\n",
        "Print the square of each element in sample_list."
      ]
    },
    {
      "cell_type": "code",
      "metadata": {
        "id": "xhFSNi445Z3A"
      },
      "source": [
        "print(\"Squares of elements of sample_list:\")\n",
        "# Your code goes here"
      ],
      "execution_count": null,
      "outputs": []
    },
    {
      "cell_type": "markdown",
      "metadata": {
        "id": "omChEJl55Z3D"
      },
      "source": [
        "### 15.\n",
        "Print the sum of all the integers from 1 to 20."
      ]
    },
    {
      "cell_type": "code",
      "metadata": {
        "id": "K9mCEmw65Z3E"
      },
      "source": [
        "print(\"Sum of integers from 1 to 20:\")\n",
        "# Your code goes here"
      ],
      "execution_count": null,
      "outputs": []
    },
    {
      "cell_type": "markdown",
      "metadata": {
        "id": "QWX5X-6A5Z3G"
      },
      "source": [
        "### 16.\n",
        "Print the sum of all the elements in sample_list."
      ]
    },
    {
      "cell_type": "code",
      "metadata": {
        "id": "Vd4yzR4O5Z3G"
      },
      "source": [
        "print(\"Sum of elements of sample_list:\")\n",
        "# Your code goes here"
      ],
      "execution_count": null,
      "outputs": []
    },
    {
      "cell_type": "markdown",
      "metadata": {
        "id": "sgGQm9sW5Z3I"
      },
      "source": [
        "### 17.\n",
        "Print the smallest (min) element in sample_list."
      ]
    },
    {
      "cell_type": "code",
      "metadata": {
        "id": "gWbkmj2Z5Z3I"
      },
      "source": [
        "print(\"Smallest (min) element of sample_list:\")\n",
        "# Your code goes here"
      ],
      "execution_count": null,
      "outputs": []
    },
    {
      "cell_type": "markdown",
      "metadata": {
        "id": "p1zUMcrX5Z3K"
      },
      "source": [
        "### 18.\n",
        "Print the largest (max) element in sample_list."
      ]
    },
    {
      "cell_type": "code",
      "metadata": {
        "id": "cXinDtCd5Z3L"
      },
      "source": [
        "print(\"Largest (max) element of sample_list:\")\n",
        "# Your code goes here"
      ],
      "execution_count": null,
      "outputs": []
    },
    {
      "cell_type": "markdown",
      "metadata": {
        "id": "Kx5RTa4P5Z3N"
      },
      "source": [
        "## NICE JOB! You are done!"
      ]
    },
    {
      "cell_type": "markdown",
      "metadata": {
        "id": "u2y-xmhj5Z3N"
      },
      "source": [
        "_This looping notebook prepared by: C1.JakeBerg_"
      ]
    }
  ]
}