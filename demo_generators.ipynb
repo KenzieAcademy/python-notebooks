{
  "nbformat": 4,
  "nbformat_minor": 0,
  "metadata": {
    "kernelspec": {
      "name": "python3",
      "display_name": "Python 3"
    },
    "colab": {
      "name": "demo_generators.ipynb",
      "provenance": []
    }
  },
  "cells": [
    {
      "cell_type": "markdown",
      "metadata": {
        "id": "o5qxIE4SCQpW",
        "colab_type": "text"
      },
      "source": [
        "<table border=\"0\" align=\"left\" width=\"700\" height=\"144\">\n",
        "<tbody>\n",
        "<tr>\n",
        "<td width=\"120\"><img width=\"100\" src=\"https://static1.squarespace.com/static/5992c2c7a803bb8283297efe/t/59c803110abd04d34ca9a1f0/1530629279239/\" /></td>\n",
        "<td style=\"width: 600px; height: 67px;\">\n",
        "<h1 style=\"text-align: left;\">A Brief Tour of Generators</h1>\n",
        "<p><a href=\"https://colab.research.google.com/github/KenzieAcademy/python-notebooks/blob/master/demo_generators.ipynb\"> <img src=\"https://colab.research.google.com/assets/colab-badge.svg\" alt=\"Open In Colab\" align=\"left\" width=\"188\" height=\"32\" /> </a></p>\n",
        "</td>\n",
        "</tr>\n",
        "</tbody>\n",
        "</table>"
      ]
    },
    {
      "cell_type": "markdown",
      "metadata": {
        "id": "wRUgJRsvCQpX",
        "colab_type": "text"
      },
      "source": [
        "Generators are functions with a twist. They are very easy to implement, but a bit difficult to understand.\n",
        "\n",
        "Generators are used to create _iterators_, but with a different approach. Generators are simple functions which return an _iterable_ set of items, one at a time, in a special way.\n",
        "\n",
        "\n",
        "When an iteration over a set of items is started using the `for` statement, the generator is run. Once the generator's function code reaches a `yield` statement, the generator yields its execution back to the `for` loop, returning a new value from the iterable. The generator function can generate as many values (possibly infinite) as it wants, yielding each one in its turn."
      ]
    },
    {
      "cell_type": "markdown",
      "metadata": {
        "id": "Wb5hbh2XCQpY",
        "colab_type": "text"
      },
      "source": [
        "### Iteration Review\n",
        "Before we jump into generators, it may be beneficial to review a bit about iteration in Python.  There is a distinction between an _iterator_ and an object that is _iterable_.  What exactly is an _iterator_?\n",
        "\n",
        " - An iterator is an object that allows _iteration_ to be performed on it.\n",
        " - Implements an `__iter__()` method\n",
        " - Implements a `__next__()` method\n",
        " \n",
        "Iterators are **stateful** which means they are only able to iterate *once* over an iterable.  After one traversal of the iterable, the iterator is _exhausted_."
      ]
    },
    {
      "cell_type": "markdown",
      "metadata": {
        "id": "oJN8sgylCQpY",
        "colab_type": "text"
      },
      "source": [
        "### Generators\n",
        "Generators arrived way back in Python 2.3, from [PEP-255](https://www.python.org/dev/peps/pep-0255/).  This PEP introduced the idea of creating an iterator within a single function by using a new keyword: `yield`  \"But wait!\", you may ask &mdash; \"If iterators must be stateful (so they can know when they are exhausted), how can this be done from a function?\"\n",
        "\n",
        "Well, a **generator** allows an ordinary function to store iterator state, *and* generate the members of an iterable, one at a time.  This is known as **lazy evaluation**.  The ordinary function is transformed into a generator simply by using the `yield` keyword.  The function does not become a generator until it is invoked (called).\n",
        "\n",
        "From the [Python Docs: Glossary](https://docs.python.org/3/glossary.html):\n",
        "\n",
        "> **Generator**: A function which returns a generator iterator. It looks like a normal function except that it contains `yield` expressions for producing a series of values usable in a for-loop or that can be retrieved one at a time with the `next()` function.<br>\n",
        "Each `yield` temporarily suspends processing, remembering the location execution state (including local variables and pending try-statements). When the generator iterator resumes, it picks up where it left off (in contrast to functions which start fresh on every invocation).\n",
        "\n",
        "When Python sees a function with a `yield` keyword inside, it treats it differently."
      ]
    },
    {
      "cell_type": "code",
      "metadata": {
        "id": "sZlZpj4ECQpZ",
        "colab_type": "code",
        "colab": {}
      },
      "source": [
        "import random\n",
        "\n",
        "students = ['Kevin', 'Shanquel', 'Marcel', 'Gabby', 'Vincent', 'Wes', 'Sondos', 'Jalal']\n",
        "def student_picker():\n",
        "    \"\"\"returns a new random student name, until all students are exhausted\"\"\"\n",
        "    random.shuffle(students)\n",
        "    print('Shuffled students: ' + str(students))\n",
        "    for student in students:\n",
        "        print(\"Yielding student \" + student)\n",
        "        yield student\n",
        "        "
      ],
      "execution_count": null,
      "outputs": []
    },
    {
      "cell_type": "code",
      "metadata": {
        "id": "aSojl1eWCQpc",
        "colab_type": "code",
        "colab": {}
      },
      "source": [
        "# Invoke (call) the generator function to get our generator object\n",
        "gen = student_picker()\n",
        "print(gen)\n",
        "\n",
        "# Note that we have only initialized the generator.\n",
        "# We have not yet generated any student names..."
      ],
      "execution_count": null,
      "outputs": []
    },
    {
      "cell_type": "code",
      "metadata": {
        "id": "Icl4PAdDCQpf",
        "colab_type": "code",
        "colab": {}
      },
      "source": [
        "# Remember that an iterator must implement the two special functions:\n",
        "# __iter__() and __next__(). Does this generator object implement them?\n",
        "print(\"Does gen have a '__next__' method? {}\".format(hasattr(gen, '__next__')))\n",
        "print(\"Does gen have a '__iter__' method? {}\".format(hasattr(gen, '__iter__')))"
      ],
      "execution_count": null,
      "outputs": []
    },
    {
      "cell_type": "code",
      "metadata": {
        "id": "4dfqGE9ACQpi",
        "colab_type": "code",
        "colab": {}
      },
      "source": [
        "# There is a more idiomatic way to check if an object is an 'iterator':\n",
        "import collections\n",
        "isinstance(gen, collections.Iterator)"
      ],
      "execution_count": null,
      "outputs": []
    },
    {
      "cell_type": "code",
      "metadata": {
        "id": "S4uwBR0fCQpk",
        "colab_type": "code",
        "colab": {}
      },
      "source": [
        "# And a similar method to check if an object is an 'iterable'\n",
        "isinstance(gen, collections.Iterable)"
      ],
      "execution_count": null,
      "outputs": []
    },
    {
      "cell_type": "markdown",
      "metadata": {
        "id": "pHU-6DSZCQpm",
        "colab_type": "text"
      },
      "source": [
        "### IMPORTANT\n",
        "Generators are not executed when they are invoked, only when they are _iterated_ over.  This is an important difference between generators and regular functions.  Python knows the function is a generator, and will return a generator object during invokation, without executing it.\n",
        "\n",
        "After the function produces the generator object, you must iterate that object according to the Python iteration protocol."
      ]
    },
    {
      "cell_type": "code",
      "metadata": {
        "id": "a07FStsWCQpm",
        "colab_type": "code",
        "colab": {}
      },
      "source": [
        "# How to use it? Just keep callin' next(gen)!\n",
        "next(gen)"
      ],
      "execution_count": null,
      "outputs": []
    },
    {
      "cell_type": "code",
      "metadata": {
        "id": "Iqj-NAiECQpp",
        "colab_type": "code",
        "colab": {}
      },
      "source": [
        "next(gen)"
      ],
      "execution_count": null,
      "outputs": []
    },
    {
      "cell_type": "markdown",
      "metadata": {
        "id": "KB7N_p_DCQpu",
        "colab_type": "text"
      },
      "source": [
        "NOTICE that generators _freeze their state_ after a yield statement.  They suspend their state of execution until the next `next()` call. "
      ]
    },
    {
      "cell_type": "code",
      "metadata": {
        "id": "1CzgrSSnCQpu",
        "colab_type": "code",
        "colab": {}
      },
      "source": [
        "# Let's exhaust the rest of them!\n",
        "# The for-loop simply calls __next__() until the StopIteration exception is raised and then it terminates.\n",
        "for s in gen:\n",
        "    print(s)"
      ],
      "execution_count": null,
      "outputs": []
    },
    {
      "cell_type": "markdown",
      "metadata": {
        "id": "miK7AWvzCQpx",
        "colab_type": "text"
      },
      "source": [
        "The `for-loop` was used above, because it follows the Python iteration protocol.  It will continue calling the iterator's `__next__()` method until a `StopIteration` exception is raised.\n",
        "\n",
        "Let's try it again, but without a for-loop this time, so we can see the `StopIteration` exception:"
      ]
    },
    {
      "cell_type": "code",
      "metadata": {
        "id": "uTXTFMF6CQpx",
        "colab_type": "code",
        "colab": {}
      },
      "source": [
        "def simple_gen():\n",
        "    seq = [1, 2, 3, 4]\n",
        "    for i in seq:\n",
        "        yield i\n",
        "\n",
        "it = simple_gen()\n",
        "# Looky, no for-loop!\n",
        "print(next(it))\n",
        "print(next(it))\n",
        "print(next(it))\n",
        "print(next(it))\n",
        "# Wait for it ....\n",
        "print(next(it))\n"
      ],
      "execution_count": null,
      "outputs": []
    },
    {
      "cell_type": "markdown",
      "metadata": {
        "id": "mYizNQkECQpz",
        "colab_type": "text"
      },
      "source": [
        "### Generator return statement\n",
        "Any `return` statement within a generator function will raise a `StopIteration` exception"
      ]
    },
    {
      "cell_type": "code",
      "metadata": {
        "id": "I_vqTl5tCQp0",
        "colab_type": "code",
        "colab": {}
      },
      "source": [
        "def simple_gen():\n",
        "    yield 'Marcel'\n",
        "    yield 'Kevin'\n",
        "    yield 'Sondos'\n",
        "    return  # raises StopIteration!\n",
        "\n",
        "it = simple_gen()\n",
        "print(next(it))\n",
        "print(next(it))\n",
        "print(next(it))\n",
        "print(next(it))"
      ],
      "execution_count": null,
      "outputs": []
    },
    {
      "cell_type": "markdown",
      "metadata": {
        "id": "vDLtDyiECQp2",
        "colab_type": "text"
      },
      "source": [
        "### What happens if we use `iter()` on a generator?"
      ]
    },
    {
      "cell_type": "code",
      "metadata": {
        "id": "TQaZUd6PCQp3",
        "colab_type": "code",
        "colab": {}
      },
      "source": [
        "def simple_gen():\n",
        "    yield 'PK'\n",
        "    yield 'Doug'\n",
        "    yield 'James'\n",
        "    return\n",
        "gen = simple_gen()\n",
        "\n",
        "if iter(gen) == gen.__iter__() == gen:\n",
        "    print(\"Same generator object instance!\")\n",
        "    \n",
        "if gen is iter(gen):\n",
        "    print(\"Generator is its own iterator!\")\n",
        "\n",
        "if id(gen) == id(iter(gen)):\n",
        "    print(\"Stop me when this gets old\")\n",
        "    \n",
        "# A generator is its own iterator!"
      ],
      "execution_count": null,
      "outputs": []
    },
    {
      "cell_type": "markdown",
      "metadata": {
        "id": "M8tQagEGCQp9",
        "colab_type": "text"
      },
      "source": [
        "### When should I use a generator?\n",
        "The general rule of thumb is that a generator can replace any function that returns a list.  Look for a function pattern that accumulates something into a list, during a loop.\n",
        "\n",
        "To use a generator instead, just insert a `yield` statement at the point of accumulation."
      ]
    },
    {
      "cell_type": "code",
      "metadata": {
        "id": "33M5x4x1CQp-",
        "colab_type": "code",
        "colab": {}
      },
      "source": [
        "# A familiar function to all ...\n",
        "def div_by_5_and_7(max_num):\n",
        "    \"\"\"Returns a list of numbers that are divisible by 5 AND 7\"\"\"\n",
        "    result = []\n",
        "    for n in range(1, max_num + 1):\n",
        "        if n % 5 == 0 and n % 7 == 0:\n",
        "            result.append(n)\n",
        "    return result\n",
        "\n",
        "div_by_5_and_7(5000000)"
      ],
      "execution_count": null,
      "outputs": []
    },
    {
      "cell_type": "code",
      "metadata": {
        "id": "GO_Rqdj9CQqA",
        "colab_type": "code",
        "colab": {}
      },
      "source": [
        "# Presto Chango\n",
        "def div_by_5_and_7(max_num):\n",
        "    \"\"\"Returns a list of numbers that are divisible by 5 AND 7\"\"\"\n",
        "    for n in range(1, max_num + 1):\n",
        "        if n % 5 == 0 and n % 7 == 0:\n",
        "            yield n\n",
        "            \n",
        "gen = div_by_5_and_7(500)\n",
        "next(gen)"
      ],
      "execution_count": null,
      "outputs": []
    },
    {
      "cell_type": "code",
      "metadata": {
        "id": "Qu7Wjphua13j",
        "colab_type": "code",
        "colab": {}
      },
      "source": [
        "next(gen)"
      ],
      "execution_count": null,
      "outputs": []
    },
    {
      "cell_type": "markdown",
      "metadata": {
        "id": "kWweiJw3CQqC",
        "colab_type": "text"
      },
      "source": [
        "## Real-world example: Database Chunking\n",
        "This function acts as a wrapper around `dbcursor.fetchmany()`.  A business may use very large datasets for analytics or reporting.  If the dataset is larger than the OS system memory, it's not possible to fetch the entire set from a single database read.  However if the data is fetched one row at a time, this imposes a large network time cost."
      ]
    },
    {
      "cell_type": "code",
      "metadata": {
        "id": "ZLehZ_pDCQqD",
        "colab_type": "code",
        "colab": {}
      },
      "source": [
        "def fetch_many_wrapper(dbcursor, count=20000):\n",
        "    \"\"\"Fetch data in chunks instead of one row at a time.\"\"\"\n",
        "    done = False\n",
        "    while not done:\n",
        "        items = dbcursor.fetchmany(count)\n",
        "        done = len(items) == 0\n",
        "        if not done:\n",
        "            for item in items:\n",
        "                yield item"
      ],
      "execution_count": null,
      "outputs": []
    },
    {
      "cell_type": "markdown",
      "metadata": {
        "id": "cD0N5M7NCQqF",
        "colab_type": "text"
      },
      "source": [
        "## Conclusions\n",
        " - Python generators are a powerful, often misunderstood tool. They are sometimes treated as too difficult a concept for\n",
        "beginning programmers to learn &mdash; creating the illusion that beginners should hold off on learning generators until they are ready.\n",
        "\n",
        " - Generators are lazy because they only give us a value when we ask for it. The ultimate result is that generators are incredibly memory efficient, which makes it a perfect candidate for reading and using \"Big Data\" files. Once we ask for the next value of a generator, the old value is discarded. Once we traverse the entire generator, it is also discarded from memory as well.\n",
        "\n",
        " - Generators provide for **lazy evaluation**. Being lazy is (sometimes) good!"
      ]
    },
    {
      "cell_type": "code",
      "metadata": {
        "id": "k8BFm3bLCNg3",
        "colab_type": "code",
        "colab": {}
      },
      "source": [
        ""
      ],
      "execution_count": null,
      "outputs": []
    }
  ]
}