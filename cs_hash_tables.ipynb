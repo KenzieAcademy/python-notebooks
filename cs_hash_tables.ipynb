{
  "nbformat": 4,
  "nbformat_minor": 0,
  "metadata": {
    "colab": {
      "name": "Data Structures: Hash Tables",
      "provenance": [],
      "collapsed_sections": []
    },
    "kernelspec": {
      "name": "python3",
      "display_name": "Python 3"
    }
  },
  "cells": [
    {
      "cell_type": "markdown",
      "metadata": {
        "id": "8MN73e7Rk5i3"
      },
      "source": [
        "<table border=\"0\" align=\"left\" width=\"700\" height=\"144\">\n",
        "<tbody>\n",
        "<tr>\n",
        "<td width=\"120\"><img width=\"100\" src=\"https://static1.squarespace.com/static/5992c2c7a803bb8283297efe/t/59c803110abd04d34ca9a1f0/1530629279239/\" /></td>\n",
        "<td style=\"width: 600px; height: 67px;\">\n",
        "<h1 style=\"text-align: left;\">Data Structures: Hash Tables</h1>\n",
        "<p><em>with excerpts from Grokking Algorithms, by Aditya Y. Bhargava</em>\n",
        "<p><a href=\"https://colab.research.google.com/github/KenzieAcademy/python-notebooks/blob/master/cs_hash_tables.ipynb\"> <img src=\"https://colab.research.google.com/assets/colab-badge.svg\" alt=\"Open In Colab\" align=\"left\" width=\"188\" height=\"32\" /> </a></p>\n",
        "</td>\n",
        "</tr>\n",
        "</tbody>\n",
        "</table>"
      ]
    },
    {
      "cell_type": "markdown",
      "metadata": {
        "id": "0ccq7TZecoeQ"
      },
      "source": [
        "Suppose you work at a grocery store. When a customer buys produce, you have to look up the price in a book. If the book is unalphabetized, it can take you a long time to look through every single line for \"apple\". You'd be performing a *linear search* where you have to look at every line. If the book is alphabetized, you could perform a binary search to find the price of an apple.\n",
        "\n",
        "There's a big difference between the **O(*n*)** time cost of a simple search and the **O(log *n*)** performance of a binary search! Suppose you could look through 10 lines of the book per second. Here's how long both methods would take you.\n",
        "\n",
        "| \\# items | **O(*n*)** | **O(log *n*)** |\n",
        "| -------- | ---------- | -------------- |\n",
        "| 100      | 10 sec     | 1 sec (log<sub>2</sub><sup>100</sup> = need to check 7 lines)|\n",
        "| 1000     | 1.66 min   | 1 sec (log<sub>2</sub><sup>1000</sup> = need to check 10 lines)|\n",
        "| 10,000   | 16.6 min   | 2 sec (log<sub>2</sub><sup>10000</sup> = need to check 14 lines)|\n",
        "\n",
        "Even if binary search is really fast, looking things up in a book is a pain, even if the book is sorted. What you really need is a buddy who has all the names and prices memorized! Then you don't need to look up anything: you ask for the answer and get it instantly.\n",
        "\n",
        "This buddy of yours can give you the price in **O(1)** (referred to as ***constant time***) for any item, no matter how big the book is!\n",
        "\n",
        "Let's use a list of tuples to illustrate this book of produce prices from the example above.\n",
        "\n",
        "```python\n",
        "[\n",
        "  (\"apple\", 0.59),\n",
        "  (\"pear\", 0.79),\n",
        "  (\"banana\", 0.45),\n",
        "  (\"avocado\", 1.25)\n",
        "]\n",
        "```\n",
        "\n",
        "If you sort this list of tuples by each item name, you can perform a binary search on it to find the price of an item in **O(log *n*)** time. But you want to find items in **O(1)** time. That's where **hash functions** come in."
      ]
    },
    {
      "cell_type": "markdown",
      "metadata": {
        "id": "aAc_cwxH7Acx"
      },
      "source": [
        "# Hash Functions"
      ]
    },
    {
      "cell_type": "markdown",
      "metadata": {
        "id": "9bViSYpaiLer"
      },
      "source": [
        "A hash function is a function where you put in a piece of data and you get back a number.\n",
        "\n",
        "```python\n",
        "\"apple\" -> hash() -> 7\n",
        "\"hello\" -> hash() -> 4\n",
        "```\n",
        "\n",
        "You might think there is no discernable pattern to what number you get, but there are some requirements for a hash function.\n",
        "\n",
        "* It should be deterministic (i.e., non-random, consistent).\n",
        "  * Suppose you put in \"apple\" and get back `4`. Every time you put in \"apple\", you should get `4` back. Without this, your hash table won't work.\n",
        "* It should map different inputs to different numbers.\n",
        "  * A hash function is no good if it always returns `1` for any input. In the best case, every different word should map to a different number.\n",
        "\n",
        "Ok, so what is this good for? Well, you can use it to create your produce-memorizing buddy!\n",
        "\n",
        "Let's use our list of tuples from above to take a look at visually building a hash table.\n",
        "\n",
        "```python\n",
        "[\n",
        "  (\"apple\", 0.59),\n",
        "  (\"pear\", 0.79),\n",
        "  (\"banana\", 0.45),\n",
        "  (\"avocado\", 1.25)\n",
        "]\n",
        "```\n",
        "\n",
        "Visualizing our hash table as a series of 5 columns...\n",
        "\n",
        "|0|1|2|3|4|\n",
        "|-|-|-|-|-|\n",
        "|-|-|-|-|-|\n",
        "\n",
        "...let's store the price of an apple in our hash table.\n",
        "\n",
        "```python\n",
        "\"apple\" -> hash() -> 3\n",
        "```\n",
        "\n",
        "The price of an \"apple\" gets stored in the table at position 3.\n",
        "\n",
        "\n",
        "|0|1|2|3|4|\n",
        "|-|-|-|-|-|\n",
        "|-|-|-|0.59|-|\n",
        "\n",
        "Let's add a banana.\n",
        "\n",
        "```python\n",
        "\"banana\" -> hash() -> 0\n",
        "```\n",
        "\n",
        "Now our hash table looks like this:\n",
        "\n",
        "|0|1|2|3|4|\n",
        "|-|-|-|-|-|\n",
        "|0.45|-|-|0.59|-|\n",
        "\n",
        "Keep going, and eventually the whole table will be full of prices...\n",
        "\n",
        "|0|1|2|3|4|\n",
        "|-|-|-|-|-|\n",
        "|0.45|1.25|2.19|0.59|0.99|\n",
        "\n",
        "Now you ask, \"Hey, what's the price of an avocado?\" You don't need to search for it; just feed \"avocado\" into the hash function...\n",
        "\n",
        "```python\n",
        "\"avocado\" -> hash() -> 1\n",
        "```\n",
        "\n",
        "...and it tells you that the price is stored at index `1`.\n",
        "\n",
        "The hash function tells you exactly where the price is stored, so you don't have to search at all! This works because:\n",
        "* The hash function consistently maps a name to the same index.\n",
        "  * Every time you put in \"avocado\", you'll get the same number back. So you can use it the first time to find where to store the price of an avocado, and you can subsequently use it to find where you stored that price when you need it.\n",
        "* The hash function maps different inputs to different indexes.\n",
        "  * \"avocado\" maps to index `1`. \"apple\" maps to index `3`. Everything maps to a different slot where you can store its price.\n",
        "* The hash function knows how big your table structure is and only returns valid indexes.\n",
        "  * If your table has 5 slots, the hash function doesn't return 100 since it would not be a valid slot in the table.\n",
        "\n",
        "To sum it up, a hash function's job is to decide how to turn an input into a consistent output based on the number of slots available in a data structure.\n",
        "\n",
        "By putting a hash function and a data structure together, you get a **hash table**. It is a data structure with some logic behind it. While lists map straight to memory, hash tables are smarter. They use a hash function to intelligently figure out where to store elements. And they are fast!"
      ]
    },
    {
      "cell_type": "markdown",
      "metadata": {
        "id": "OkE7ediSYbRi"
      },
      "source": [
        "# Dictionaries"
      ]
    },
    {
      "cell_type": "markdown",
      "metadata": {
        "id": "jOQDYKgWYr3s"
      },
      "source": [
        "Hash tables are also known as hash maps, maps, dictionaries, and associative arrays. You may never have to implement hash tables yourself. Many languages will have an implementation for hash tables. Python does, and they're called *dictionaries*.\n",
        "\n",
        "A dictionary has keys and values. In the `book` dictionary above, the names of produce are the keys, and their prices are the values. **A hash table maps keys to values**."
      ]
    },
    {
      "cell_type": "code",
      "metadata": {
        "id": "sW8gyJ56knsv"
      },
      "source": [
        "# dictionary representation of our \"book of produce\"\n",
        "book = dict()\n",
        "book['apple'] = 0.59\n",
        "book['pear'] = 0.79\n",
        "book['banana'] = 0.45\n",
        "book['avocado'] = 1.25\n",
        "\n",
        "print(book)"
      ],
      "execution_count": null,
      "outputs": []
    },
    {
      "cell_type": "code",
      "metadata": {
        "id": "qDajWCiip17l"
      },
      "source": [
        "# ask for the price of an avocado\n",
        "print(book['avocado'])"
      ],
      "execution_count": null,
      "outputs": []
    },
    {
      "cell_type": "code",
      "metadata": {
        "id": "xiAq-qDS5nyq"
      },
      "source": [
        "# maybe you've encountered this error before\n",
        "# -- check out the terminology \"unhashable\"!\n",
        "book[['list_item']] = 1"
      ],
      "execution_count": null,
      "outputs": []
    },
    {
      "cell_type": "markdown",
      "metadata": {
        "id": "H6BRyt-CYSQ_"
      },
      "source": [
        "Maybe now you have some insight into what the above \"unhashable type\" error means!"
      ]
    },
    {
      "cell_type": "markdown",
      "metadata": {
        "id": "upGxkOA8p-PR"
      },
      "source": [
        "### Examples\n",
        "Some real-world examples of hash tables are:\n",
        "* Looking up your contacts in your phone\n",
        "  * Maggie -> 555 242-9190\n",
        "* Resolving domain names to IP addresses\n",
        "  * eff.org -> 173.239.79.196\n",
        "* Preventing duplicates in a voting system\n",
        "  * Full Name -> check against \"already voted\" list\n",
        "\n",
        "Here's what the duplicate voting prevention might look like:"
      ]
    },
    {
      "cell_type": "code",
      "metadata": {
        "id": "Du1rXCHYpwfe"
      },
      "source": [
        "# prevent duplicate voting\n",
        "voted = {}\n",
        "\n",
        "def check_voter(name):\n",
        "  if voted.get(name):\n",
        "    print(\"Kick them out!\")\n",
        "  else:\n",
        "    voted[name] = True\n",
        "    print(\"Let them vote.\")\n",
        "\n",
        "voter_line = ['Tom Sawyer', 'Maggie May', 'Tom Sawyer']\n",
        "for voter in voter_line:\n",
        "  print(f'{voter} is trying to vote.')\n",
        "  check_voter(voter)\n",
        "  print()"
      ],
      "execution_count": null,
      "outputs": []
    },
    {
      "cell_type": "markdown",
      "metadata": {
        "id": "YofSltLtsgL1"
      },
      "source": [
        "Remember, if we were storing these names of people who have already voted in a list, this function would eventually become really slow because it would have to run a simple search over the entire list. But we've stored their names in a hash table instead, and a hash table instantly tells you whether this person's name is in the hash table. **Checking for duplicates is very fast with a hash table**."
      ]
    },
    {
      "cell_type": "markdown",
      "metadata": {
        "id": "1dRFmqIk6oMd"
      },
      "source": [
        "# Hash Collisions"
      ]
    },
    {
      "cell_type": "markdown",
      "metadata": {
        "id": "Q9G_dUOKtOV5"
      },
      "source": [
        "Up to this point, we've ~~lied~~ stretched the truth in order to explain the subject of hash tables in an ideal setting. We've said that a hash function maps different inputs to *different* numbers. If only that were the case. Then, we wouldn't have to deal with hash **collisions**.\n",
        "\n",
        "In reality, it's almost impossible to write a hash function that does not produce collisions.\n",
        "\n",
        "As a simple example, let's use a table with 26 slots &mdash; one for each letter of the alphabet &mdash; and assume our hash function is really simple and assigns a slot in the table alphabetically, based on the input.\n",
        "\n",
        "|0|1|2|3|4|5|6|7|8|9|10|11|12|13|14|15|16|17|18|19|20|21|22|23|24|25|\n",
        "|-|-|-|-|-|-|-|-|-|-|-|-|-|-|-|-|-|-|-|-|-|-|-|-|-|-|\n",
        "|-|-|-|-|-|-|-|-|-|-|-|-|-|-|-|-|-|-|-|-|-|-|-|-|-|-|\n",
        "\n",
        "Maybe you can already see the problem. You want to store the price of an apple in your hash table. You get assigned the first slot.\n",
        "\n",
        "|0|1|2|3|4|5|6|7|8|9|10|11|12|13|14|15|16|17|18|19|20|21|22|23|24|25|\n",
        "|-|-|-|-|-|-|-|-|-|-|-|-|-|-|-|-|-|-|-|-|-|-|-|-|-|-|\n",
        "|0.59|-|-|-|-|-|-|-|-|-|-|-|-|-|-|-|-|-|-|-|-|-|-|-|-|-|\n",
        "\n",
        "Then you want to store the price of a banana. You get assigned the second slot.\n",
        "\n",
        "|0|1|2|3|4|5|6|7|8|9|10|11|12|13|14|15|16|17|18|19|20|21|22|23|24|25|\n",
        "|-|-|-|-|-|-|-|-|-|-|-|-|-|-|-|-|-|-|-|-|-|-|-|-|-|-|\n",
        "|0.59|0.45|-|-|-|-|-|-|-|-|-|-|-|-|-|-|-|-|-|-|-|-|-|-|-|-|\n",
        "\n",
        "Everything is going so well! But now you want to store the price of an avocado and you get assigned the first slot again!\n",
        "\n",
        "|0|1|2|3|4|5|6|7|8|9|10|11|12|13|14|15|16|17|18|19|20|21|22|23|24|25|\n",
        "|-|-|-|-|-|-|-|-|-|-|-|-|-|-|-|-|-|-|-|-|-|-|-|-|-|-|\n",
        "|0.59|0.45|-|-|-|-|-|-|-|-|-|-|-|-|-|-|-|-|-|-|-|-|-|-|-|-|\n",
        " ^- avocado?: 1.25\n",
        "\n",
        "Apples have that slot already! This is called a **collision**: two keys have been assigned the same slot. This is a problem. If you store the price of an avocado at that slot, you'll overwrite the price of an apple. Then, the next time someone asks for the price of an apple, they will get the price of an avocado instead!\n",
        "\n",
        "Collisions are bad and you need to work around them. There are many different ways to deal with collisions. The simplest one is this:\n",
        "* If multiple keys map to the same slot, start a list at that slot\n",
        "\n",
        "With our visual table representation, this could look like the following:\n",
        "\n",
        "|0|1|2|3|...|\n",
        "|-|-|-|-|-|\n",
        "|[(apple, 0.59), (avocado: 1.25)]|0.45|-|-|-|\n",
        "\n",
        "Now, both \"apple\" and \"avocado\" map to the same slot, so you start a list at that slot. If you need to know the price of a banana (slot `1`), it's still quick. If you need to know the price of an apple, it's a little slower. You have to search through the list in slot `0` to find \"apple\". If the list is small, no big deal &mdash; you have to search through three or four elements. But suppose you work at your local \"Foods That Start with 'A'\" store (they are capitalizing on a trend of people mainly buying foods that start with the letter \"a\"). This store's entire hash table is empty except for the very first slot, and that slot contains a giant list!\n",
        "\n",
        "|0|1|2|3|...|\n",
        "|-|-|-|-|-|\n",
        "|[(apple, 0.59), (avocado, 1.25), (almonds, 3.99), ...]|-|-|-|-|\n",
        "\n",
        "Every single element in this hash table is in the first slot's list. That's as bad as putting everything in a list to begin with, and it's certainly going to slow down your hash table.\n",
        "\n",
        "There are two lessons here.\n",
        "1. **Your hash function is really important**\n",
        "  * Your hash function mapped all the keys to a single slot. Ideally, your hash function would map keys evenly all over the hash table.\n",
        "2. If the lists contained in a hash table slot get long, your hash table's performance slows down a lot. But they won't get long if you use a good hash function!\n",
        "\n",
        "A good hash function will give you very few collisions. So how do you pick a good hash function?"
      ]
    },
    {
      "cell_type": "markdown",
      "metadata": {
        "id": "VBHz0Ej36jd0"
      },
      "source": [
        "# Hash Table Performance"
      ]
    },
    {
      "cell_type": "markdown",
      "metadata": {
        "id": "I6isbA4a0HNH"
      },
      "source": [
        "In the average case, hash tables take **O(1)**, or ***constant time***, for everything. Constant time doesn't mean \"instant\". It means the time taken will stay the same, regardless of how big the hash table is. It doesn't matter whether your hash table has 1 element or 1 billion elements &mdash; getting something out of a hash table will take the same amount of time. So, in the average case, hash tables are really fast.\n",
        "\n",
        "In the worst case, a hash table takes **O(*n*)**, or ***linear time***, for everything, which is really slow.\n",
        "\n",
        "||average|worst|\n",
        "|-|-|-|\n",
        "|search|**O(1)**|**O(*n*)**|\n",
        "|insert|**O(1)**|**O(*n*)**|\n",
        "|delete|**O(1)**|**O(*n*)**|\n",
        "\n",
        "In the average case, hash tables are fast at searching, inserting, and deleting. But in the worst case, hash tables are slow at all of those operations. So it's important that you don't hit worst-case performance with hash tables. And to do that, you need to avoid collisions.\n",
        "\n",
        "To avoid collisions, you need:\n",
        "* A low **load factor**\n",
        "* A good hash function"
      ]
    },
    {
      "cell_type": "markdown",
      "metadata": {
        "id": "7HZIbNSw6gYk"
      },
      "source": [
        "# Load Factor"
      ]
    },
    {
      "cell_type": "markdown",
      "metadata": {
        "id": "GJ1YLYmQ1xmN"
      },
      "source": [
        "The **load factor** of a hash table is easy to calculate.\n",
        "* number of items in hash table / total number of slots\n",
        "\n",
        "We've used lists up to this point as a familiar way to represent hash table slots. In reality, arrays are used, and the distinction here is that an array will have a pre-allocated space in memory (number of slots) when it is created. That way, you can have an empty array with 5 empty slots instead of just an empty list with no slots at all. Because of this, you can count the number of occupied slots in the array.\n",
        "\n",
        "Here are some load factor calculations based on hypothetical hash table arrays:\n",
        "\n",
        "|0|1|2|3|4|\n",
        "|-|-|-|-|-|\n",
        "|-|1|-|0|-|\n",
        "\n",
        "Load factor: 2/5 (0.4)\n",
        "\n",
        "|0|1|2|\n",
        "|-|-|-|\n",
        "|-|20|-|\n",
        "\n",
        "Load factor: 1/3 (0.33)\n",
        "\n",
        "Suppose you need to store the price of 100 produce items in your hash table and your hash table has 100 slots. In the best case, each item will get its own slot. In this situation, the hash table has a load factor of 1. What if your hash table has only 50 slots? Then it has a load factor of 2. There's no way each item will get its own slot, because there aren't enough slots!\n",
        "\n",
        "Having a load factor greater than 1 means you have more items than slots in your array. Once the load factor starts to grow, you need to add more slots to your hash table. This is called ***resizing***.\n",
        "\n",
        "## Resizing\n",
        "First, you create a new array that's bigger. The rule of thumb when you realize you need to resize an existing hash table is to make an array that is twice the size.\n",
        "\n",
        "Then, you need to re-insert all of the items from the old hash table into the new one using the hash function.\n",
        "\n",
        "With a lower load factor, you'll have fewer collisions, and your table will perform better. A good rule of thumb is, resize when your load factor is greater than 0.7.\n",
        "\n",
        "Resizing is expensive and you don't want to resize too often. But, averaged out, hash tables take **O(1)** even with resizing."
      ]
    },
    {
      "cell_type": "markdown",
      "metadata": {
        "id": "Fx-B3dm06cJU"
      },
      "source": [
        "# A Good Hash Function"
      ]
    },
    {
      "cell_type": "markdown",
      "metadata": {
        "id": "yIGLcpW44fbl"
      },
      "source": [
        "A good hash function distributes values in the array evenly.\n",
        "\n",
        "|0|1|2|3|4|5|6|7|\n",
        "|-|-|-|-|-|-|-|-|\n",
        "|2|-|6|4|-|10|12|-|\n",
        "\n",
        "A bad hash function groups values together and produces a lot of collisions.\n",
        "\n",
        "|0|1|2|3|4|5|6|7|\n",
        "|-|-|-|-|-|-|-|-|\n",
        "|[2, 4]|[12, 10, 6]|-|-|-|-|-|-|\n",
        "\n",
        "For reference, a very simple hash function could be something like the following code example."
      ]
    },
    {
      "cell_type": "code",
      "metadata": {
        "id": "jELDEkOKFoeA"
      },
      "source": [
        "# A simplistic hash function\n",
        "num_buckets = 5\n",
        "def hash(x):\n",
        "  \"\"\"Return the hash code for a string by summing\n",
        "  the numeric values of its characters.\n",
        "  \"\"\"\n",
        "  return sum([ord(c) for c in x]) % num_buckets\n",
        "\n",
        "print(hash(\"apple\"))\n",
        "print(hash(\"apricot\"))\n",
        "print(hash(\"avocado\"))"
      ],
      "execution_count": null,
      "outputs": []
    },
    {
      "cell_type": "markdown",
      "metadata": {
        "id": "SZAriC7yW_0E"
      },
      "source": [
        "The above hash function is not very robust for reasons that have already been highlighted.\n",
        "\n",
        "In reality, the business of creating a good hash function is a topic of its own.\n",
        "\n",
        "If you're really curious about what hash functions look like, take a look at the <a href=\"\" target=\"_blank\">SHA</a> function. It can be used as the hash function for your own implementation of a hash table (Python also provides a built-in `hash()` function that it itself uses)."
      ]
    },
    {
      "cell_type": "markdown",
      "metadata": {
        "id": "fHMIcY696Xww"
      },
      "source": [
        "# Conclusion"
      ]
    },
    {
      "cell_type": "markdown",
      "metadata": {
        "id": "4vjLqCk95S14"
      },
      "source": [
        "The programming language you use probably provides an implementation of hash tables for you. With Python, you can use dictionaries and assume that you'll get the average case performance: constant time.\n",
        "\n",
        "### Recap\n",
        "* You can make a hash table by combining a hash function with a list.\n",
        "* Collisions are bad. You need a hash function that minimizes collisions.\n",
        "* Hash tables perform search, insert, and delete operations very quickly.\n",
        "* Hash tables are good for modeling relationships from one item to another item.\n",
        "* Once your load factor is greater than 0.7, it's time to resize your hash table.\n",
        "* Hash tables are great for catching duplicates."
      ]
    }
  ]
}