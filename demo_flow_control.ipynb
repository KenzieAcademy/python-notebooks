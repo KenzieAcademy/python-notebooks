{
  "nbformat": 4,
  "nbformat_minor": 0,
  "metadata": {
    "colab": {
      "name": "Flow Control.ipynb",
      "provenance": [],
      "collapsed_sections": []
    },
    "kernelspec": {
      "name": "python3",
      "display_name": "Python 3"
    }
  },
  "cells": [
    {
      "cell_type": "markdown",
      "metadata": {
        "id": "d6fgGAIvlHwQ",
        "colab_type": "text"
      },
      "source": [
        "<table border=\"0\" align=\"left\" width=\"700\" height=\"144\">\n",
        "<tbody>\n",
        "<tr>\n",
        "<td width=\"120\"><img width=\"100\" src=\"https://static1.squarespace.com/static/5992c2c7a803bb8283297efe/t/59c803110abd04d34ca9a1f0/1530629279239/\" /></td>\n",
        "<td style=\"width: 600px; height: 67px;\">\n",
        "<h1 style=\"text-align: left;\">Flow Control Structures and Patterns</h1>\n",
        "<p><a href=\"https://colab.research.google.com/github/KenzieAcademy/python-notebooks/blob/master/demo_flow_control.ipynb\"> <img src=\"https://colab.research.google.com/assets/colab-badge.svg\" alt=\"Open In Colab\" align=\"left\" width=\"188\" height=\"32\" /> </a></p>\n",
        "</td>\n",
        "</tr>\n",
        "</tbody>\n",
        "</table>"
      ]
    },
    {
      "cell_type": "markdown",
      "metadata": {
        "id": "YIkNcemLlM4l",
        "colab_type": "text"
      },
      "source": [
        "When we talk about \"flow control\", we are referring to the order in which statements are executed throughout a program. The default behavior is for the code to be executed line by line, in order, from top to bottom. As a programmer, you are provided with syntax for altering the order of execution of your program. You can omit lines (conditional statements), repeat pieces of code (loops), jump to other areas within the code (functions), and even short-circuit code that would otherwise continue forward."
      ]
    },
    {
      "cell_type": "markdown",
      "metadata": {
        "id": "H62uMxbcQXwZ",
        "colab_type": "text"
      },
      "source": [
        "## `if` Statements\n",
        "`if` statements are used to execute some code based on a condition or set of conditions being True or False. Optionally, you can create additional branches that will be executed under alternate conditions using an \"else if\" (`elif` in Python) statement, and an `else` statement in case none of the previous conditions have been satisfied."
      ]
    },
    {
      "cell_type": "code",
      "metadata": {
        "id": "wYjA0W2aQyS0",
        "colab_type": "code",
        "colab": {}
      },
      "source": [
        "letter = input('Enter a letter: ')\n",
        "if letter == 'a':\n",
        "  print('I like that letter')\n",
        "elif letter == 'e':\n",
        "  print('A different vowel, I see')\n",
        "elif letter == 'o':\n",
        "  print('More vowels...boring')\n",
        "else:\n",
        "  print('Too much!')"
      ],
      "execution_count": null,
      "outputs": []
    },
    {
      "cell_type": "markdown",
      "metadata": {
        "id": "AYqgEE4hYw8_",
        "colab_type": "text"
      },
      "source": [
        "Conditional statements can also be used on a single line, especially in such things as [list comprehensions](https://docs.python.org/3/tutorial/datastructures.html#list-comprehensions). You may recognize this pattern from Codewars!"
      ]
    },
    {
      "cell_type": "code",
      "metadata": {
        "id": "CHAaaWJlEb0F",
        "colab_type": "code",
        "colab": {}
      },
      "source": [
        "# set up our tuple of vowels to use in the following cells\n",
        "vowels = ('a', 'e', 'i', 'o', 'u')"
      ],
      "execution_count": 5,
      "outputs": []
    },
    {
      "cell_type": "code",
      "metadata": {
        "id": "NI-yWjHHERj9",
        "colab_type": "code",
        "colab": {}
      },
      "source": [
        "  # with only an \"if\" condition, it is placed after the \"for\" statement within the list comprehension\n",
        "  print(''.join([c for c in 'this is the way' if c not in vowels]))"
      ],
      "execution_count": null,
      "outputs": []
    },
    {
      "cell_type": "code",
      "metadata": {
        "id": "iJA5xCtLZPaK",
        "colab_type": "code",
        "colab": {}
      },
      "source": [
        "def devowelify(s):\n",
        "  return ''.join([c for c in s if c not in vowels])\n",
        "\n",
        "print(devowelify('I don\\'t know what this really does...'))"
      ],
      "execution_count": null,
      "outputs": []
    },
    {
      "cell_type": "code",
      "metadata": {
        "id": "gaCcmYGURDME",
        "colab_type": "code",
        "colab": {}
      },
      "source": [
        "# when using any combination of if/else, it is placed before the \"for\" statement within the list comprehension\n",
        "print(''.join([c.upper() if c in vowels else c for c in 'this is the way']))"
      ],
      "execution_count": null,
      "outputs": []
    },
    {
      "cell_type": "code",
      "metadata": {
        "id": "tRRTvyJTREzZ",
        "colab_type": "code",
        "colab": {}
      },
      "source": [
        "# and if you want to include an elif, it takes the form of nested if/else statements (and gets pretty ugly real fast)\n",
        "print(''.join([c.upper() if c in vowels else ('\\t' if c.isspace() else c) for c in 'this is the way']))"
      ],
      "execution_count": null,
      "outputs": []
    },
    {
      "cell_type": "markdown",
      "metadata": {
        "id": "vESF4HtbWiLP",
        "colab_type": "text"
      },
      "source": [
        "`if`/`else` statements are used as Python's answer to the ternary expression. There is even a shorthand form of it that you will likely see from time to time, although its usage is more limited. It is generally used when you just want to check the return value of a function for an empty value."
      ]
    },
    {
      "cell_type": "code",
      "metadata": {
        "id": "O5byErYSXHg5",
        "colab_type": "code",
        "colab": {}
      },
      "source": [
        "is_mandalorian = True\n",
        "print('this is the way' if is_mandalorian else 'baby yoda')"
      ],
      "execution_count": null,
      "outputs": []
    },
    {
      "cell_type": "code",
      "metadata": {
        "id": "E-1fNW0LSovg",
        "colab_type": "code",
        "colab": {}
      },
      "source": [
        "# shorthand version of the ternary expression\n",
        "func_return = []  # let's pretend that a function we called returned this value\n",
        "print(func_return or 'Nothing returned from function!')  # uses \"short-circuiting\", evaluating from left-to-right"
      ],
      "execution_count": null,
      "outputs": []
    },
    {
      "cell_type": "markdown",
      "metadata": {
        "id": "O5V7QlxgQc7W",
        "colab_type": "text"
      },
      "source": [
        "## `for` Loops\n",
        "`for` loops are used for *definite iteration* (i.e., the number of iterations is known), either through a given range, or the number of items in an iterable such as a string or a list. Python does not have syntax for traditional `for` loops using counter variables (although there is a common pattern used to mimic this behavior). Instead, it iterates over the items of an iterable object, using the `for...in` syntax."
      ]
    },
    {
      "cell_type": "code",
      "metadata": {
        "id": "N070uTwEQzEa",
        "colab_type": "code",
        "colab": {}
      },
      "source": [
        "for char in 'loopy':\n",
        "  print(char)"
      ],
      "execution_count": null,
      "outputs": []
    },
    {
      "cell_type": "code",
      "metadata": {
        "id": "AyPJNEQLl6uZ",
        "colab_type": "code",
        "colab": {}
      },
      "source": [
        "# print each word of a sentence on its own line\n",
        "for word in 'I have spoken'.split():\n",
        "  print(word)"
      ],
      "execution_count": null,
      "outputs": []
    },
    {
      "cell_type": "markdown",
      "metadata": {
        "id": "9i-e9gQHgYZc",
        "colab_type": "text"
      },
      "source": [
        "One common complement to `for` loops is Python's built-in `enumerate()` function. It is used when you need, not only the value, but also a count of the value within an iterable. Each iteration of the loop, it effectively provides you with a count/value pair as a tuple."
      ]
    },
    {
      "cell_type": "code",
      "metadata": {
        "id": "Br4crzf2his9",
        "colab_type": "code",
        "colab": {}
      },
      "source": [
        "# Space out a string every 3 characters.\n",
        "result = []\n",
        "fw = 'mandalorian'\n",
        "bw = fw[::-1]  # create a copy of the string reversed\n",
        "step = 5\n",
        "for i, c in enumerate(fw):\n",
        "  if i > 0 and not i % step:\n",
        "    result.append(' ')\n",
        "  result.append(c)\n",
        "''.join(result)"
      ],
      "execution_count": null,
      "outputs": []
    },
    {
      "cell_type": "markdown",
      "metadata": {
        "id": "eUkSiW9Qkfj-",
        "colab_type": "text"
      },
      "source": [
        "Another incredibly common complementary function to `for` loops is the built-in `range()` function. It allows you to specify how many times to iterate by creating a range of numbers as an iterable. This allows you to imitate the traditional \"`for` loop with a counter\" behavior.\n",
        "\n",
        "`range()` takes the form of accepting either one argument, `stop`, or two to three arguments, `start`, `stop`, and optional `step`.\n",
        "\n",
        "*Note*: Be sure to remember that the `range()` function begins at 0 by default and its `stop` value is *exclusive* &mdash; it is not included in the generated range."
      ]
    },
    {
      "cell_type": "code",
      "metadata": {
        "id": "3u_aDQgcpcgU",
        "colab_type": "code",
        "colab": {}
      },
      "source": [
        "# Loop 10 times (0-9)\n",
        "for i in range(10):\n",
        "  print(i, end=' ')"
      ],
      "execution_count": null,
      "outputs": []
    },
    {
      "cell_type": "code",
      "metadata": {
        "id": "OSMc0xf1LS5j",
        "colab_type": "code",
        "colab": {}
      },
      "source": [
        "# Loop 10 times (1-10)\n",
        "for i in range(1, 11):\n",
        "  print(i, end=' ')"
      ],
      "execution_count": null,
      "outputs": []
    },
    {
      "cell_type": "code",
      "metadata": {
        "id": "CQLlb6a2LUYU",
        "colab_type": "code",
        "colab": {}
      },
      "source": [
        "# Even numbers from 0 through 10\n",
        "for i in range(0, 11, 2):\n",
        "  print(i, end=' ')"
      ],
      "execution_count": null,
      "outputs": []
    },
    {
      "cell_type": "code",
      "metadata": {
        "id": "fukU4rhMLV9s",
        "colab_type": "code",
        "colab": {}
      },
      "source": [
        "# Count backwards from 10 to 0\n",
        "for i in range(10, 0, -1):\n",
        "  print(i, end=' ')"
      ],
      "execution_count": null,
      "outputs": []
    },
    {
      "cell_type": "markdown",
      "metadata": {
        "id": "d3B4yKe8sVkp",
        "colab_type": "text"
      },
      "source": [
        "### The Throwaway Variable\n",
        "Sometimes you just want to use `range()` to cause a loop to iterate a certain number of times without actually caring about the iteration counter. In these cases, it is a Python convention to use the underscore character, `_`, to indicate that the value is unused. It has no effect on Python itself &mdash; it is merely a coding convention that is good practice to follow."
      ]
    },
    {
      "cell_type": "code",
      "metadata": {
        "id": "ExkdJpb1tIRd",
        "colab_type": "code",
        "colab": {}
      },
      "source": [
        "numbers = []\n",
        "for _ in range(3):  # we just want something to happen 3 times...we don't care about the counter\n",
        "  choice = input('What is one of your favorite numbers? ')\n",
        "  numbers.append(int(choice))\n",
        "print(f\"Your favorite numbers added together equal: {sum(numbers)}\")"
      ],
      "execution_count": null,
      "outputs": []
    },
    {
      "cell_type": "markdown",
      "metadata": {
        "id": "Xzs858siQiNe",
        "colab_type": "text"
      },
      "source": [
        "## `while` Loops\n",
        "`while` loops are used for *indefinite iteration*. In this case, the number of iterations is unknown and is based on a certain condition being met. As long as the given condition is `True`, the loop continues to iterate. Unless your intention is to create an infinite loop (which can actually be useful), you will want to include a mechanism that will cause the condition to become `False` in order to exit the loop at some point."
      ]
    },
    {
      "cell_type": "code",
      "metadata": {
        "id": "k8ofVfc5RFfy",
        "colab_type": "code",
        "colab": {}
      },
      "source": [
        "secret = list('adoy ybab')\n",
        "while secret:  # loop as long as secret is truthy (i.e., not empty)\n",
        "  print(secret.pop(), end='')  # modify secret to work towards a falsy loop condition"
      ],
      "execution_count": null,
      "outputs": []
    },
    {
      "cell_type": "markdown",
      "metadata": {
        "id": "InJP7DMlux1I",
        "colab_type": "text"
      },
      "source": [
        "## Loop Modifiers\n",
        "There are a couple of statements that can alter the course of a loop.\n",
        "* `break` &mdash; exit the loop immediately\n",
        "* `continue` &mdash; begin the next iteration of the loop immediately\n",
        "\n",
        "The break statement is what enables us to exit a purposely-infinite loop."
      ]
    },
    {
      "cell_type": "code",
      "metadata": {
        "id": "fdnh-rIKv5Zh",
        "colab_type": "code",
        "colab": {}
      },
      "source": [
        "# --------------------------------------------- #\n",
        "# *!!* The Incredible Number Input Game!!! *!!* #\n",
        "# --------------------------------------------- #\n",
        "numbers = []\n",
        "while True:  # begin an infinite loop\n",
        "  number = input(\"Enter a number ('q' to exit): \")\n",
        "  if number == 'q':\n",
        "    print('Thank you. Good bye!')\n",
        "    break\n",
        "  elif number == '42':\n",
        "    print('Secret Bypass Code Detected')\n",
        "    continue\n",
        "  numbers.append(int(number))\n",
        "print(f'Your numbers are: {numbers}')"
      ],
      "execution_count": null,
      "outputs": []
    },
    {
      "cell_type": "markdown",
      "metadata": {
        "id": "dH6hWQgUQkDV",
        "colab_type": "text"
      },
      "source": [
        "## Functions\n",
        "As reusable chunks of code defined outside of the normal execution flow of a program, functions alter the flow of a program in their own kind of way. It involves pushing and popping to and from a *call stack*, which is beyond the scope of this discussion. Functions are defined using the `def` keyword, followed by a name of your choice, and parentheses `()` containing any number of parameters. When a function is called, the program flow effectively shifts to wherever that function is defined in the code. Once the function returns (either implicitly or explicitly), execution resumes at the line of code following the call to the function."
      ]
    },
    {
      "cell_type": "code",
      "metadata": {
        "id": "dnZt3mJORGBt",
        "colab_type": "code",
        "colab": {}
      },
      "source": [
        "def mando():\n",
        "  print('\"this is the way\"')\n",
        "  return # resume program execution from where this function was called\n",
        "\n",
        "print('Why are one-liners so prevalent on Codewars?')\n",
        "mando()  # redirect program execution to the mando() function\n",
        "print('Oh, ok. Got it.')"
      ],
      "execution_count": null,
      "outputs": []
    }
  ]
}