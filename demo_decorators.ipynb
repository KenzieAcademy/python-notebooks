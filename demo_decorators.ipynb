{
  "nbformat": 4,
  "nbformat_minor": 0,
  "metadata": {
    "kernelspec": {
      "name": "python3",
      "display_name": "Python 3"
    },
    "colab": {
      "name": "demo_decorators-revised.ipynb",
      "provenance": [],
      "collapsed_sections": []
    }
  },
  "cells": [
    {
      "cell_type": "markdown",
      "metadata": {
        "id": "_HMqF0g5Hv3-",
        "colab_type": "text"
      },
      "source": [
        "<table align=left width=\"590\" height=\"144\" style=\"height: 67px; width: 565px;\">\n",
        "<tbody>\n",
        "<tr>\n",
        "<td width=82><img src=\"https://static1.squarespace.com/static/5992c2c7a803bb8283297efe/t/59c803110abd04d34ca9a1f0/1530629279239/\" /></td>\n",
        "<td style=\"width: 422px; height: 67px;\">\n",
        "<h1 style=\"text-align: left;\">A Brief Tour of Decorators</h1>\n",
        "<p><a href=\"https://colab.research.google.com/github/KenzieAcademy/python-notebooks/blob/master/demo_decorators.ipynb\"> <img src=\"https://colab.research.google.com/assets/colab-badge.svg\" alt=\"Open In Colab\" align=\"left\" width=\"188\" height=\"32\" /> </a></p>\n",
        "</td>\n",
        "</tr>\n",
        "</tbody>\n",
        "</table>"
      ]
    },
    {
      "cell_type": "markdown",
      "metadata": {
        "id": "XGqfgW0aHv3_",
        "colab_type": "text"
      },
      "source": [
        "Decorators are part of Python that involves _Functional Programming_.\n",
        "\n",
        "A Decorator gives a function **new behavior without changing the function itself**.\n",
        "\n",
        "Wikipedia:\n",
        "> A design pattern that allows behavior to be added to an existing object, dynamically.\n",
        "\n",
        "In Python this means that a decorator is code that can alter a \"callable\". How is this enabled? By way of _function closures_."
      ]
    },
    {
      "cell_type": "markdown",
      "metadata": {
        "id": "lrIeRdKzHv4A",
        "colab_type": "text"
      },
      "source": [
        "### A brief look at function closures\n",
        "You may think that _closures_ sound esoteric or mysterious but they are not really that bad. In Python, a **closure** is a function that is returned by another function and makes use of a variable from its enclosing scope."
      ]
    },
    {
      "cell_type": "code",
      "metadata": {
        "id": "IBez8jOdHv4B",
        "colab_type": "code",
        "colab": {}
      },
      "source": [
        "def add_x(x):\n",
        "    # ------------ inner function starts here\n",
        "    def adder(num):\n",
        "        # adder is a closure\n",
        "        # x is a free variable\n",
        "        return x + num\n",
        "    # ------------ inner function ends here\n",
        "    return adder\n",
        "\n",
        "# We are creating NEW custom function objects.\n",
        "add_5 = add_x(5) # this is the adder() function, with number 5 enclosed within.\n",
        "add_6 = add_x(6) # this is the adder() function, with number 6 enclosed within.\n",
        "\n",
        "# They are two separate, brand new functions based on the original adder() function.\n",
        "print(add_5)\n",
        "print(add_6)"
      ],
      "execution_count": null,
      "outputs": []
    },
    {
      "cell_type": "code",
      "metadata": {
        "id": "GhmpC7xAHv4E",
        "colab_type": "code",
        "colab": {}
      },
      "source": [
        "# We have created a function closure!\n",
        "# Specific job is to \"add 5 to something\" or \"add 6 to something\"\n",
        "print(add_5(10))\n",
        "print(add_6(10))"
      ],
      "execution_count": null,
      "outputs": []
    },
    {
      "cell_type": "markdown",
      "metadata": {
        "id": "lvVBuQnWHv4G",
        "colab_type": "text"
      },
      "source": [
        "Examine the function above. There is an inner function, and an outer function. The inner function object is returned by the outer function.\n",
        "\n",
        "The inner function `adder` is said to be _closed over_ -- it is a **closure**. In this example, since `x` has been defined outside the scope of `adder`, it is called a _free variable_.\n",
        "\n",
        "Functions can return new functions. The inner function is a closure. However, the inner function relies on `x` to do its job. The closure will include this free variable `x`. Think of a closure as a package of a function object, plus any free variables it depends on."
      ]
    },
    {
      "cell_type": "markdown",
      "metadata": {
        "id": "Bpze-RHdHv4H",
        "colab_type": "text"
      },
      "source": [
        "### What is a **callable** in Python?\n",
        "A callable is anything that can be _called_.  DOH.\n"
      ]
    },
    {
      "cell_type": "code",
      "metadata": {
        "id": "H3L0BZ2JHv4H",
        "colab_type": "code",
        "colab": {}
      },
      "source": [
        "class Foo:\n",
        "    def __call__(self):\n",
        "        print('I have been called to a higher purpose')\n",
        "\n",
        "foo_instance = Foo()\n",
        "\n",
        "foo_instance() # this is calling the __call__ method\n",
        "\n",
        "foo_instance.__call__()  # This is also calling the __call__ method!"
      ],
      "execution_count": null,
      "outputs": []
    },
    {
      "cell_type": "markdown",
      "metadata": {
        "id": "o88YcKKjRMRK",
        "colab_type": "text"
      },
      "source": [
        "## It's decorator time!"
      ]
    },
    {
      "cell_type": "markdown",
      "metadata": {
        "id": "fGlovhfKHv4K",
        "colab_type": "text"
      },
      "source": [
        "### Here's one that logs a function entry/exit\n",
        "Please make sure you understand this example.  \n",
        "1. Accepts an input function object named `func`\n",
        "2. Returns a function object named `wrapper`\n",
        "3. When `wrapper` is invoked, it does new things:\n",
        " - Print out a message\n",
        " - Invokes (calls) the original function object\n",
        " - Print out another message"
      ]
    },
    {
      "cell_type": "code",
      "metadata": {
        "id": "aOEXBdtcHv4K",
        "colab_type": "code",
        "colab": {}
      },
      "source": [
        "def verbosify(func):\n",
        "    def wrapper():\n",
        "        print(\"I'm about to call \" + func.__name__)\n",
        "        result = func()\n",
        "        print(\"I'm done with \" + func.__name__)\n",
        "        return result\n",
        "    return wrapper\n",
        "        "
      ],
      "execution_count": null,
      "outputs": []
    },
    {
      "cell_type": "markdown",
      "metadata": {
        "id": "9AZXEbNPHv4N",
        "colab_type": "text"
      },
      "source": [
        "A decorator is only useful when it is applied to a function.  Let's try it!  But first, let's see the original function in action"
      ]
    },
    {
      "cell_type": "code",
      "metadata": {
        "id": "Mg4AdS0VHv4N",
        "colab_type": "code",
        "colab": {}
      },
      "source": [
        "def hello():\n",
        "    print(\"Hello, all!\")"
      ],
      "execution_count": null,
      "outputs": []
    },
    {
      "cell_type": "code",
      "metadata": {
        "id": "Mr80LYKIHv4P",
        "colab_type": "code",
        "colab": {}
      },
      "source": [
        "# Verify the original function\n",
        "hello()\n",
        "\n",
        "# What is the name of the original function?\n",
        "hello.__name__"
      ],
      "execution_count": null,
      "outputs": []
    },
    {
      "cell_type": "markdown",
      "metadata": {
        "id": "ATmh9qGEHv4S",
        "colab_type": "text"
      },
      "source": [
        "Now let's redefine the original function.  Python is a functional language!"
      ]
    },
    {
      "cell_type": "code",
      "metadata": {
        "id": "pwsqe9RVHv4S",
        "colab_type": "code",
        "colab": {}
      },
      "source": [
        "hello = verbosify(hello) # this REPLACES the original hello with a verbosified hello\n",
        "hello()\n",
        "hello.__name__"
      ],
      "execution_count": null,
      "outputs": []
    },
    {
      "cell_type": "markdown",
      "metadata": {
        "id": "jQlHq_qiHv4U",
        "colab_type": "text"
      },
      "source": [
        "Yes, you saw that right. It is **not** the original function name anymore! But that's not the only beautiful thing. We now have **syntactic sugar** for this procedure\n",
        "\n",
        "You may ask, what in the world is \"Syntactic Sugar\"?\n",
        "\n",
        "> Syntactic sugar is syntax within a programming language that is designed to make things easier to read or to express. It makes the language \"sweeter\" for human use: things can be expressed more clearly, more concisely, or in an alternative style that some may prefer."
      ]
    },
    {
      "cell_type": "code",
      "metadata": {
        "id": "qBw7FkOCHv4U",
        "colab_type": "code",
        "colab": {}
      },
      "source": [
        "# Place syntactic sugar decorator directly above the function\n",
        "@verbosify\n",
        "def greet():\n",
        "    print('Good day to you!')"
      ],
      "execution_count": null,
      "outputs": []
    },
    {
      "cell_type": "code",
      "metadata": {
        "id": "Tq9kcDsgHv4W",
        "colab_type": "code",
        "colab": {}
      },
      "source": [
        "# Call it!\n",
        "greet()"
      ],
      "execution_count": null,
      "outputs": []
    },
    {
      "cell_type": "markdown",
      "metadata": {
        "id": "pDU-McozHv4Y",
        "colab_type": "text"
      },
      "source": [
        "### Houston we have a problem\n",
        "What if the function that we are decorating accepts parameters? How do we pass parameters to a decorated function?"
      ]
    },
    {
      "cell_type": "code",
      "metadata": {
        "id": "kw0BedIVHv4Z",
        "colab_type": "code",
        "colab": {}
      },
      "source": [
        "# Example\n",
        "@verbosify\n",
        "def add(x, y):\n",
        "    return x + y\n",
        "\n",
        "# I sense impending doom...\n",
        "add(5, 3)"
      ],
      "execution_count": null,
      "outputs": []
    },
    {
      "cell_type": "markdown",
      "metadata": {
        "id": "4Q4zPD7JHv4c",
        "colab_type": "text"
      },
      "source": [
        "### Oh drat. Tsk Tsk.\n",
        "We did not define any parameters for our `wrapper` function. Ok, that is simple enough to fix...just **add parameters**! Here is a perfect use for `*args` and `**kwargs`. They allow the `wrapper` function to accept an arbitrary number of arguments, and to be passed in to the original function."
      ]
    },
    {
      "cell_type": "code",
      "metadata": {
        "id": "Q4bsYByVHv4c",
        "colab_type": "code",
        "colab": {}
      },
      "source": [
        "# Our decorator function...revised to add args and kwargs\n",
        "def verbosify(func):\n",
        "    def wrapper(*args, **kwargs):\n",
        "        print(\"I'm about to call \" + func.__name__)\n",
        "        result = func(*args, **kwargs)\n",
        "        print(\"I'm done with \" + func.__name__)\n",
        "        return result\n",
        "    return wrapper\n"
      ],
      "execution_count": null,
      "outputs": []
    },
    {
      "cell_type": "code",
      "metadata": {
        "id": "ouohI7eXHv4e",
        "colab_type": "code",
        "colab": {}
      },
      "source": [
        "# Let's try again to pass arguments\n",
        "\n",
        "@verbosify\n",
        "def add(x, y):\n",
        "    return x + y\n",
        "\n",
        "# Smooth Sailing\n",
        "add(5, 3)"
      ],
      "execution_count": null,
      "outputs": []
    },
    {
      "cell_type": "code",
      "metadata": {
        "id": "AyKMcT4oHv4g",
        "colab_type": "code",
        "colab": {}
      },
      "source": [
        "@verbosify\n",
        "def goodbye():\n",
        "    print('BUH BYE')\n",
        "    \n",
        "goodbye()"
      ],
      "execution_count": null,
      "outputs": []
    },
    {
      "cell_type": "markdown",
      "metadata": {
        "id": "PVJAfeeaHv4i",
        "colab_type": "text"
      },
      "source": [
        "### Here is a lovely decorator template\n",
        "Here is a generic template for a decorator that accepts arbitrary arguments"
      ]
    },
    {
      "cell_type": "code",
      "metadata": {
        "id": "a3b34s_lHv4j",
        "colab_type": "code",
        "colab": {}
      },
      "source": [
        "# Version 1\n",
        "def decorator(func_to_decorate):\n",
        "    def wrapper(*args, **kwargs):\n",
        "        # Do something before calling func_to_decorate\n",
        "        result = func_to_decorate(*args, **kwargs)\n",
        "        # Do something after calling func_to_decorate\n",
        "        return result\n",
        "    wrapper.__doc__ = func_to_decorate.__doc__\n",
        "    wrapper.__name__ = func_to_decorate.__name__\n",
        "    return wrapper\n",
        "\n",
        "@decorator\n",
        "def say_hi():\n",
        "  print('hi')\n",
        "\n",
        "print(say_hi.__name__)  # name is preserved by overriding wrapper.__name__"
      ],
      "execution_count": null,
      "outputs": []
    },
    {
      "cell_type": "code",
      "metadata": {
        "id": "J-gnrc80Hv4l",
        "colab_type": "code",
        "colab": {}
      },
      "source": [
        "# Version 2\n",
        "from functools import wraps\n",
        "def decorator(func_to_decorate):\n",
        "    @wraps(func_to_decorate)\n",
        "    def wrapper(*args, **kwargs):\n",
        "        # Do something before calling func_to_decorate\n",
        "        result = func_to_decorate(*args, **kwargs)\n",
        "        # Do something after calling func_to_decorate\n",
        "        return result\n",
        "    return wrapper\n",
        "\n",
        "@decorator\n",
        "def say_hi():\n",
        "  print('hi')\n",
        "\n",
        "print(say_hi.__name__)  # name is preserved by functools.wraps()"
      ],
      "execution_count": null,
      "outputs": []
    },
    {
      "cell_type": "markdown",
      "metadata": {
        "id": "KMf1zDu0Hv4p",
        "colab_type": "text"
      },
      "source": [
        "You may have noticed the lines with `__doc__` and `__name__`. what is going on there?\n",
        "\n",
        "A well-behaved decorator should have the `__doc__` and `__name__` attributes of its inner wrapper updated to reflect those of the original decorated function so that it is \"friendly to introspection\" -- it should not change the names of functions. This is important for things like serialization of objects."
      ]
    },
    {
      "cell_type": "markdown",
      "metadata": {
        "id": "6ha_MwJXHv4q",
        "colab_type": "text"
      },
      "source": [
        "### Other ways to create decorators\n",
        "Remember that any _callable_ can be used to decorate a function. This includes not only functions (which are naturally callable) but also class objects. To put it simply: a decorator is a callable that accepts a callable and returns a callable."
      ]
    },
    {
      "cell_type": "code",
      "metadata": {
        "id": "y0vO0t4kHv4q",
        "colab_type": "code",
        "colab": {}
      },
      "source": [
        "class deco_class:\n",
        "    def __init__(self, func):\n",
        "        self.func = func\n",
        "    # by implementing the __call__ magic method, this class is now `callable`\n",
        "    def __call__(self, *args, **kwargs):\n",
        "        print('deco class before invoking its func')\n",
        "        result = self.func(*args, **kwargs)\n",
        "        print('deco class after invoking its func')"
      ],
      "execution_count": null,
      "outputs": []
    },
    {
      "cell_type": "code",
      "metadata": {
        "id": "aB9oXpfyHv4s",
        "colab_type": "code",
        "colab": {}
      },
      "source": [
        "@deco_class\n",
        "def my_other_func():\n",
        "    print(\"I feel like I've been OTHERED\")\n",
        "    \n",
        "my_other_func()"
      ],
      "execution_count": null,
      "outputs": []
    },
    {
      "cell_type": "markdown",
      "metadata": {
        "id": "rZ-O6MoHHv4u",
        "colab_type": "text"
      },
      "source": [
        "### Decorator examples\n",
        "This decorator works by storing the time just before the function starts running (at the line marked # 1) and just after the function finishes (at # 2). The time the function takes is then the difference between the two (at # 3)."
      ]
    },
    {
      "cell_type": "code",
      "metadata": {
        "id": "D4lTQhFGHv4u",
        "colab_type": "code",
        "colab": {}
      },
      "source": [
        "import functools\n",
        "import time\n",
        "\n",
        "def timer(func):\n",
        "    \"\"\"Print the runtime of the decorated function\"\"\"\n",
        "    @functools.wraps(func)\n",
        "    def wrapper_timer(*args, **kwargs):\n",
        "        start_time = time.time()    # 1\n",
        "        value = func(*args, **kwargs)\n",
        "        end_time = time.time()      # 2\n",
        "        run_time = end_time - start_time    # 3\n",
        "        print(f\"Finished {func.__name__} in {run_time:.4f} secs\")\n",
        "        return value\n",
        "    return wrapper_timer\n",
        "\n",
        "@timer\n",
        "def waste_some_time(num_times):\n",
        "    for _ in range(num_times):\n",
        "        sum([i**2 for i in range(10000)])"
      ],
      "execution_count": null,
      "outputs": []
    },
    {
      "cell_type": "code",
      "metadata": {
        "id": "byobvkOxHv4w",
        "colab_type": "code",
        "colab": {}
      },
      "source": [
        "waste_some_time(1)"
      ],
      "execution_count": null,
      "outputs": []
    },
    {
      "cell_type": "code",
      "metadata": {
        "id": "fnC8JAaeHv4y",
        "colab_type": "code",
        "colab": {}
      },
      "source": [
        "waste_some_time(999)"
      ],
      "execution_count": null,
      "outputs": []
    },
    {
      "cell_type": "markdown",
      "metadata": {
        "id": "TaI_Ak4aHv4z",
        "colab_type": "text"
      },
      "source": [
        "Note: This `@timer` decorator is great if you just want to get an idea about the runtime of your functions. If you want to do more precise measurements of code, you should instead consider the timeit module in the standard library. It temporarily disables garbage collection and runs multiple trials to strip out noise from quick function calls."
      ]
    },
    {
      "cell_type": "markdown",
      "metadata": {
        "id": "wDcfYzuqHv40",
        "colab_type": "text"
      },
      "source": [
        "### Maintaining state within a decorator"
      ]
    },
    {
      "cell_type": "code",
      "metadata": {
        "id": "AgVG9intHv40",
        "colab_type": "code",
        "colab": {}
      },
      "source": [
        "import functools\n",
        "\n",
        "def count_calls(func):\n",
        "    @functools.wraps(func)\n",
        "    def wrapper_count_calls(*args, **kwargs):\n",
        "        wrapper_count_calls.num_calls += 1\n",
        "        print(f\"Call {wrapper_count_calls.num_calls} of {func.__name__}\")\n",
        "        return func(*args, **kwargs)\n",
        "    # This adds a new attribute variable to the `wrapper_count_calls` function!\n",
        "    # The state of this counter is preserved between successive calls.\n",
        "    wrapper_count_calls.num_calls = 0  \n",
        "    \n",
        "    return wrapper_count_calls\n",
        "\n",
        "@count_calls\n",
        "def say_ticktock():\n",
        "    print(\"Tick Tock!\")\n",
        "\n",
        "say_ticktock()\n",
        "say_ticktock()\n",
        "for _ in range(1, 10):\n",
        "    say_ticktock()"
      ],
      "execution_count": null,
      "outputs": []
    },
    {
      "cell_type": "markdown",
      "metadata": {
        "id": "gX65zZKEHv42",
        "colab_type": "text"
      },
      "source": [
        "## Conclusions\n",
        " - Decorators are cool. Functional programming is cool.\n",
        " - You will use decorators in Django.\n",
        " - We have only scratched the surface here!"
      ]
    }
  ]
}