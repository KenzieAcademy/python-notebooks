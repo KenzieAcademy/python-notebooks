{
  "nbformat": 4,
  "nbformat_minor": 0,
  "metadata": {
    "colab": {
      "name": "Untitled2.ipynb",
      "provenance": []
    },
    "kernelspec": {
      "name": "python3",
      "display_name": "Python 3"
    },
    "language_info": {
      "name": "python"
    }
  },
  "cells": [
    {
      "cell_type": "markdown",
      "metadata": {
        "id": "a6dsCgAwP8zA"
      },
      "source": [
        "# ISS Locator Starter"
      ]
    },
    {
      "cell_type": "code",
      "metadata": {
        "id": "7OuQ2034P7Ey"
      },
      "source": [
        "#!/usr/bin/env python\n",
        "\n",
        "__author__ = '???'\n",
        "\n",
        "import time\n",
        "import requests\n",
        "\n",
        "\n",
        "# Part A\n",
        "def print_astronauts():\n",
        "    \"\"\"Retrieves list of astronauts in space and prints\n",
        "    information about them.\"\"\"\n",
        "    url = \"http://api.open-notify.org/astros.json\"\n",
        "    # make a request to the API URL to get astronaut data\n",
        "    data = requests.get(url).json()\n",
        "    # from the response data, print:\n",
        "    #   - the total number of astronauts\n",
        "    #   - each astronaut's full name\n",
        "    #   - each astronaut's spacecraft\n",
        "    num_astros = data['number']\n",
        "    astros = data['people']\n",
        "    print(f\"Number of astronauts in space: {num_astros}\")\n",
        "    for astro in astros:\n",
        "        print(f\"\\t{astro['name']} is aboard {astro['craft']}\")\n",
        "\n",
        "\n",
        "# Part B\n",
        "def print_iss_coords():\n",
        "    \"\"\"Retrieves and prints the coordinates of the space\n",
        "    station and a timestamp.\"\"\"\n",
        "    url = \"http://api.open-notify.org/iss-now.json\"\n",
        "    # make a request to the API URl to get the location data\n",
        "\n",
        "    # from the response data:\n",
        "    #   print the coordinates of the space station\n",
        "    #   print the timestamp in an human-readable format (see the README)\n",
        "\n",
        "\n",
        "# Part C\n",
        "def print_next_pass():\n",
        "    \"\"\"Retrieve and print the next time that the space\n",
        "    station will pass over Indianapolis, Indiana.\"\"\"\n",
        "    url = \"http://api.open-notify.org/iss-pass.json\"\n",
        "    # make a request to the API URL (with required parameters)\n",
        "    # to get the next pass time\n",
        "\n",
        "    # from the response data, print the next pass time\n",
        "    # in a human-readable format\n",
        "\n",
        "\n",
        "def main():\n",
        "    # Call each of the functions to print all of the information\n",
        "    print_astronauts()\n",
        "    print_iss_coords()\n",
        "    print_next_pass()\n",
        "\n",
        "\n",
        "if __name__ == '__main__':\n",
        "    main()\n"
      ],
      "execution_count": null,
      "outputs": []
    }
  ]
}