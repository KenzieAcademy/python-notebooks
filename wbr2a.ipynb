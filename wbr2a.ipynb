{
  "nbformat": 4,
  "nbformat_minor": 0,
  "metadata": {
    "colab": {
      "name": "Python Foundations - Whiteboard Round II",
      "provenance": [],
      "collapsed_sections": []
    },
    "kernelspec": {
      "name": "python3",
      "display_name": "Python 3"
    }
  },
  "cells": [
    {
      "cell_type": "markdown",
      "metadata": {
        "id": "wZu0CJ054mZk"
      },
      "source": [
        "<table align=left width=\"590\" height=\"144\" style=\"height: 67px; width: 565px;\">\n",
        "<tbody>\n",
        "<tr>\n",
        "<td width=82><img alt=\"revA\" src=\"https://static1.squarespace.com/static/5992c2c7a803bb8283297efe/t/59c803110abd04d34ca9a1f0/1530629279239/\" /></td>\n",
        "<td style=\"width: 422px; height: 67px;\">\n",
        "<h1 style=\"text-align: left;\">Python Foundations</h1>\n",
        "<h2 style=\"text-align: left;\">Whiteboard Round II</h2>\n",
        "</td>\n",
        "</tr>\n",
        "</tbody>\n",
        "</table>"
      ]
    },
    {
      "cell_type": "markdown",
      "metadata": {
        "id": "3iryC6D4561M"
      },
      "source": [
        "# Strings"
      ]
    },
    {
      "cell_type": "markdown",
      "metadata": {
        "id": "Otg9oxDE4vVo"
      },
      "source": [
        "## 1."
      ]
    },
    {
      "cell_type": "code",
      "metadata": {
        "id": "6QFcb-u30yfB"
      },
      "source": [
        "# Create the string \"Python\" from the string defined below\n",
        "# using indexing, slicing, and string methods.\n",
        "p = \"pyhnot\"\n"
      ],
      "execution_count": null,
      "outputs": []
    },
    {
      "cell_type": "markdown",
      "metadata": {
        "id": "cavmqUtU5XpN"
      },
      "source": [
        "## 2."
      ]
    },
    {
      "cell_type": "code",
      "metadata": {
        "id": "DoBKm1F_5Ya0"
      },
      "source": [
        "# Use string methods to create the string \"Pyth0n\" (that's a zero!)\n",
        "# from the string defined below.\n",
        "s = \"python\"\n"
      ],
      "execution_count": null,
      "outputs": []
    },
    {
      "cell_type": "markdown",
      "metadata": {
        "id": "59J8hgqI5k2B"
      },
      "source": [
        "## 3."
      ]
    },
    {
      "cell_type": "code",
      "metadata": {
        "id": "LqPRxMWF5lcQ"
      },
      "source": [
        "# Using the variables defined below, print the string \"3 + 5 = 8\"\n",
        "# without using literal integers.\n",
        "n1, n2 = 3, 5\n"
      ],
      "execution_count": null,
      "outputs": []
    },
    {
      "cell_type": "markdown",
      "metadata": {
        "id": "J22SGfBh6AoC"
      },
      "source": [
        "# Lists"
      ]
    },
    {
      "cell_type": "markdown",
      "metadata": {
        "id": "IXG7MKDc53km"
      },
      "source": [
        "## 4."
      ]
    },
    {
      "cell_type": "code",
      "metadata": {
        "id": "MpQKIxJP54JM"
      },
      "source": [
        "# Create a list of only the even digits from the list defined below.\n",
        "digits = [0, 1, 2, 3, 4, 5, 6, 7, 8, 9]\n"
      ],
      "execution_count": null,
      "outputs": []
    },
    {
      "cell_type": "markdown",
      "metadata": {
        "id": "7_05QpeA6Fdo"
      },
      "source": [
        "## 5."
      ]
    },
    {
      "cell_type": "code",
      "metadata": {
        "id": "BJGJ2cd76BUv"
      },
      "source": [
        "# Using the resulting list of even digits, place a -2 at the beginning of the list.\n"
      ],
      "execution_count": null,
      "outputs": []
    },
    {
      "cell_type": "markdown",
      "metadata": {
        "id": "m5MA_gNiGHlR"
      },
      "source": [
        "## 6."
      ]
    },
    {
      "cell_type": "code",
      "metadata": {
        "id": "0gSWVymEGIFx"
      },
      "source": [
        "# Now, get rid of the 2.\n"
      ],
      "execution_count": null,
      "outputs": []
    },
    {
      "cell_type": "markdown",
      "metadata": {
        "id": "XmKDFw9WGIxy"
      },
      "source": [
        "## 7."
      ]
    },
    {
      "cell_type": "code",
      "metadata": {
        "id": "TcJyabc6GJy7"
      },
      "source": [
        "# Using the resulting list, use comprehension syntax to create a list of\n",
        "# tuples where each tuple contains the original number and its square (n*n).\n",
        "# e.g., [(-2, 4), (0, 0), (4, 16), (6, 36), (8, 64)]\n"
      ],
      "execution_count": null,
      "outputs": []
    },
    {
      "cell_type": "markdown",
      "metadata": {
        "id": "Mu1A56c0GKM_"
      },
      "source": [
        "## 8."
      ]
    },
    {
      "cell_type": "code",
      "metadata": {
        "id": "g4ss_TzEGKmT"
      },
      "source": [
        "# Now, sort the resulting list of tuples by each tuple's second item (the\n",
        "# square value).\n"
      ],
      "execution_count": null,
      "outputs": []
    },
    {
      "cell_type": "markdown",
      "metadata": {
        "id": "caHgfC8sGLQi"
      },
      "source": [
        "# Loops"
      ]
    },
    {
      "cell_type": "markdown",
      "metadata": {
        "id": "iNYcXAIhGMaA"
      },
      "source": [
        "## 9."
      ]
    },
    {
      "cell_type": "code",
      "metadata": {
        "id": "vJ5T_RQ3GL14"
      },
      "source": [
        "# Build a list containing the length of each word from the given list below.\n",
        "words = ['What', 'goes', 'up', 'must', 'come', 'down']\n"
      ],
      "execution_count": null,
      "outputs": []
    },
    {
      "cell_type": "markdown",
      "metadata": {
        "id": "3-neUMOLHBqJ"
      },
      "source": [
        "## 10."
      ]
    },
    {
      "cell_type": "code",
      "metadata": {
        "id": "Mth4qc3BHCpi"
      },
      "source": [
        "# Using the enumerate() function in a `for` loop, print each index and word from\n",
        "# the words list. But, if the index is odd, print the word in reverse.\n",
        "words = ['What', 'goes', 'up', 'must', 'come', 'down']\n"
      ],
      "execution_count": null,
      "outputs": []
    },
    {
      "cell_type": "markdown",
      "metadata": {
        "id": "ujr0HEaRHFzo"
      },
      "source": [
        "## 11."
      ]
    },
    {
      "cell_type": "code",
      "metadata": {
        "id": "eZWAHh1nHP_W"
      },
      "source": [
        "# Fill in the following code to print the numbers 1-10 counting backwards.\n",
        "for i in range(?, ?, ?):\n",
        "  print(i)"
      ],
      "execution_count": null,
      "outputs": []
    },
    {
      "cell_type": "markdown",
      "metadata": {
        "id": "qECsIGImHGGk"
      },
      "source": [
        "## 12."
      ]
    },
    {
      "cell_type": "code",
      "metadata": {
        "id": "oaaLP-TjHQnA"
      },
      "source": [
        "# Using a while loop, remove the smallest number from the list defined below\n",
        "# until there are only 5 numbers left.\n",
        "nums = [76, 22, 21, 35, 98, 88, 7, 81, 54, 10]\n"
      ],
      "execution_count": null,
      "outputs": []
    },
    {
      "cell_type": "markdown",
      "metadata": {
        "id": "_XhHywcxIHkC"
      },
      "source": [
        "# Dictionaries"
      ]
    },
    {
      "cell_type": "code",
      "metadata": {
        "id": "GVaGu5OjIOBE"
      },
      "source": [
        "# Run this cell!\n",
        "# Use this dictionary for the questions in this section.\n",
        "person = {\n",
        "    \"name\": \"Bob\",\n",
        "    \"age\": 50,\n",
        "    \"wife\": \"Martha\"\n",
        "}"
      ],
      "execution_count": null,
      "outputs": []
    },
    {
      "cell_type": "markdown",
      "metadata": {
        "id": "EnAMvbT9HGz4"
      },
      "source": [
        "## 13."
      ]
    },
    {
      "cell_type": "code",
      "metadata": {
        "id": "GDSk1dGlHSHf"
      },
      "source": [
        "# Bob just had a birthday! Update his age.\n"
      ],
      "execution_count": null,
      "outputs": []
    },
    {
      "cell_type": "markdown",
      "metadata": {
        "id": "b5rRWStkHG4o"
      },
      "source": [
        "## 14."
      ]
    },
    {
      "cell_type": "code",
      "metadata": {
        "id": "tDwKo71vHStH"
      },
      "source": [
        "# Find out if Bob has any children.\n",
        "# Look for the \"children\" key.\n",
        "# Print \"no kids\" if he does not have children.\n"
      ],
      "execution_count": null,
      "outputs": []
    },
    {
      "cell_type": "markdown",
      "metadata": {
        "id": "I4Rc8kO4HG9m"
      },
      "source": [
        "## 15."
      ]
    },
    {
      "cell_type": "code",
      "metadata": {
        "id": "6w0HFcd4HTM-"
      },
      "source": [
        "# Bob and Martha just had twins!\n",
        "# Add the children to the dictionary -- you get to name them!\n"
      ],
      "execution_count": null,
      "outputs": []
    },
    {
      "cell_type": "markdown",
      "metadata": {
        "id": "xs5vXMr_HHCC"
      },
      "source": [
        "## 16."
      ]
    },
    {
      "cell_type": "code",
      "metadata": {
        "id": "vZJd1wf9HT_y"
      },
      "source": [
        "# Tell us about Bob!\n",
        "# Print each piece of Bob's information from the dictionary.\n"
      ],
      "execution_count": null,
      "outputs": []
    },
    {
      "cell_type": "markdown",
      "metadata": {
        "id": "AZbLaR9SJEoL"
      },
      "source": [
        "# Functions"
      ]
    },
    {
      "cell_type": "code",
      "metadata": {
        "id": "XSbJEwGCJHGO"
      },
      "source": [
        "# Run this cell!\n",
        "# Use this dictionary for the questions in this section.\n",
        "sw = {\n",
        "    'vader': 'sith',\n",
        "    'luke': 'jedi',\n",
        "    'yoda': 'jedi',\n",
        "    'obi-wan': 'jedi',\n",
        "    'qui-gon': 'jedi',\n",
        "    'palaptine': 'sith',\n",
        "    'binks': 'sith'\n",
        "}"
      ],
      "execution_count": null,
      "outputs": []
    },
    {
      "cell_type": "markdown",
      "metadata": {
        "id": "qjlEtteMHHGS"
      },
      "source": [
        "## 17."
      ]
    },
    {
      "cell_type": "code",
      "metadata": {
        "id": "HMPXXRVrHUsM"
      },
      "source": [
        "# Create a function that receives the above dictionary\n",
        "# as an argument, and separates the sith from the jedi\n"
      ],
      "execution_count": null,
      "outputs": []
    },
    {
      "cell_type": "markdown",
      "metadata": {
        "id": "dEGLImd7HHKk"
      },
      "source": [
        "## 18."
      ]
    },
    {
      "cell_type": "code",
      "metadata": {
        "id": "6ZthwoFYHVPp"
      },
      "source": [
        "# Create a function that uses the result from the last question and\n",
        "# prints \"sith win\" or \"jedi win\" based on which side has more people.\n"
      ],
      "execution_count": null,
      "outputs": []
    },
    {
      "cell_type": "markdown",
      "metadata": {
        "id": "Z08-EdlQKY5M"
      },
      "source": [
        "# Regular Expressions"
      ]
    },
    {
      "cell_type": "markdown",
      "metadata": {
        "id": "UoP-nqJ4HHOg"
      },
      "source": [
        "## 19."
      ]
    },
    {
      "cell_type": "code",
      "metadata": {
        "id": "i93hmKQfHVyI"
      },
      "source": [
        "# Use regular expressions to print all team names along with their\n",
        "# scores from the string defined below.\n",
        "s = \"The teams and scores for last season are: Bears: 13, Giants: 21\"\n"
      ],
      "execution_count": null,
      "outputs": []
    },
    {
      "cell_type": "markdown",
      "metadata": {
        "id": "gQTRwduAKayP"
      },
      "source": [
        "# Debugging"
      ]
    },
    {
      "cell_type": "markdown",
      "metadata": {
        "id": "L3TSv3L3HHYG"
      },
      "source": [
        "## 20."
      ]
    },
    {
      "cell_type": "code",
      "metadata": {
        "id": "0wH506LyHO-6"
      },
      "source": [
        "# Fix the bugs in the following code so that it only prints once.\n",
        "total = sum(3, 5, 12, 9)\n",
        "if total < 30:\n",
        "    print 'That's not enough: ' + total\n",
        "if totul > 30:\n",
        "    print('That's too much: ' + total)\n",
        "else:\n",
        "    print('That's perfect: ' + total)\n"
      ],
      "execution_count": null,
      "outputs": []
    }
  ]
}
