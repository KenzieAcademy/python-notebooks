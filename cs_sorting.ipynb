{
  "nbformat": 4,
  "nbformat_minor": 0,
  "metadata": {
    "colab": {
      "name": "Algorithms - Sorting",
      "provenance": [],
      "collapsed_sections": [
        "lt1ucglhqHMT",
        "bgvcZIkFp-Y-",
        "aVa9VrGcqmRF"
      ]
    },
    "kernelspec": {
      "name": "python3",
      "display_name": "Python 3"
    }
  },
  "cells": [
    {
      "cell_type": "markdown",
      "metadata": {
        "id": "zK1Y0Fg0jsT3"
      },
      "source": [
        "<table border=\"0\" align=\"left\" width=\"700\" height=\"144\">\n",
        "<tbody>\n",
        "<tr>\n",
        "<td width=\"120\"><img width=\"100\" src=\"https://static1.squarespace.com/static/5992c2c7a803bb8283297efe/t/59c803110abd04d34ca9a1f0/1530629279239/\" /></td>\n",
        "<td style=\"width: 600px; height: 67px;\">\n",
        "<h2 style=\"text-align: left;\">Algorithms: Sorting</h2>\n",
        "<p><em>with excerpts from Grokking Algorithms, by Aditya Y. Bhargava</em>\n",
        "<p><a href=\"https://colab.research.google.com/github/KenzieAcademy/python-notebooks/blob/master/demo_sorting.ipynb\"> <img src=\"https://colab.research.google.com/assets/colab-badge.svg\" alt=\"Open In Colab\" align=\"left\" width=\"188\" height=\"32\" /> </a></p>\n",
        "</td>\n",
        "</tr>\n",
        "</tbody>\n",
        "</table>"
      ]
    },
    {
      "cell_type": "markdown",
      "metadata": {
        "id": "ehB8JsS6kwVQ"
      },
      "source": [
        "# Exercise: Sort the following list from smallest to largest\n",
        "Imagine that each `x` in the following list hides a number. How would you sort the items in this list from smallest to largest?\n",
        "\n",
        "To make this fair to all the computers out there, since a computer can only see one item of a list at a time, only one new `x` should be revealed at a time!\n",
        "\n",
        "> # [x, x, x, x, x, x, x, x]"
      ]
    },
    {
      "cell_type": "markdown",
      "metadata": {
        "id": "lt1ucglhqHMT"
      },
      "source": [
        "# Selection Sort"
      ]
    },
    {
      "cell_type": "markdown",
      "metadata": {
        "id": "gFMp0YsudLdX"
      },
      "source": [
        "Maybe you chose to look at each item in the entire list to find the smallest one, and then you put that item into a new list, repeating this process until you made it to the end of the list. If you did, you stumbled upon an already well-known algorithm called **selection sort**!\n",
        "\n",
        "With **selection sort**, each item is examined from the beginning of the list to the end, with the smallest item identified along the way. Then, that item is swapped with whatever is in the lowest unsorted position. This process is repeated until everything is sorted.\n",
        "\n",
        "Many sorting algorithms are actually performed in place, without taking up additional space in memory. For selection sort, the key to this is swapping the item from which you started with what was found to be the smallest item each time through the list.\n",
        "\n",
        "A visual example might make this more clear.\n",
        "\n",
        "```\n",
        "[3, 7, 2, 9, 4, 1]\n",
        " ^i             ^smallest\n",
        " ^--------------^\n",
        "  swap\n",
        "---------------------------\n",
        "[1, 7, 2, 9, 4, 3]\n",
        "    ^i ^smallest\n",
        "    ^--^\n",
        "     swap\n",
        "---------------------------\n",
        "[1, 2, 7, 9, 4, 3]\n",
        "       ^i       ^smallest\n",
        "       ^--------^\n",
        "        swap\n",
        "---------------------------\n",
        "[1, 2, 3, 9, 4, 7]\n",
        "          ^i ^smallest\n",
        "          ^--^\n",
        "           swap\n",
        "---------------------------\n",
        "[1, 2, 3, 4, 9, 7]\n",
        "             ^i ^smallest\n",
        "             ^--^\n",
        "              swap\n",
        "---------------------------\n",
        "[1, 2, 3, 4, 7, 9]\n",
        "                ^i/smallest\n",
        "```\n",
        "\n",
        "In the above example, everything to the left of `i` can be considered sorted each time through the list &mdash; that is, `i` marks the lowest unsorted item.\n",
        "\n",
        "You might notice that a few things end up happening during this algorithm:\n",
        "* The smaller items get pushed to the left each step of the way.\n",
        "* Some items are wastefully moved into unsorted positions.\n",
        "  * During the first iteration above, the 3 is pushed all the way to the end of the list so that the 1 can fit in its place. The 3 clearly does not belong at the end of the list, but the algorithm only knows that the 1 belongs where the 3 is, so the exchange happens."
      ]
    },
    {
      "cell_type": "markdown",
      "metadata": {
        "id": "FT9K01DkMDI-"
      },
      "source": [
        "Selection sort can be pseudo-coded as follows:\n",
        "1. For `i` from 0 to `n-1`\n",
        "  1. Find the smallest item between `i` and the last item\n",
        "  1. Swap the smallest item with the item at `i`"
      ]
    },
    {
      "cell_type": "code",
      "metadata": {
        "id": "d3IU2qm49kKo"
      },
      "source": [
        "# Selection sort\n",
        "nums = [3, 7, 2, 9, 4, 1]\n",
        "\n",
        "def selection_sort(list_):\n",
        "  for i in range(len(list_)):\n",
        "    smallest = i  # keep track of the smallest item\n",
        "    for j in range(i, len(list_)):\n",
        "      if list_[j] < list_[smallest]:\n",
        "        # found an item smaller than the current smallest\n",
        "        smallest = j\n",
        "    # swap the smallest item with the first unsorted item\n",
        "    list_[i], list_[smallest] = list_[smallest], list_[i]\n",
        "\n",
        "\n",
        "selection_sort(nums)\n",
        "print(nums)"
      ],
      "execution_count": null,
      "outputs": []
    },
    {
      "cell_type": "markdown",
      "metadata": {
        "id": "C7NDWxkNHBL1"
      },
      "source": [
        "### Big O &mdash; Selection Sort"
      ]
    },
    {
      "cell_type": "markdown",
      "metadata": {
        "id": "gXoksEr1HIOQ"
      },
      "source": [
        "#### **O(n^2)**\n",
        "In the worst case, each item in the list has to be examined in order to find the smallest item. This would represent **O(n)** time, or *linear time*.\n",
        "\n",
        "However, that also must be done *n* times, once for each item in the list, making the time cost of a selection sort **O(n x n)**, normally expressed as **O(n^2)**.\n",
        "\n",
        "#### **Ω(n^2)**\n",
        "Best case scenarios can be notated using the omega symbol (*Ω*).\n",
        "\n",
        "In the *best case scenario* of an already sorted list, selection sort will still perform at *n^2*, signified with **Ω(n^2)**."
      ]
    },
    {
      "cell_type": "markdown",
      "metadata": {
        "id": "bgvcZIkFp-Y-"
      },
      "source": [
        "# Insertion Sort"
      ]
    },
    {
      "cell_type": "markdown",
      "metadata": {
        "id": "F6AYbedHPHiT"
      },
      "source": [
        "**Insertion sort** works by shifting items out of the way to make room for the next sorted item.\n",
        "\n",
        "The first item is considered sorted by default. Then, the items are looked at one by one, with each item to the left of the current item being compared to the current item and shifted right if it is greater.\n"
      ]
    },
    {
      "cell_type": "markdown",
      "metadata": {
        "id": "4UsvIBokpTXe"
      },
      "source": [
        "Here is what the pseudo code for an insertion sort looks like.\n",
        "1. Call the first item of the list \"sorted\"\n",
        "1. Repeat until all items are sorted\n",
        "  1. Insert the next unsorted item into the \"sorted\" portion of the list by shifting the requisite number of elements."
      ]
    },
    {
      "cell_type": "code",
      "metadata": {
        "id": "4FeouI-vRUEH"
      },
      "source": [
        "# Insertion sort\n",
        "nums = [3, 7, 2, 9, 4, 1]\n",
        "[1, 2, 3, 4]\n",
        "def insertion_sort(list_):\n",
        "  for i in range(1, len(list_)):  # skip the first item\n",
        "    current = list_[i]\n",
        "    j = i - 1\n",
        "    while j >= 0 and list_[j] > current:\n",
        "        # shift this item to the right\n",
        "        list_[j+1] = list_[j]\n",
        "        j -= 1\n",
        "    list_[j+1] = current  # insert the item\n",
        "\n",
        "insertion_sort(nums)\n",
        "print(nums)"
      ],
      "execution_count": null,
      "outputs": []
    },
    {
      "cell_type": "markdown",
      "metadata": {
        "id": "YIpdozt3RUV3"
      },
      "source": [
        "### Big O &mdash; Insertion Sort"
      ]
    },
    {
      "cell_type": "markdown",
      "metadata": {
        "id": "2UUn_DgMRY9A"
      },
      "source": [
        "#### **O(n^2)**\n",
        "In the worst case, the list is in reverse order entirely, so each of the `n` items must be shifted `n` positions to make each insertion.\n",
        "\n",
        "#### **Ω(n)**\n",
        "In the best case, the list is already perfectly sorted, so the line between \"unsorted\" and \"sorted\" keeps moving for each item that is examined."
      ]
    },
    {
      "cell_type": "markdown",
      "metadata": {
        "id": "Fyjp9OvYqk6Q"
      },
      "source": [
        "# Bubble Sort"
      ]
    },
    {
      "cell_type": "markdown",
      "metadata": {
        "id": "y1t3L_HbtsXa"
      },
      "source": [
        "**Bubble sort** looks at each item, and, if the item after it is smaller, the two items are swapped. Larger items make their way to the right and smaller items make their way to the left little by little with each iteration. The larger items accumulate at the end of the list."
      ]
    },
    {
      "cell_type": "markdown",
      "metadata": {
        "id": "QoqnSpstuXl-"
      },
      "source": [
        "Here is what the pseudo code for bubble sort might look like.\n",
        "1. Repeat `n-1` times\n",
        "  * For `i` from 0 to `n-2`\n",
        "    * If the item at `i` and `i+1` are out of order, swap them"
      ]
    },
    {
      "cell_type": "code",
      "metadata": {
        "id": "Pih1MCNFusAj"
      },
      "source": [
        "# Bubble sort -- unoptimized, Ω(n^2)\n",
        "nums = [3, 7, 2, 9, 4, 1]\n",
        "\n",
        "def bubble_sort(list_):\n",
        "  for i in range(len(list_)):\n",
        "    print(f\"Pass {i+1}\")\n",
        "    for j in range(len(list_)-1):\n",
        "      if list_[j] > list_[j+1]:\n",
        "        list_[j], list_[j+1] = list_[j+1], list_[j]\n",
        "\n",
        "bubble_sort(nums)\n",
        "print(nums)"
      ],
      "execution_count": null,
      "outputs": []
    },
    {
      "cell_type": "code",
      "metadata": {
        "id": "49F2Md89my31"
      },
      "source": [
        "# Bubble sort -- optimized, Ω(n)\n",
        "nums = [3, 7, 2, 9, 4, 1]\n",
        "# nums = [1, 2, 3, 4, 7, 9]  # uncomment this sorted list to see the optimization\n",
        "\n",
        "def bubble_sort(list_):\n",
        "  swaps = -1\n",
        "  for i in range(len(list_)):\n",
        "    if swaps == 0:\n",
        "      break\n",
        "    swaps = 0\n",
        "    print(f\"Pass {i+1}\")\n",
        "    for j in range(len(list_)-1):\n",
        "      if list_[j] > list_[j+1]:\n",
        "        list_[j], list_[j+1] = list_[j+1], list_[j]\n",
        "        swaps += 1\n",
        "\n",
        "bubble_sort(nums)\n",
        "print(nums)"
      ],
      "execution_count": null,
      "outputs": []
    },
    {
      "cell_type": "markdown",
      "metadata": {
        "id": "8mxu6B5-28Xg"
      },
      "source": [
        "### Big O &mdash; Bubble Sort"
      ]
    },
    {
      "cell_type": "markdown",
      "metadata": {
        "id": "vl9x59s51NjD"
      },
      "source": [
        "#### **O(n^2)**\n",
        "In the worst case, the list is in reverse order, so each of the `n` items must be swapped `n` times.\n",
        "\n",
        "#### **Ω(n)**\n",
        "In the best case, bubble sort can be optimized to \"repeat until no swaps take place\". The algorithm could be made to short circuit, exiting on the first iteration through the list where no item swapping happened. This would indicate that any further iterations will prove useless. For an already-sorted list, a single pass would trigger this short circuiting behavior, making it a linear time cost operation."
      ]
    },
    {
      "cell_type": "markdown",
      "metadata": {
        "id": "aVa9VrGcqmRF"
      },
      "source": [
        "# Quicksort"
      ]
    },
    {
      "cell_type": "markdown",
      "metadata": {
        "id": "IjxSdxG2spTl"
      },
      "source": [
        "**Quicksort** is a much faster sorting algorithm than the ones above. Before we dive into the details of it, let's take a look at the strategy behind it."
      ]
    },
    {
      "cell_type": "markdown",
      "metadata": {
        "id": "lv9LJQpMsqL1"
      },
      "source": [
        "### Divide and Conquer"
      ]
    },
    {
      "cell_type": "markdown",
      "metadata": {
        "id": "Qs9Wc0CDcLPH"
      },
      "source": [
        "Quicksort uses a technique called **divide and conquer**, which is a recursive technique for solving problems. Divide and conquer is not a simple algorithm that you can apply to a problem. Instead, it is a way to think about a problem.\n",
        "\n",
        "You're given a list of numbers.\n",
        "\n",
        "```python\n",
        "[2, 4, 6]\n",
        "```\n",
        "\n",
        "You have to add up all the numbers and return the total. It's pretty easy to do this with a loop."
      ]
    },
    {
      "cell_type": "code",
      "metadata": {
        "id": "AongY9YtQqz0"
      },
      "source": [
        "# iterative sum function\n",
        "def get_sum(list_):\n",
        "    total = 0\n",
        "    for x in list_:\n",
        "        total += x\n",
        "    return total\n",
        "\n",
        "get_sum([2, 4, 6])"
      ],
      "execution_count": null,
      "outputs": []
    },
    {
      "cell_type": "markdown",
      "metadata": {
        "id": "YAuIeqM_Q5nq"
      },
      "source": [
        "But, how would you do this with a recursive function?\n",
        "\n",
        "1. Figure out the base case.\n",
        "  * What's the simplest list you could get? A list with 0 or 1 items is pretty easy to sum. Let's use an empty list as the base case.\n",
        "2. You need to move closer to an empty list with every recursive call.\n",
        "  * How do you reduce your problem size? The following two approaches are the same, but in the second version, you're passing a smaller list into the `sum()` function. That is, you *decrease the size of your problem*.\n",
        "    * sum([2, 4, 6]) = 12\n",
        "    * 2 + sum([4, 6]) = 2 + 10 = 12\n",
        "\n",
        "Now, our `sum()` function could work like this:\n",
        "  1. Get a list.\n",
        "  2. If the list is empty, return zero.\n",
        "  3. Otherwise, the total sum is the first item in the list plus the sum of the rest of the list.\n",
        "\n",
        "This ends up looking like this:\n",
        "* sum([2, 4, 6])\n",
        "* 2 + sum([4, 6])\n",
        "* 4 + sum([6])\n",
        "* 6 + sum(`[ ]`)\n",
        "* `[ ]`  # base case!"
      ]
    },
    {
      "cell_type": "code",
      "metadata": {
        "id": "ptpLYW-Dn22O"
      },
      "source": [
        "# recursive sum function\n",
        "def r_sum(list_):\n",
        "  if not list_:\n",
        "    # base case -- list is empty\n",
        "    return 0\n",
        "  # recursive case -- remove the first number and\n",
        "  # add it to the sum of the rest of the numbers\n",
        "  return list_.pop() + r_sum(list_)\n",
        "\n",
        "r_sum([2, 4, 6])"
      ],
      "execution_count": null,
      "outputs": []
    },
    {
      "cell_type": "markdown",
      "metadata": {
        "id": "F6sHs3kJsyDr"
      },
      "source": [
        "### ...Back to Quicksort"
      ]
    },
    {
      "cell_type": "markdown",
      "metadata": {
        "id": "fmhR2hSacfNH"
      },
      "source": [
        "What's the simplest list that can make use of a sorting algorithm? Well, some lists don't need to be sorted at all (e.g., `[]`, `[20]`).\n",
        "\n",
        "Empty lists and lists with just one element will be the base case. You can just return those lists as is &mdash; there's nothing to sort.\n",
        "\n",
        "Let's use the following list as an example:\n",
        "* `[33, 15, 10]`\n",
        "\n",
        "Now, remember you're using Divide and Conquer, so you want to break down this list until you arrive at the base case.\n",
        "\n",
        "Here's how **quicksort** works.\n",
        "1. Pick an element from the list &mdash; this is called the *pivot*.\n",
        "  * Let's use the first element of the list, `33`, as the pivot.\n",
        "2. Find the elements smaller than the pivot and the elements larger than the pivot &mdash; this is called partitioning.\n",
        "  * smaller than pivot: `[15, 10]`\n",
        "  * pivot: `33`\n",
        "  * greater than pivot: `[]`\n",
        "\n",
        "At this point, the two sub-lists, \"smaller than\" and \"greater than\", are not sorted. They're just partitioned. But if, by chance, they *were* sorted, then sorting the whole list would be pretty easy:\n",
        "\n",
        "```python\n",
        "# \"smaller than\" list already sorted\n",
        "[10, 15] + [pivot] + []\n",
        "```\n",
        "\n",
        "So, how do you sort the sub-lists? Well, the quicksort base case already knows how to sort lists of two elements (the left sub-list) and empty lists (the right sub-list), so if you call quicksort on the two sub-lists and then combine the results you get a sorted list!\n",
        "\n",
        "```python\n",
        "quicksort([15, 10]) + [33] + quicksort([])\n",
        "[10, 15, 33]\n",
        "```\n"
      ]
    },
    {
      "cell_type": "code",
      "metadata": {
        "id": "ydZed7KXjqPQ"
      },
      "source": [
        "# quicksort function\n",
        "def quicksort(list_):\n",
        "  if len(list_) < 2:\n",
        "    # base case: lists with 0 or 1 element are already \"sorted\"\n",
        "    return list_\n",
        "  else:\n",
        "    # recursive case\n",
        "    pivot = list_[0]\n",
        "    less = [i for i in list_[1:] if i <= pivot]  # sub-list of all elements less than the pivot\n",
        "    greater = [i for i in list_[1:] if i > pivot]  # sub-list of all elements greater than the pivot\n",
        "    return quicksort(less) + [pivot] + quicksort(greater)"
      ],
      "execution_count": null,
      "outputs": []
    },
    {
      "cell_type": "code",
      "metadata": {
        "id": "OmePPap0kQWE"
      },
      "source": [
        "print(quicksort([33, 15, 10]))"
      ],
      "execution_count": null,
      "outputs": []
    },
    {
      "cell_type": "markdown",
      "metadata": {
        "id": "S48NELIv4FkR"
      },
      "source": [
        ""
      ]
    },
    {
      "cell_type": "markdown",
      "metadata": {
        "id": "IjL3PT1q4FuT"
      },
      "source": [
        "### Big O &mdash; Quicksort"
      ]
    },
    {
      "cell_type": "markdown",
      "metadata": {
        "id": "gTVVtrdMqX-m"
      },
      "source": [
        "#### **O(n log n)**\n",
        "With quicksort, the best case for time cost is also the average case! If you choose a random element from a list as the pivot, quicksort will complete in **O(*n* log *n*)** time on average.\n",
        "\n",
        "Quicksort is one of the fastest sorting algorithms!"
      ]
    },
    {
      "cell_type": "markdown",
      "metadata": {
        "id": "Il-roa_vRu5z"
      },
      "source": [
        "# Summary"
      ]
    },
    {
      "cell_type": "markdown",
      "metadata": {
        "id": "sqGILsY3Rw7R"
      },
      "source": [
        "| |**O**|**Ω**|\n",
        "|-|-|-|\n",
        "|Selection Sort|O(n^2)|Ω(n^2)|\n",
        "|Insertion Sort|O(n^2)|Ω(n)|\n",
        "|Bubble Sort   |O(n^2)|Ω(n)|\n",
        "|Quicksort     |O(n^2)|Ω(n log n)|\n"
      ]
    }
  ]
}