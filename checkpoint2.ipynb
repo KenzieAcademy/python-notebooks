{
  "nbformat": 4,
  "nbformat_minor": 0,
  "metadata": {
    "colab": {
      "name": "checkpoint2jan11.ipynb",
      "provenance": [],
      "collapsed_sections": []
    },
    "kernelspec": {
      "name": "python3",
      "display_name": "Python 3"
    }
  },
  "cells": [
    {
      "cell_type": "markdown",
      "metadata": {
        "id": "wZu0CJ054mZk"
      },
      "source": [
        "<table align=left width=\"590\" height=\"144\" style=\"height: 67px; width: 565px;\">\n",
        "<tbody>\n",
        "<tr>\n",
        "<td width=82><img alt=\"revA\" src=\"https://static1.squarespace.com/static/5992c2c7a803bb8283297efe/t/59c803110abd04d34ca9a1f0/1530629279239/\" /></td>\n",
        "<td style=\"width: 422px; height: 67px;\">\n",
        "<h1 style=\"text-align: left;\">Python Foundations</h1>\n",
        "<h2 style=\"text-align: left;\">Checkpoint 2</h2>\n",
        "</td>\n",
        "</tr>\n",
        "</tbody>\n",
        "</table>"
      ]
    },
    {
      "cell_type": "code",
      "metadata": {
        "id": "5LeUhxORcYZ5"
      },
      "source": [
        "from datetime import datetime as dt\n",
        "\n",
        "# Fill in the __author__ string with your name and run this cell.\n",
        "__author__ = \"???\"\n",
        "start_time = dt.utcnow()\n",
        "print(f\"Author: {__author__}\")\n",
        "print(f\"Start Time: {start_time} UTC\")"
      ],
      "execution_count": null,
      "outputs": []
    },
    {
      "cell_type": "markdown",
      "metadata": {
        "id": "IXG7MKDc53km"
      },
      "source": [
        "## 1."
      ]
    },
    {
      "cell_type": "code",
      "metadata": {
        "id": "MpQKIxJP54JM"
      },
      "source": [
        "# Create and print a list of only the numbers at every third index from the \n",
        "# list defined below.\n",
        "nums = [9, 5, 8, 2, 17, 4, 1, 2, 3]\n",
        "\n",
        "# Your code here\n"
      ],
      "execution_count": null,
      "outputs": []
    },
    {
      "cell_type": "markdown",
      "metadata": {
        "id": "MUAItsSBE1Qd"
      },
      "source": [
        "### Expected Output:\n",
        "```\n",
        "[9, 2, 1]\n",
        "```"
      ]
    },
    {
      "cell_type": "markdown",
      "metadata": {
        "id": "59J8hgqI5k2B"
      },
      "source": [
        "## 2."
      ]
    },
    {
      "cell_type": "code",
      "metadata": {
        "id": "LqPRxMWF5lcQ"
      },
      "source": [
        "# Define a function called letter_count which takes in a string\n",
        "# and returns a dictionary.\n",
        "# This dictionary's keys should be the characters from the given string.\n",
        "# Each key's value should be the number of times that the character appears\n",
        "# in the string.\n",
        "\n",
        "# Your code here\n",
        "\n",
        "print(letter_count(\"Some string to count\"))\n"
      ],
      "execution_count": null,
      "outputs": []
    },
    {
      "cell_type": "markdown",
      "metadata": {
        "id": "dFaY-kKEDxeb"
      },
      "source": [
        "### Expected Output:\n",
        "```\n",
        "{'S': 1, 'o': 3, 'm': 1, 'e': 1, ' ': 3, 's': 1, 't': 3, 'r': 1, 'i': 1, 'n': 2, 'g': 1, 'c': 1, 'u': 1}\n",
        "```"
      ]
    },
    {
      "cell_type": "markdown",
      "metadata": {
        "id": "3-neUMOLHBqJ"
      },
      "source": [
        "## 3."
      ]
    },
    {
      "cell_type": "code",
      "metadata": {
        "id": "Mth4qc3BHCpi"
      },
      "source": [
        "# Print each index and word from the list defined below. However, if the index \n",
        "# is odd, print the word without vowels.\n",
        "words = ['What', 'goes', 'Up', 'must', 'come', 'down', 'Almost', 'Every', 'time']\n",
        "\n",
        "# Your code here\n"
      ],
      "execution_count": null,
      "outputs": []
    },
    {
      "cell_type": "markdown",
      "metadata": {
        "id": "0qNFDpWOIwej"
      },
      "source": [
        "### Expected Output:\n",
        "```\n",
        "0 What\n",
        "1 gs\n",
        "2 Up\n",
        "3 mst\n",
        "4 come\n",
        "5 dwn\n",
        "6 Almost\n",
        "7 vry\n",
        "8 time\n",
        "```"
      ]
    },
    {
      "cell_type": "markdown",
      "metadata": {
        "id": "q0-aRyPRiw2g"
      },
      "source": [
        "## 4."
      ]
    },
    {
      "cell_type": "code",
      "metadata": {
        "id": "SYypTvhNiw2v"
      },
      "source": [
        "# Sort the pet_list by the weight of each pet and then print the sorted list.\n",
        "\n",
        "pet_list = [{\"type\":\"dog\", \"weight\": 20, \"height\": 2}, \n",
        "            {\"type\":\"cat\", \"weight\": 7, \"height\": 12}, \n",
        "            {\"type\":\"hamster\", \"weight\": 0.1, \"height\": 22},\n",
        "            {\"type\":\"platypus\", \"weight\": 330, \"height\": 0.5}]\n",
        "\n",
        "# Your code here\n"
      ],
      "execution_count": null,
      "outputs": []
    },
    {
      "cell_type": "markdown",
      "metadata": {
        "id": "fPH_0aBbiw2w"
      },
      "source": [
        "### Expected Output:\n",
        "```\n",
        "[{'type': 'hamster', 'weight': 0.1, 'height': 22}, {'type': 'cat', 'weight': 7, 'height': 12}, {'type': 'dog', 'weight': 20, 'height': 2}, {'type': 'platypus', 'weight': 330, 'height': 0.5}]\n",
        "```"
      ]
    },
    {
      "cell_type": "markdown",
      "metadata": {
        "id": "iNYcXAIhGMaA"
      },
      "source": [
        "## 5."
      ]
    },
    {
      "cell_type": "code",
      "metadata": {
        "id": "vJ5T_RQ3GL14"
      },
      "source": [
        "# Get 15 items from the following Trivia API and print each item's question.\n",
        "# API base URL: https://opentdb.com/api.php \n",
        "# API Documentation: https://opentdb.com/api_config.php \n",
        "\n",
        "import requests\n",
        "\n",
        "# Your code here\n"
      ],
      "execution_count": null,
      "outputs": []
    },
    {
      "cell_type": "markdown",
      "metadata": {
        "id": "rV8E4x8wINbE"
      },
      "source": [
        "\n",
        "### Example Output (Your output may differ, questions are randomized):\n",
        "```\n",
        "An octopus can fit through any hole larger than its beak.\n",
        "The M41 Walker Bulldog remains in service in some countries to this day.\n",
        "What is the name of one of the Neo-Aramaic languages spoken by the Jewish population from Northwestern Iraq?\n",
        "According to scholarly estimates, what percentage of the world population at the time died due to Tamerlane&#039;s conquests?\n",
        "The &#039;Squaring the Circle&#039; problem is solvable.\n",
        "Niko Bellic is the protagonist of Grand Theft Auto IV.\n",
        "What does the acronym CDN stand for in terms of networking?\n",
        "How long was the World Record Speed Run of Valve Software&#039;s &quot;Half-Life&quot; that was done in 2014.\n",
        "Who is the leader of Team Mystic in Pok&eacute;mon Go?\n",
        "In Touhou: Embodiment of Scarlet Devil, what song plays during Flandre Scarlet&#039;s boss fight?\n",
        ".rs is the top-level domain for what country?\n",
        "Which of the stands from &quot;JoJo&#039;s Bizarre Adventure&quot; mimics the likeness of a tomato?\n",
        "In &quot;Little Women&quot;, which of the March sisters married Laurie?\n",
        "What machine element is located in the center of fidget spinners?\n",
        "Nutcracker Suite was one of the musical pieces featured in Disney&#039;s 1940&#039;s film Fantasia.\n",
        "```"
      ]
    },
    {
      "cell_type": "markdown",
      "metadata": {
        "id": "zU4MRR2be9tw"
      },
      "source": [
        "## 6."
      ]
    },
    {
      "cell_type": "code",
      "metadata": {
        "id": "7h0ZgD70e9t3"
      },
      "source": [
        "# Now, from the same API (https://opentdb.com/api_config.php), get 15 questions \n",
        "# from the category \"Science: Computers\". For each item that has a difficulty\n",
        "# equal to 'medium', write the question and answer to the given filename.\n",
        "\n",
        "import requests\n",
        "\n",
        "filename = \"results.txt\"\n",
        "\n",
        "# Your code here\n",
        "\n",
        "with open(filename) as f:\n",
        "  for line in f:\n",
        "    print(line, end='')\n"
      ],
      "execution_count": null,
      "outputs": []
    },
    {
      "cell_type": "markdown",
      "metadata": {
        "id": "TA3JCnace9t4"
      },
      "source": [
        "\n",
        "### Example Output:\n",
        "```\n",
        "The common software-programming acronym &quot;I18N&quot; comes from the term &quot;Interlocalization&quot;.\n",
        "False\n",
        "All of the following programs are classified as raster graphics editors EXCEPT:\n",
        "Inkscape\n",
        "&quot;Windows NT&quot; is a monolithic kernel.\n",
        "False\n",
        "Which of these is the name for the failed key escrow device introduced by the National Security Agency in 1993?\n",
        "Clipper Chip\n",
        "AMD created the first consumer 64-bit processor.\n",
        "True\n",
        "In programming, the ternary operator is mostly defined with what symbol(s)?\n",
        "?:\n",
        "Early RAM was directly seated onto the motherboard and could not be easily removed.\n",
        "True\n",
        "Which of these people was NOT a founder of Apple Inc?\n",
        "Jonathan Ive\n",
        "```"
      ]
    },
    {
      "cell_type": "markdown",
      "metadata": {
        "id": "C3MxnK4BWOjp"
      },
      "source": [
        "# Please run the final cell below to conclude."
      ]
    },
    {
      "cell_type": "code",
      "metadata": {
        "id": "zuSg-c4WWVuZ"
      },
      "source": [
        "# Wrapping up\n",
        "end_time = dt.utcnow()\n",
        "print(f\"End Time: {end_time} UTC\")\n",
        "print(f\"Duration: {end_time - start_time}\")"
      ],
      "execution_count": null,
      "outputs": []
    },
    {
      "cell_type": "markdown",
      "metadata": {
        "id": "ebGc7MyNXloO"
      },
      "source": [
        "# The End\n",
        "Now, use the **File** menu above and select **Download .ipynb**. Save the file to your computer and submit it for the **Checkpoint #2** assessment."
      ]
    }
  ]
}