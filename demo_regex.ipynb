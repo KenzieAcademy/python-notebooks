{
  "nbformat": 4,
  "nbformat_minor": 0,
  "metadata": {
    "colab": {
      "name": "Regular Expressions and the re Module",
      "provenance": [],
      "collapsed_sections": []
    },
    "kernelspec": {
      "name": "python3",
      "display_name": "Python 3"
    }
  },
  "cells": [
    {
      "cell_type": "markdown",
      "metadata": {
        "id": "DSdNzrl4VqXo",
        "colab_type": "text"
      },
      "source": [
        "<table align=left width=\"590\" height=\"144\" style=\"height: 67px; width: 565px;\">\n",
        "<tbody>\n",
        "<tr>\n",
        "<td width=82><img src=\"https://static1.squarespace.com/static/5992c2c7a803bb8283297efe/t/59c803110abd04d34ca9a1f0/1530629279239/\" /></td>\n",
        "<td style=\"width: 422px; height: 67px;\">\n",
        "<h1 style=\"text-align: left;\">Regular Expressions and the <strong>re</strong> module</h1>\n",
        "<p><a href=\"https://colab.research.google.com/github/KenzieAcademy/python-notebooks/blob/master/demo_regex.ipynb\"> <img src=\"https://colab.research.google.com/assets/colab-badge.svg\" alt=\"Open In Colab\" align=\"left\" width=\"188\" height=\"32\" /> </a></p>\n",
        "</td>\n",
        "</tr>\n",
        "</tbody>\n",
        "</table>"
      ]
    },
    {
      "cell_type": "markdown",
      "metadata": {
        "id": "qVFyRZQRYrMX",
        "colab_type": "text"
      },
      "source": [
        "Regular expressions are essentially a tiny, highly specialized programming language used to match text patterns. They are made available in Python through the `re` module.\n",
        "\n",
        "**Note**: The term “regular expression” is often referred to as “regex”.\n",
        "\n",
        "The power of regular expressions is that they can specify dynamic patterns, not just fixed characters.\n",
        "\n",
        "Some characters &mdash; like `a`, `X`, `9` &mdash; are just regular characters that match themselves.\n",
        "\n",
        "Others &mdash; such as `.`, `^`, `$`, `\\w`, `\\s` &mdash; are meta characters that have special meanings.\n",
        "\n",
        "* `.` - matches any single character except a newline (`\\n`)\n",
        "* `\\s` - matches any single whitespace character\n",
        "* `\\d` - matches a decimal digit\n",
        "\n",
        "Then, there are modifiers to specify repitition of characters\n",
        "* `+` - 1 or more occurrences of the pattern to its left\n",
        "* `*` - 0 or more occurrences of the pattern to its left\n",
        "* `?` - 0 or 1 occurrences of the pattern to its left\n",
        "\n",
        "So an expression using some of these meta-characters might look like:\n",
        "* `'\\d\\d.\\d+'` - this will match 2 digits, followed by any single non-newline character, followed by 1 or more digits\n",
        "\n",
        "Square brackets and parentheses also allow you to group characters together in powerful ways. You can also specify ranges of characters (`[a-zA-Z]`), ranges of how many of a set of characters to match (`[a-z]{3,5}`), and much much more.\n",
        "* `'[\\w.-]+@[\\w.-]+'` &mdash; this will match the format of an email address\n",
        "* `^[a-z0-9_-]{3,16}$` &mdash; a common pattern for matching usernames\n",
        "* `^(https?:\\/\\/)?([\\da-z\\.-]+)\\.([a-z\\.]{2,6})([\\/\\w \\.-]*)*\\/?$` &mdash; a URL-matching pattern (regex can get pretty crazy)\n",
        "\n",
        "Let's try some of this out in an [online regex parser](https://regex101.com/)!\n"
      ]
    },
    {
      "cell_type": "markdown",
      "metadata": {
        "id": "hKjHkdLyccri",
        "colab_type": "text"
      },
      "source": [
        "### Finding Patterns in Text - `re.match(pattern, string)` and `re.search(pattern, string)`\n",
        "Both of these methods take a regular expression pattern and a string, searching for an instance of that pattern within the string. If the search is successful, a Match object is returned; otherwise `None` is returned.\n",
        "\n",
        "The difference between the two is that `match()` checks for a match only at the beginning of the string, while `search()` checks for a match anywhere in the string. So, if your pattern must appear at the front of the input, then using `match()` instead of `search()` will anchor the search without having to explicitly include an anchor in the search pattern."
      ]
    },
    {
      "cell_type": "code",
      "metadata": {
        "id": "ULy8JGGGxdUV",
        "colab_type": "code",
        "colab": {}
      },
      "source": [
        "# First things first...\n",
        "import re"
      ],
      "execution_count": null,
      "outputs": []
    },
    {
      "cell_type": "code",
      "metadata": {
        "id": "nbxrpT_vbHZQ",
        "colab_type": "code",
        "colab": {}
      },
      "source": [
        "# The pattern can be as simple as normal words...\n",
        "pattern = r\"what\"\n",
        "\n",
        "print(\"re.search() 1\", re.search(pattern, \"I hope I find what I'm looking for!\"))\n",
        "print(\"re.search() 2\", re.search(pattern, \"Nothing to see here...\"))\n",
        "print(\"re.match()\", re.match(pattern, \"what is the meaning of life, the universe, and everything?\"))  # how re.match() behaves\n",
        "print(\"re.match()\", re.match(pattern, \"the meaning of life, the universe, and everything is what?\"))  # how re.match() behaves"
      ],
      "execution_count": null,
      "outputs": []
    },
    {
      "cell_type": "code",
      "metadata": {
        "id": "o93-5ybjXEZt",
        "colab_type": "code",
        "colab": {}
      },
      "source": [
        "# ...but the real power of regex lies in matching patterns of text\n",
        "pattern = r\"[\\w.-]+@[\\w.-]+\"  # email address matching pattern\n",
        "print(re.search(pattern, \"Send emails to my-name@email.com, please.\"))"
      ],
      "execution_count": null,
      "outputs": []
    },
    {
      "cell_type": "markdown",
      "metadata": {
        "id": "Yl9gCCOlMLgv",
        "colab_type": "text"
      },
      "source": [
        "### The Match Object\n",
        "\n",
        "Some of the `re` functions return a Match object that contains information about a match instead of just the matched text itself. You will need to interact with this Match object by use of its methods.\n",
        "\n",
        "#### **`group()`**\n",
        "Returns one or more subgroups of a match."
      ]
    },
    {
      "cell_type": "code",
      "metadata": {
        "id": "J_UtE8dY9Txj",
        "colab_type": "code",
        "colab": {}
      },
      "source": [
        "m = re.match(r\"(\\w+) (\\w+)\", \"Isaac Newton, physicist\")\n",
        "print(m.group(0))  # the entire match\n",
        "print(m.group(1))  # the first group\n",
        "print(m.group(2))  # the second group\n",
        "print(m.group(1, 2))  # a tuple...a group tuple...a...grouple?!"
      ],
      "execution_count": null,
      "outputs": []
    },
    {
      "cell_type": "code",
      "metadata": {
        "id": "PaLQcMJHXBjn",
        "colab_type": "code",
        "colab": {}
      },
      "source": [
        "# We can also access named groups by their names\n",
        "m = re.match(r\"(?P<first_name>\\w+) (?P<last_name>\\w+)\", \"Johnny Mnemonic\")\n",
        "print('first_name from named groups:', m.group('first_name'))  # access named group by name\n",
        "print('last_name from named groups:', m.group(2))  # access named group by index"
      ],
      "execution_count": null,
      "outputs": []
    },
    {
      "cell_type": "markdown",
      "metadata": {
        "id": "SO4_zo2E-7qM",
        "colab_type": "text"
      },
      "source": [
        "#### **`__getitem__()`**\n",
        "Allows easier access to an individual group from a match."
      ]
    },
    {
      "cell_type": "code",
      "metadata": {
        "id": "pd3vIZr3_BbL",
        "colab_type": "code",
        "colab": {}
      },
      "source": [
        "print(f'My name is {m[1]} {m[2]}')"
      ],
      "execution_count": null,
      "outputs": []
    },
    {
      "cell_type": "markdown",
      "metadata": {
        "id": "Mkuu4NQj_B8B",
        "colab_type": "text"
      },
      "source": [
        "#### **`groups(default=None)`**\n",
        "Returns a tuple containing all the subgroups of the match, from 1 up to however many groups are in the pattern. The default argument is used for groups that did not participate in the match; it defaults to None."
      ]
    },
    {
      "cell_type": "code",
      "metadata": {
        "id": "-iBbAt1i_EM7",
        "colab_type": "code",
        "colab": {}
      },
      "source": [
        "# Suppose you're scanning available Python versions and you're only interested\n",
        "# in the major version number and the release stage of the version...\n",
        "available_versions = ['3.6.2', '3.8.2', '3.8.5', '3.9.12-alpha', '3.10.1-dev']\n",
        "for version in available_versions:\n",
        "    m = re.match(r\"(\\d+)\\.(\\d+)\\.(\\d+)-(\\w+)\", version)\n",
        "    if m:\n",
        "        major, *_, stage = m.groups()  # using unpacking to disregard everything we don't care about\n",
        "        print(f\"There is a release of Python version {major} is in the {stage} stage.\")"
      ],
      "execution_count": null,
      "outputs": []
    },
    {
      "cell_type": "markdown",
      "metadata": {
        "id": "H0M5dDAE_Ehl",
        "colab_type": "text"
      },
      "source": [
        "#### **`groupdict(default=None)`**\n",
        "Returns a dictionary containing all the named subgroups of the match, keyed by the subgroup name."
      ]
    },
    {
      "cell_type": "code",
      "metadata": {
        "id": "5y5W-EWO_Gie",
        "colab_type": "code",
        "colab": {}
      },
      "source": [
        "m = re.match(r\"(?P<first_name>\\w+) (?P<last_name>\\w+)\", \"Johnny Mnemonic\")\n",
        "print(m.groupdict())\n",
        "print(m['first_name'])"
      ],
      "execution_count": null,
      "outputs": []
    },
    {
      "cell_type": "markdown",
      "metadata": {
        "id": "jb5qEg_L_G6R",
        "colab_type": "text"
      },
      "source": [
        "#### **`start(group)`**, **`end(group)`**, **`span(group)`**\n",
        "These return the indices corresponding to the start, end, and entire span of the substring matched by group; group defaults to zero (meaning the whole matched substring)."
      ]
    },
    {
      "cell_type": "code",
      "metadata": {
        "id": "d9jPy2fh_IcF",
        "colab_type": "code",
        "colab": {}
      },
      "source": [
        "email = 'johnny95@justaremove_thistest.net'\n",
        "m = re.search(r\"remove_this\", email)\n",
        "print(m)\n",
        "print(email[:m.start()] + email[m.end():])\n",
        "print(m.span(), email[m.span()[0]:m.span()[1]])"
      ],
      "execution_count": null,
      "outputs": []
    },
    {
      "cell_type": "markdown",
      "metadata": {
        "id": "yHfe3oz6rqH-",
        "colab_type": "text"
      },
      "source": [
        "### Find All Occurrences - `re.findall()`\n",
        "The `re.findall()` method returns all of the substrings of the input that match the pattern without overlapping."
      ]
    },
    {
      "cell_type": "code",
      "metadata": {
        "id": "XKGYUdArtzWe",
        "colab_type": "code",
        "colab": {}
      },
      "source": [
        "text = 'ababaaabbbbaaabaa'\n",
        "pattern = r'aba'  # how many instances of \"aba\" will be found in the above string? (hint: non-overlapping)\n",
        "\n",
        "matches = re.findall(pattern, text)\n",
        "print(f\"Found {len(matches)} occurrences of '{pattern}' in '{text}'\")\n",
        "print(matches)"
      ],
      "execution_count": null,
      "outputs": []
    },
    {
      "cell_type": "code",
      "metadata": {
        "id": "AipR1BXQNSZd",
        "colab_type": "code",
        "colab": {}
      },
      "source": [
        "# notice that there is no overlapping\n",
        "chars = '(*a++(*)'\n",
        "pattern = r'(\\(\\*|\\*\\))'\n",
        "matches = re.findall(pattern, chars)\n",
        "print(matches)"
      ],
      "execution_count": null,
      "outputs": []
    },
    {
      "cell_type": "markdown",
      "metadata": {
        "id": "zDcWoKiZsH2f",
        "colab_type": "text"
      },
      "source": [
        "### Splitting on Patterns - `re.split(pattern, string)`\n",
        "Split string by the occurrences of pattern."
      ]
    },
    {
      "cell_type": "code",
      "metadata": {
        "id": "RlhbbNb8thRh",
        "colab_type": "code",
        "colab": {}
      },
      "source": [
        "print(re.split(r'\\W+', 'Words, words, words.'))"
      ],
      "execution_count": null,
      "outputs": []
    },
    {
      "cell_type": "code",
      "metadata": {
        "id": "XRdCB2h0rOco",
        "colab_type": "code",
        "colab": {}
      },
      "source": [
        "# Split a hexadecimal number on its alpha characters\n",
        "print(re.split(r'[a-f]+', '0xa3b9'))"
      ],
      "execution_count": null,
      "outputs": []
    },
    {
      "cell_type": "markdown",
      "metadata": {
        "id": "yNMQ7PHetiSA",
        "colab_type": "text"
      },
      "source": [
        "### Substituting Patterns - `re.sub(pattern, repl, string)`, `re.subn(pattern, repl, string)`\n",
        "`re.sub()` returns the string obtained by replacing the leftmost non-overlapping occurrences of `pattern` in `string` by the replacement `repl`. If the pattern isn’t found, `string` is returned unchanged.\n",
        "\n",
        "`re.subn()` performs the same operation as `sub()`, but returns a tuple `(new_string, number_of_subs_made)`."
      ]
    },
    {
      "cell_type": "code",
      "metadata": {
        "id": "7TCQJzeRtpQ9",
        "colab_type": "code",
        "colab": {}
      },
      "source": [
        "text = \"abc123def456ghi789jkl000\"\n",
        "pattern = r\"[\\d+]\"\n",
        "\n",
        "print(re.sub(pattern, '', text))  # What will this do?"
      ],
      "execution_count": null,
      "outputs": []
    },
    {
      "cell_type": "code",
      "metadata": {
        "id": "7OJiDd6MdS9t",
        "colab_type": "code",
        "colab": {}
      },
      "source": [
        "print(re.subn(pattern, '.', text))  # What will this do?"
      ],
      "execution_count": null,
      "outputs": []
    },
    {
      "cell_type": "markdown",
      "metadata": {
        "id": "gJVycteKr2C8",
        "colab_type": "text"
      },
      "source": [
        "### Compiling Regular Expressions - `re.compile()`\n",
        "The module-level functions allow you to work with regular expressions as text strings, but it is usually more efficient to compile the expressions your program uses frequently. The compile() function converts an expression string into a RegexObject. Methods of the RegexObject can then be used to perform matching and other operations.\n",
        "\n",
        "The sequence<br/>\n",
        "```\n",
        "prog = re.compile(pattern)\n",
        "match = prog.match(string)\n",
        "```\n",
        "is equivalent to<br/>\n",
        "```\n",
        "result = re.match(pattern, string)\n",
        "```"
      ]
    },
    {
      "cell_type": "code",
      "metadata": {
        "id": "qXVlxLCpucfd",
        "colab_type": "code",
        "colab": {}
      },
      "source": [
        "# Compiling a regular expression\n",
        "text = \"abc123def456ghi789jkl000\"\n",
        "pattern = r\"[\\d+]\"\n",
        "compiled = re.compile(pattern)\n",
        "for i in range(10):\n",
        "    print(compiled.sub('', text))"
      ],
      "execution_count": null,
      "outputs": []
    },
    {
      "cell_type": "markdown",
      "metadata": {
        "id": "4w1w2123vM3o",
        "colab_type": "text"
      },
      "source": [
        "**Then why in the world would we do this?**: The module-level (e.g., `re.match()`, `re.search()`, etc.) functions maintain a cache of compiled expressions, but the size of the cache is limited and using compiled expressions directly means you can avoid the cache lookup overhead. By pre-compiling any expressions your module uses when the module is loaded you shift the compilation work to application startup time, instead of a point where the program is potentially responding to a user action."
      ]
    }
  ]
}