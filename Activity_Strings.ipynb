{
  "nbformat": 4,
  "nbformat_minor": 0,
  "metadata": {
    "kernelspec": {
      "name": "python3",
      "display_name": "Python 3"
    },
    "colab": {
      "name": "Activity_Strings_and_Lists.ipynb",
      "provenance": []
    }
  },
  "cells": [
    {
      "cell_type": "markdown",
      "metadata": {
        "id": "X4X1xxL29AsS"
      },
      "source": [
        "<table border=\"0\" align=\"left\" width=\"700\" height=\"144\">\n",
        "<tbody>\n",
        "<tr>\n",
        "<td width=\"120\"><img width=\"100\" src=\"https://static1.squarespace.com/static/5992c2c7a803bb8283297efe/t/59c803110abd04d34ca9a1f0/1530629279239/\" /></td>\n",
        "<td style=\"width: 600px; height: 67px;\">\n",
        "<h1 style=\"text-align: left;\">Activity: Strings</h1>\n",
        "<p><a href=\"https://colab.research.google.com/github/KenzieAcademy/python-notebooks/blob/master/Activity_Strings.ipynb\"> <img src=\"https://colab.research.google.com/assets/colab-badge.svg\" alt=\"Open In Colab\" align=\"left\" width=\"188\" height=\"32\" /> </a></p>\n",
        "</td>\n",
        "</tr>\n",
        "</tbody>\n",
        "</table>"
      ]
    },
    {
      "cell_type": "markdown",
      "metadata": {
        "id": "DqWZoBgY9AsS"
      },
      "source": [
        "## Instructions\n",
        "\n",
        "**Use SHIFT+ENTER to run each cell.**\n",
        "These exercises use a tool called Juptyer Notebook. Here are some quick guidelines:\n",
        "\n",
        "- Each block of python code is called a cell.\n",
        "- You are running an actual python program, cell-by-cell.\n",
        "- You can edit and re-run the code cells in place without overwriting the original notebook.\n",
        "- Don't worry about the `In [x]:` or `Out [y]:` notations on the left margin.\n",
        "- Variables are remembered between cells.\n",
        "- Don't worry about formatting your output to print everything on a single line."
      ]
    },
    {
      "cell_type": "markdown",
      "metadata": {
        "id": "P7Fy-qL19AsT"
      },
      "source": [
        "### Let us begin..."
      ]
    },
    {
      "cell_type": "code",
      "metadata": {
        "id": "-KrD8O4I9AsU"
      },
      "source": [
        "# Declare a few variables to work with\n",
        "# Oh and .. 'got' means 'Game of Thrones'\n",
        "\n",
        "best_thing = \"The best thing about a boolean is even if you are wrong you are only off by a bit\"\n",
        "got_cities = \"King's Landing,Braavos,Volantis,Old Valyria,Free Cities,Qarth,Meereen\""
      ],
      "execution_count": null,
      "outputs": []
    },
    {
      "cell_type": "markdown",
      "metadata": {
        "id": "k_Y3eLvxjw3y"
      },
      "source": [
        "### 1.\n",
        "Display the words from the sentence in `best_thing` as a list.\n",
        "\n",
        "Expected output:\n",
        "```console\n",
        "['The', 'best', 'thing', 'about', 'a', 'boolean', 'is', 'even', 'if', 'you', 'are', 'wrong', 'you', 'are', 'only', 'off',\n",
        "'by', 'a', 'bit']\n",
        "```"
      ]
    },
    {
      "cell_type": "code",
      "metadata": {
        "id": "pOJeBVhVjmcy"
      },
      "source": [
        "print('1. Words from the sentence in best_thing:')\n",
        "# Your code goes here"
      ],
      "execution_count": null,
      "outputs": []
    },
    {
      "cell_type": "markdown",
      "metadata": {
        "id": "NC6QHPFBjd67"
      },
      "source": [
        "### 2.\n",
        "Display the cities in `got_cities` as a list.\n",
        "\n",
        "Expected output:\n",
        "```console\n",
        "[\"King's Landing\", 'Braavos', 'Volantis', 'Old Valyria', 'Free Cities', 'Qarth', 'Meereen']\n",
        "```"
      ]
    },
    {
      "cell_type": "code",
      "metadata": {
        "id": "z7heeBIIjfBq"
      },
      "source": [
        "print('2. Cities in got_cities:')\n",
        "# Your code goes here"
      ],
      "execution_count": null,
      "outputs": []
    },
    {
      "cell_type": "markdown",
      "metadata": {
        "id": "ye4eeMyW9Asd"
      },
      "source": [
        "### 3.\n",
        "Display `got_cities` as a string separated by semi-colons `;` instead of commas.\n",
        "\n",
        "Expected output:\n",
        "```\n",
        "King's Landing;Braavos;Volantis;Old Valyria;Free Cities;Qarth;Meereen\n",
        "```"
      ]
    },
    {
      "cell_type": "code",
      "metadata": {
        "id": "0DTAW4ZP9Ase"
      },
      "source": [
        "print('3. got_cities separated by semi-colons:')\n",
        "# Your code goes here"
      ],
      "execution_count": null,
      "outputs": []
    },
    {
      "cell_type": "markdown",
      "metadata": {
        "id": "nD_LRuDm9As3"
      },
      "source": [
        "### 4.\n",
        "Using slicing, display the first 14 characters from `best_thing`.\n",
        "\n",
        "Expected output:\n",
        "```\n",
        "'The best thing'\n",
        "```"
      ]
    },
    {
      "cell_type": "code",
      "metadata": {
        "id": "65uYGQ859As3"
      },
      "source": [
        "print('4. The first 14 characters from best_thing:')\n",
        "# Your code goes here"
      ],
      "execution_count": null,
      "outputs": []
    },
    {
      "cell_type": "markdown",
      "metadata": {
        "id": "AZYMoLIm9As5"
      },
      "source": [
        "### 5.\n",
        "Using slicing, display the last 12 characters from `best_thing`.\n",
        "\n",
        "Expected output:\n",
        "```\n",
        "'off by a bit'\n",
        "```"
      ]
    },
    {
      "cell_type": "code",
      "metadata": {
        "id": "Aty0nSgt9As6"
      },
      "source": [
        "print('5. The last 12 characters from best_thing:')\n",
        "# Your code goes here"
      ],
      "execution_count": null,
      "outputs": []
    },
    {
      "cell_type": "markdown",
      "metadata": {
        "id": "KETv5-L-9As9"
      },
      "source": [
        "### 6.\n",
        "Using slicing, display the characters from the 23rd to 38th position of `best_thing`.\n",
        "\n",
        "Expected output:\n",
        "```\n",
        "'boolean is even'\n",
        "```"
      ]
    },
    {
      "cell_type": "code",
      "metadata": {
        "id": "y2dDL4hZ9As9"
      },
      "source": [
        "print('6. Characters from the 23rd to 38th position of best_thing:')\n",
        "# Your code goes here"
      ],
      "execution_count": null,
      "outputs": []
    },
    {
      "cell_type": "markdown",
      "metadata": {
        "id": "goIoY6oV9As_"
      },
      "source": [
        "### 7.\n",
        "Using built-in string methods, find and display the index of \"only\" in `best_thing`.\n",
        "\n",
        "Expected output:\n",
        "```\n",
        "64\n",
        "```"
      ]
    },
    {
      "cell_type": "code",
      "metadata": {
        "id": "e5L1l0-Z9AtA"
      },
      "source": [
        "print('7. The index of \"only\" in best_thing:')\n",
        "# Your code goes here"
      ],
      "execution_count": null,
      "outputs": []
    },
    {
      "cell_type": "markdown",
      "metadata": {
        "id": "4zbMhkRt9AtB"
      },
      "source": [
        "### 8.\n",
        "Find and display the index of the last word in `best_thing`.\n",
        "\n",
        "Expected output:\n",
        "```\n",
        "78\n",
        "```"
      ]
    },
    {
      "cell_type": "code",
      "metadata": {
        "id": "597Rr_yk9AtC"
      },
      "source": [
        "print('8. The index of the last word in best_thing')\n",
        "# Your code goes here"
      ],
      "execution_count": null,
      "outputs": []
    },
    {
      "cell_type": "markdown",
      "metadata": {
        "id": "ssPKPTHc9Atj"
      },
      "source": [
        "## NICE JOB! You are done!"
      ]
    },
    {
      "cell_type": "markdown",
      "metadata": {
        "id": "g-ETnfzI9Atj"
      },
      "source": [
        "_This notebook prepared by: C1.PeterMarsh"
      ]
    }
  ]
}