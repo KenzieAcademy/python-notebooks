{
  "nbformat": 4,
  "nbformat_minor": 0,
  "metadata": {
    "kernelspec": {
      "name": "python3",
      "display_name": "Python 3"
    },
    "colab": {
      "name": "Activity_Strings_and_Lists.ipynb",
      "provenance": []
    }
  },
  "cells": [
    {
      "cell_type": "markdown",
      "metadata": {
        "id": "X4X1xxL29AsS",
        "colab_type": "text"
      },
      "source": [
        "<table border=\"0\" align=\"left\" width=\"700\" height=\"144\">\n",
        "<tbody>\n",
        "<tr>\n",
        "<td width=\"120\"><img width=\"100\" src=\"https://static1.squarespace.com/static/5992c2c7a803bb8283297efe/t/59c803110abd04d34ca9a1f0/1530629279239/\" /></td>\n",
        "<td style=\"width: 600px; height: 67px;\">\n",
        "<h1 style=\"text-align: left;\">Activity: Strings and Lists</h1>\n",
        "<p><a href=\"https://colab.research.google.com/github/KenzieAcademy/python-notebooks/blob/master/Activity_Strings_and_Lists.ipynb\"> <img src=\"https://colab.research.google.com/assets/colab-badge.svg\" alt=\"Open In Colab\" align=\"left\" width=\"188\" height=\"32\" /> </a></p>\n",
        "</td>\n",
        "</tr>\n",
        "</tbody>\n",
        "</table>"
      ]
    },
    {
      "cell_type": "markdown",
      "metadata": {
        "id": "DqWZoBgY9AsS",
        "colab_type": "text"
      },
      "source": [
        "## Instructions\n",
        "\n",
        "**Use SHIFT+ENTER to run each cell.**\n",
        "These exercises use a tool called Juptyer Notebook. Here are some quick guidelines:\n",
        "\n",
        "- Each block of python code is called a cell.\n",
        "- You are running an actual python program, cell-by-cell.\n",
        "- You can edit and re-run the code cells in place without overwriting the original notebook.\n",
        "- Don't worry about the `In [x]:` or `Out [y]:` notations on the left margin.\n",
        "- Variables are remembered between cells.\n",
        "- Don't worry about formatting your output to print everything on a single line.\n",
        "\n",
        "\n",
        "## Submitting your work\n",
        "- Add your python code into each cell to complete the exercise.\n",
        "- Select **File -> Download .py** and save to your local machine.\n",
        "- Submit your .py file into the assignment upload window.\n",
        "- Bonus Points: Try the same exercises using list comprehensions. Submit a second .py file.\n",
        "\n"
      ]
    },
    {
      "cell_type": "markdown",
      "metadata": {
        "id": "P7Fy-qL19AsT",
        "colab_type": "text"
      },
      "source": [
        "### Let us begin..."
      ]
    },
    {
      "cell_type": "code",
      "metadata": {
        "id": "-KrD8O4I9AsU",
        "colab_type": "code",
        "colab": {}
      },
      "source": [
        "# Declare a few variables to work with\n",
        "# Oh and .. 'got' means 'Game of Thrones', 'lotr' means 'Lord of The Rings'\n",
        "\n",
        "got_cities = \"King's Landing,Braavos,Volantis,Old Valyria,Free Cities,Qarth,Meereen\"\n",
        "lotr_cities = [\"Mordor\", \"Gondor\", \"Rohan\", \"Beleriand\", \"Mirkwood\", \"Dead Marshes\", \"Rhun\", \"Harad\"]\n",
        "best_thing = \"The best thing about a boolean is even if you are wrong you are only off by a bit\""
      ],
      "execution_count": 0,
      "outputs": []
    },
    {
      "cell_type": "markdown",
      "metadata": {
        "id": "2vFA_XKx9AsX",
        "colab_type": "text"
      },
      "source": [
        "### 1.\n",
        "Display the cities in `got_cities` as a list.\n",
        "\n",
        "Expected output:\n",
        "```console\n",
        "[\"King's Landing\", 'Braavos', 'Volantis', 'Old Valyria', 'Free Cities', 'Qarth', 'Meereen']\n",
        "```"
      ]
    },
    {
      "cell_type": "code",
      "metadata": {
        "id": "uogQ9tFP9AsY",
        "colab_type": "code",
        "colab": {}
      },
      "source": [
        "print('1. Cities in got_cities:')\n",
        "# Your code goes here"
      ],
      "execution_count": 0,
      "outputs": []
    },
    {
      "cell_type": "markdown",
      "metadata": {
        "id": "8zxi8VpV9Asa",
        "colab_type": "text"
      },
      "source": [
        "### 2.\n",
        "Display the words from the sentence in `best_thing` as a list.\n",
        "\n",
        "Expected output:\n",
        "```console\n",
        "['The', 'best', 'thing', 'about', 'a', 'boolean', 'is', 'even', 'if', 'you', 'are', 'wrong', 'you', 'are', 'only', 'off',\n",
        "'by', 'a', 'bit']\n",
        "```"
      ]
    },
    {
      "cell_type": "code",
      "metadata": {
        "id": "HKawZdap9Asb",
        "colab_type": "code",
        "colab": {}
      },
      "source": [
        "print('2. Words from the sentence in best_thing:')\n",
        "# Your code goes here"
      ],
      "execution_count": 0,
      "outputs": []
    },
    {
      "cell_type": "markdown",
      "metadata": {
        "id": "ye4eeMyW9Asd",
        "colab_type": "text"
      },
      "source": [
        "### 3.\n",
        "Display `got_cities` as a string separated by semi-colons `;` instead of commas.\n",
        "\n",
        "Expected output:\n",
        "```\n",
        "King's Landing;Braavos;Volantis;Old Valyria;Free Cities;Qarth;Meereen\n",
        "```"
      ]
    },
    {
      "cell_type": "code",
      "metadata": {
        "id": "0DTAW4ZP9Ase",
        "colab_type": "code",
        "colab": {}
      },
      "source": [
        "print('3. got_cities separated by semi-colons:')\n",
        "# Your code goes here"
      ],
      "execution_count": 0,
      "outputs": []
    },
    {
      "cell_type": "markdown",
      "metadata": {
        "id": "y7Owo68o9Asg",
        "colab_type": "text"
      },
      "source": [
        "### 4.\n",
        "Display the cities in `lotr_cities` as a single comma-separated string.\n",
        "\n",
        "Expected output:\n",
        "```\n",
        "Mordor,Gondor,Rohan,Beleriand,Mirkwood,Dead Marshes,Rhun,Harad\n",
        "```"
      ]
    },
    {
      "cell_type": "code",
      "metadata": {
        "id": "-FKVC8589Asg",
        "colab_type": "code",
        "colab": {}
      },
      "source": [
        "print('4. lotr_cities as a comma-separated string:')\n",
        "# Your code goes here"
      ],
      "execution_count": 0,
      "outputs": []
    },
    {
      "cell_type": "markdown",
      "metadata": {
        "id": "qwwNdHut9Asj",
        "colab_type": "text"
      },
      "source": [
        "### 5.\n",
        "Display only the first 5 cities in `lotr_cities` as a list.\n",
        "\n",
        "Expected output:\n",
        "```\n",
        "['Mordor', 'Gondor', 'Rohan', 'Beleriand', 'Mirkwood']\n",
        "```"
      ]
    },
    {
      "cell_type": "code",
      "metadata": {
        "id": "fXvlz1vE9Ask",
        "colab_type": "code",
        "colab": {}
      },
      "source": [
        "print('5. The first 5 cities in lotr_cities:')\n",
        "# Your code goes here"
      ],
      "execution_count": 0,
      "outputs": []
    },
    {
      "cell_type": "markdown",
      "metadata": {
        "id": "1NZXeTWz9Asm",
        "colab_type": "text"
      },
      "source": [
        "### 6.\n",
        "Display the last 5 cities in `lotr_cities` as a list.\n",
        "\n",
        "Expected output:\n",
        "```\n",
        "['Beleriand', 'Mirkwood', 'Dead Marshes', 'Rhun', 'Harad']\n",
        "```"
      ]
    },
    {
      "cell_type": "code",
      "metadata": {
        "id": "2qpPjGy39Asm",
        "colab_type": "code",
        "colab": {}
      },
      "source": [
        "print('6. The last 5 cities in lotr_cities:')\n",
        "# Your code goes here"
      ],
      "execution_count": 0,
      "outputs": []
    },
    {
      "cell_type": "markdown",
      "metadata": {
        "id": "x_16C03I9Asp",
        "colab_type": "text"
      },
      "source": [
        "### 7.\n",
        "Display the 3rd through the 5th city in `lotr_cities` as a list.\n",
        "\n",
        "Expected output:\n",
        "```\n",
        "['Rohan', 'Beleriand', 'Mirkwood']\n",
        "```"
      ]
    },
    {
      "cell_type": "code",
      "metadata": {
        "id": "iRy893i89Asp",
        "colab_type": "code",
        "colab": {}
      },
      "source": [
        "print('7. The 3rd through the 5th cities in lotr_cities:')\n",
        "# Your code goes here"
      ],
      "execution_count": 0,
      "outputs": []
    },
    {
      "cell_type": "markdown",
      "metadata": {
        "id": "XSzPf5nQ9Asr",
        "colab_type": "text"
      },
      "source": [
        "### 8.\n",
        "Using built-in list methods, remove `Rohan` from `lotr_cities` and display the resulting `lotr_cities`.\n",
        "\n",
        "Expected output:\n",
        "```\n",
        "['Mordor', 'Gondor', 'Beleriand', 'Mirkwood', 'Dead Marshes', 'Rhun', 'Harad']\n",
        "```"
      ]
    },
    {
      "cell_type": "code",
      "metadata": {
        "id": "QseDXTPN9Ass",
        "colab_type": "code",
        "colab": {}
      },
      "source": [
        "print('8. lotr_cities with \"Rohan\" removed:')\n",
        "# Your code goes here"
      ],
      "execution_count": 0,
      "outputs": []
    },
    {
      "cell_type": "markdown",
      "metadata": {
        "id": "4ecVHfhb9Asw",
        "colab_type": "text"
      },
      "source": [
        "### 9.\n",
        "Using built-in list methods, remove all cities after `Dead Marshes` in `lotr_cities` and display the resulting `lotr_cities`.\n",
        "\n",
        "Expected output:\n",
        "```\n",
        "['Mordor', 'Gondor', 'Beleriand', 'Mirkwood', 'Dead Marshes']\n",
        "```"
      ]
    },
    {
      "cell_type": "code",
      "metadata": {
        "id": "kMXidYl79Asx",
        "colab_type": "code",
        "colab": {}
      },
      "source": [
        "print('9. lotr_cities with cities after \"Dead Marshes\" removed:')\n",
        "# Your code goes here"
      ],
      "execution_count": 0,
      "outputs": []
    },
    {
      "cell_type": "markdown",
      "metadata": {
        "id": "sAd_rAac9Asz",
        "colab_type": "text"
      },
      "source": [
        "### 10.\n",
        "Using built-in list methods, insert \"Rohan\" back into `lotr_cities` right after \"Gondor\" and display the resulting `lotr_cities`.\n",
        "\n",
        "Expected output:\n",
        "```\n",
        "['Mordor', 'Gondor', 'Rohan', 'Beleriand', 'Mirkwood', 'Dead Marshes']\n",
        "```"
      ]
    },
    {
      "cell_type": "code",
      "metadata": {
        "id": "KH1Mqvfp9Asz",
        "colab_type": "code",
        "colab": {}
      },
      "source": [
        "print('10. lotr_cities w/ \"Rohan\" added back in after \"Gondor\"')\n",
        "# Your code goes here"
      ],
      "execution_count": 0,
      "outputs": []
    },
    {
      "cell_type": "markdown",
      "metadata": {
        "id": "-X_4y-dB9As1",
        "colab_type": "text"
      },
      "source": [
        "### 11.\n",
        "Rename \"Dead Marshes\" to \"Deadest Marshes\" in `lotr_cities` and display the resulting `lotr_cities`.\n",
        "\n",
        "Expected output:\n",
        "```\n",
        "['Mordor', 'Gondor', 'Rohan', 'Beleriand', 'Mirkwood', 'Deadest Marshes']\n",
        "```"
      ]
    },
    {
      "cell_type": "code",
      "metadata": {
        "id": "u6zzZs4M9As1",
        "colab_type": "code",
        "colab": {}
      },
      "source": [
        "print('11. lotr_cities w/ \"Dead Marshes\" renamed to \"Deadest Marshes:')\n",
        "# Your code goes here"
      ],
      "execution_count": 0,
      "outputs": []
    },
    {
      "cell_type": "markdown",
      "metadata": {
        "id": "nD_LRuDm9As3",
        "colab_type": "text"
      },
      "source": [
        "### 12.\n",
        "Using slicing, display the first 14 characters from `best_thing`.\n",
        "\n",
        "Expected output:\n",
        "```\n",
        "'The best thing'\n",
        "```"
      ]
    },
    {
      "cell_type": "code",
      "metadata": {
        "id": "65uYGQ859As3",
        "colab_type": "code",
        "colab": {}
      },
      "source": [
        "print('12. The first 14 characters from best_thing:')\n",
        "# Your code goes here"
      ],
      "execution_count": 0,
      "outputs": []
    },
    {
      "cell_type": "markdown",
      "metadata": {
        "id": "AZYMoLIm9As5",
        "colab_type": "text"
      },
      "source": [
        "### 13.\n",
        "Using slicing, display the last 12 characters from `best_thing`.\n",
        "\n",
        "Expected output:\n",
        "```\n",
        "'off by a bit'\n",
        "```"
      ]
    },
    {
      "cell_type": "code",
      "metadata": {
        "id": "Aty0nSgt9As6",
        "colab_type": "code",
        "colab": {}
      },
      "source": [
        "print('13. The last 12 characters from best_thing:')\n",
        "# Your code goes here"
      ],
      "execution_count": 0,
      "outputs": []
    },
    {
      "cell_type": "markdown",
      "metadata": {
        "id": "KETv5-L-9As9",
        "colab_type": "text"
      },
      "source": [
        "### 14.\n",
        "Using slicing, display the characters from the 23rd to 38th position of `best_thing`.\n",
        "\n",
        "Expected output:\n",
        "```\n",
        "'boolean is even'\n",
        "```"
      ]
    },
    {
      "cell_type": "code",
      "metadata": {
        "id": "y2dDL4hZ9As9",
        "colab_type": "code",
        "colab": {}
      },
      "source": [
        "print('14. Characters from the 23rd to 38th position of best_thing:')\n",
        "# Your code goes here"
      ],
      "execution_count": 0,
      "outputs": []
    },
    {
      "cell_type": "markdown",
      "metadata": {
        "id": "goIoY6oV9As_",
        "colab_type": "text"
      },
      "source": [
        "### 15.\n",
        "Using built-in string methods, find and display the index of \"only\" in `best_thing`.\n",
        "\n",
        "Expected output:\n",
        "```\n",
        "64\n",
        "```"
      ]
    },
    {
      "cell_type": "code",
      "metadata": {
        "id": "e5L1l0-Z9AtA",
        "colab_type": "code",
        "colab": {}
      },
      "source": [
        "print('15. The index of \"only\" in best_thing:')\n",
        "# Your code goes here"
      ],
      "execution_count": 0,
      "outputs": []
    },
    {
      "cell_type": "markdown",
      "metadata": {
        "id": "4zbMhkRt9AtB",
        "colab_type": "text"
      },
      "source": [
        "### 16.\n",
        "Find and display the index of the last word in `best_thing`.\n",
        "\n",
        "Expected output:\n",
        "```\n",
        "78\n",
        "```"
      ]
    },
    {
      "cell_type": "code",
      "metadata": {
        "id": "597Rr_yk9AtC",
        "colab_type": "code",
        "colab": {}
      },
      "source": [
        "print('16. The index of the last word in best_thing')\n",
        "# Your code goes here"
      ],
      "execution_count": 0,
      "outputs": []
    },
    {
      "cell_type": "markdown",
      "metadata": {
        "id": "XbOz-6z69AtD",
        "colab_type": "text"
      },
      "source": [
        "### 17.\n",
        "Find and display all cities from `got_cities` that use double vowels (\"aa\",\"ee\", \"ii\", \"oo\", \"uu\").\n",
        "\n",
        "Expected output:\n",
        "```\n",
        "['Braavos', 'Free Cities', 'Meereen']\n",
        "```"
      ]
    },
    {
      "cell_type": "code",
      "metadata": {
        "id": "tWEuIjHE9AtE",
        "colab_type": "code",
        "colab": {}
      },
      "source": [
        "print('17. All cities from got_cities that use double vowels:')\n",
        "# Your code goes here"
      ],
      "execution_count": 0,
      "outputs": []
    },
    {
      "cell_type": "markdown",
      "metadata": {
        "id": "Xq9YeFJ_9AtF",
        "colab_type": "text"
      },
      "source": [
        "### 18.\n",
        "Find and display all cities from `lotr_cities` that end with \"or\".\n",
        "\n",
        "Expected output:\n",
        "```\n",
        "['Mordor', 'Gondor']\n",
        "```"
      ]
    },
    {
      "cell_type": "code",
      "metadata": {
        "id": "Lofg7GZ_9AtG",
        "colab_type": "code",
        "colab": {}
      },
      "source": [
        "print('18. All cities from lotr_cities that end with \"or\":')\n",
        "# Your code goes here"
      ],
      "execution_count": 0,
      "outputs": []
    },
    {
      "cell_type": "markdown",
      "metadata": {
        "id": "nAyAfJEO9AtH",
        "colab_type": "text"
      },
      "source": [
        "### 19.\n",
        "Find and display all the words in `best_thing` that start with \"b\".\n",
        "\n",
        "Expected output:\n",
        "```\n",
        "['best', 'boolean', 'by', 'bit']\n",
        "```"
      ]
    },
    {
      "cell_type": "code",
      "metadata": {
        "id": "br-pLH8E9AtI",
        "colab_type": "code",
        "colab": {}
      },
      "source": [
        "print('19. All the words in best_thing that start with \"b\":')\n",
        "# Your code goes here"
      ],
      "execution_count": 0,
      "outputs": []
    },
    {
      "cell_type": "markdown",
      "metadata": {
        "id": "wBQAhdlK9AtJ",
        "colab_type": "text"
      },
      "source": [
        "### 20.\n",
        "Display \"Yes\" or \"No\" whether `lotr_cities` includes \"Mirkwood\"."
      ]
    },
    {
      "cell_type": "code",
      "metadata": {
        "id": "cQKiU4K99AtL",
        "colab_type": "code",
        "colab": {}
      },
      "source": [
        "print('20. Does lotr_cities include \"Mirkwood\"?:')\n",
        "# Your code goes here"
      ],
      "execution_count": 0,
      "outputs": []
    },
    {
      "cell_type": "markdown",
      "metadata": {
        "id": "2shhC4of9AtN",
        "colab_type": "text"
      },
      "source": [
        "### 21.\n",
        "Display \"Yes\" or \"No\" whether `lotr_cities` includes \"Hollywood\"."
      ]
    },
    {
      "cell_type": "code",
      "metadata": {
        "id": "ec1a_QCg9AtN",
        "colab_type": "code",
        "colab": {}
      },
      "source": [
        "print('21. Does lotr_cities include \"Hollywood\"?:')\n",
        "# Your code goes here"
      ],
      "execution_count": 0,
      "outputs": []
    },
    {
      "cell_type": "markdown",
      "metadata": {
        "id": "Xw8nax8s9AtO",
        "colab_type": "text"
      },
      "source": [
        "### 22.\n",
        "Display the index of \"Mirkwood\" in `lotr_cities`.\n",
        "\n",
        "Expected output:\n",
        "```\n",
        "4\n",
        "```"
      ]
    },
    {
      "cell_type": "code",
      "metadata": {
        "id": "TVi4O4Ey9AtP",
        "colab_type": "code",
        "colab": {}
      },
      "source": [
        "print('22. The index of \"Mirkwood\" in lotr_cities:')\n",
        "# Your code goes here"
      ],
      "execution_count": 0,
      "outputs": []
    },
    {
      "cell_type": "markdown",
      "metadata": {
        "id": "8z6IAYud9AtQ",
        "colab_type": "text"
      },
      "source": [
        "### 23.\n",
        "Find and display the first city in `lotr_cities` that consists of more than one word."
      ]
    },
    {
      "cell_type": "code",
      "metadata": {
        "id": "NSTbPjr_9AtR",
        "colab_type": "code",
        "colab": {}
      },
      "source": [
        "print('23. The first city in lotr_cities that consists of more than one word:')\n",
        "# Your code goes here"
      ],
      "execution_count": 0,
      "outputs": []
    },
    {
      "cell_type": "markdown",
      "metadata": {
        "id": "lTnsH78Y9AtS",
        "colab_type": "text"
      },
      "source": [
        "### 24.\n",
        "Reverse the order of list elements in `lotr_cities` (not the city names) and display the resulting `lotr_cities`.\n",
        "\n",
        "Expected output:\n",
        "```\n",
        "['Deadest Marshes', 'Mirkwood', 'Beleriand', 'Rohan', 'Gondor', 'Mordor']\n",
        "```"
      ]
    },
    {
      "cell_type": "code",
      "metadata": {
        "id": "b3H_cc649AtT",
        "colab_type": "code",
        "colab": {}
      },
      "source": [
        "print('24. lotr_cities reversed:')\n",
        "# Your code goes here"
      ],
      "execution_count": 0,
      "outputs": []
    },
    {
      "cell_type": "markdown",
      "metadata": {
        "id": "FEZn8ElD9AtV",
        "colab_type": "text"
      },
      "source": [
        "### 25.\n",
        "Sort `lotr_cities` alphabetically and display the resulting `lotr_cities`.\n",
        "\n",
        "Expected output:\n",
        "```\n",
        "['Beleriand', 'Deadest Marshes', 'Gondor', 'Mirkwood', 'Mordor', 'Rohan']\n",
        "```"
      ]
    },
    {
      "cell_type": "code",
      "metadata": {
        "id": "kV_c6KrN9AtV",
        "colab_type": "code",
        "colab": {}
      },
      "source": [
        "print('25. lotr_cities sorted alphabetically:')\n",
        "# Your code goes here"
      ],
      "execution_count": 0,
      "outputs": []
    },
    {
      "cell_type": "markdown",
      "metadata": {
        "id": "4xYLt0cv9AtX",
        "colab_type": "text"
      },
      "source": [
        "### 26.\n",
        "Sort `lotr_cities` by the number of characters in each city (i.e., shortest name to longest name) and display the resulting `lotr_cities`.\n",
        "\n",
        "Expected output:\n",
        "```\n",
        "['Rohan', 'Gondor', 'Mordor', 'Mirkwood', 'Beleriand', 'Deadest Marshes']\n",
        "```"
      ]
    },
    {
      "cell_type": "code",
      "metadata": {
        "id": "wdArSzXK9AtX",
        "colab_type": "code",
        "colab": {}
      },
      "source": [
        "print('26. lotr_cities sorted by the number of characters in each city:')\n",
        "# Your code goes here"
      ],
      "execution_count": 0,
      "outputs": []
    },
    {
      "cell_type": "markdown",
      "metadata": {
        "id": "9r_QFg-x9AtZ",
        "colab_type": "text"
      },
      "source": [
        "### 27.\n",
        "Using built-in list methods, remove the last city from `lotr_cities` and display the removed city.\n",
        "\n",
        "Expected output\n",
        "```\n",
        "['Rohan', 'Gondor', 'Mordor', 'Mirkwood', 'Beleriand']\n",
        "```"
      ]
    },
    {
      "cell_type": "code",
      "metadata": {
        "id": "WXK5gbBg9AtZ",
        "colab_type": "code",
        "colab": {}
      },
      "source": [
        "print('27. lotr_cities with last city removed:')\n",
        "# Your code goes here"
      ],
      "execution_count": 0,
      "outputs": []
    },
    {
      "cell_type": "markdown",
      "metadata": {
        "id": "BEEyTFW09Atb",
        "colab_type": "text"
      },
      "source": [
        "### 28.\n",
        "Using built-in list methods, add back the city from `lotr_cities` that was removed in exercise #27 to the end of the list and display the resulting `lotr_cities`.\n",
        "\n",
        "Expected output:\n",
        "```\n",
        "['Rohan', 'Gondor', 'Mordor', 'Mirkwood', 'Beleriand', 'Deadest Marshes']\n",
        "```"
      ]
    },
    {
      "cell_type": "code",
      "metadata": {
        "id": "qJ0uXsBz9Atd",
        "colab_type": "code",
        "colab": {}
      },
      "source": [
        "print('28. lotr_cities w/ last city added back:')\n",
        "# Your code goes here"
      ],
      "execution_count": 0,
      "outputs": []
    },
    {
      "cell_type": "markdown",
      "metadata": {
        "id": "nSYfRKBf9Atf",
        "colab_type": "text"
      },
      "source": [
        "### 29.\n",
        "Using built-in list methods, remove the first city from `lotr_cities` and display the removed city.\n",
        "\n",
        "Expected output:\n",
        "```\n",
        "['Gondor', 'Mordor', 'Mirkwood', 'Beleriand', 'Deadest Marshes']\n",
        "```"
      ]
    },
    {
      "cell_type": "code",
      "metadata": {
        "id": "NPL8jP2P9Atf",
        "colab_type": "code",
        "colab": {}
      },
      "source": [
        "print('29. lotr_cities with first city removed:')\n",
        "# Your code goes here"
      ],
      "execution_count": 0,
      "outputs": []
    },
    {
      "cell_type": "markdown",
      "metadata": {
        "id": "ZMb1sUuc9Ath",
        "colab_type": "text"
      },
      "source": [
        "### 30.\n",
        "Using built-in list methods, add back the city from `lotr_cities` that was removed in exercise #29 to the front of the list and display the resulting `lotr_cities`.\n",
        "\n",
        "Expected output:\n",
        "```\n",
        "['Rohan', 'Gondor', 'Mordor', 'Mirkwood', 'Beleriand', 'Deadest Marshes']\n",
        "```"
      ]
    },
    {
      "cell_type": "code",
      "metadata": {
        "id": "NH0cPUxd9Ath",
        "colab_type": "code",
        "colab": {}
      },
      "source": [
        "print('30. lotr_cities w/ first city added back:')\n",
        "# Your code goes here"
      ],
      "execution_count": 0,
      "outputs": []
    },
    {
      "cell_type": "markdown",
      "metadata": {
        "id": "ssPKPTHc9Atj",
        "colab_type": "text"
      },
      "source": [
        "## NICE JOB!  You are done ... Download/save this notebook as a .py file and submit!"
      ]
    },
    {
      "cell_type": "markdown",
      "metadata": {
        "id": "g-ETnfzI9Atj",
        "colab_type": "text"
      },
      "source": [
        "_This notebook prepared by: C1.PeterMarsh"
      ]
    }
  ]
}