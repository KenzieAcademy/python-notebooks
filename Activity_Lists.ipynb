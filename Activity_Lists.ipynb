{
  "nbformat": 4,
  "nbformat_minor": 0,
  "metadata": {
    "kernelspec": {
      "name": "python3",
      "display_name": "Python 3"
    },
    "colab": {
      "name": "Activity_Strings_and_Lists.ipynb",
      "provenance": []
    }
  },
  "cells": [
    {
      "cell_type": "markdown",
      "metadata": {
        "id": "X4X1xxL29AsS"
      },
      "source": [
        "<table border=\"0\" align=\"left\" width=\"700\" height=\"144\">\n",
        "<tbody>\n",
        "<tr>\n",
        "<td width=\"120\"><img width=\"100\" src=\"https://static1.squarespace.com/static/5992c2c7a803bb8283297efe/t/59c803110abd04d34ca9a1f0/1530629279239/\" /></td>\n",
        "<td style=\"width: 600px; height: 67px;\">\n",
        "<h1 style=\"text-align: left;\">Activity: Lists</h1>\n",
        "<p><a href=\"https://colab.research.google.com/github/KenzieAcademy/python-notebooks/blob/master/Activity_Lists.ipynb\"> <img src=\"https://colab.research.google.com/assets/colab-badge.svg\" alt=\"Open In Colab\" align=\"left\" width=\"188\" height=\"32\" /> </a></p>\n",
        "</td>\n",
        "</tr>\n",
        "</tbody>\n",
        "</table>"
      ]
    },
    {
      "cell_type": "markdown",
      "metadata": {
        "id": "DqWZoBgY9AsS"
      },
      "source": [
        "## Instructions\n",
        "\n",
        "**Use SHIFT+ENTER to run each cell.**\n",
        "These exercises use a tool called Juptyer Notebook. Here are some quick guidelines:\n",
        "\n",
        "- Each block of python code is called a cell.\n",
        "- You are running an actual python program, cell-by-cell.\n",
        "- You can edit and re-run the code cells in place without overwriting the original notebook.\n",
        "- Don't worry about the `In [x]:` or `Out [y]:` notations on the left margin.\n",
        "- Variables are remembered between cells.\n",
        "- Don't worry about formatting your output to print everything on a single line."
      ]
    },
    {
      "cell_type": "markdown",
      "metadata": {
        "id": "P7Fy-qL19AsT"
      },
      "source": [
        "### Let us begin..."
      ]
    },
    {
      "cell_type": "code",
      "metadata": {
        "id": "-KrD8O4I9AsU"
      },
      "source": [
        "# Declare a few variables to work with\n",
        "# Oh and .. 'got' means 'Game of Thrones', 'lotr' means 'Lord of The Rings'\n",
        "\n",
        "got_cities = \"King's Landing,Braavos,Volantis,Old Valyria,Free Cities,Qarth,Meereen\"\n",
        "lotr_cities = [\"Mordor\", \"Gondor\", \"Rohan\", \"Beleriand\", \"Mirkwood\", \"Dead Marshes\", \"Rhun\", \"Harad\"]\n",
        "best_thing = \"The best thing about a boolean is even if you are wrong you are only off by a bit\""
      ],
      "execution_count": null,
      "outputs": []
    },
    {
      "cell_type": "markdown",
      "metadata": {
        "id": "y7Owo68o9Asg"
      },
      "source": [
        "### 1.\n",
        "Display the cities in `lotr_cities` as a single comma-separated string.\n",
        "\n",
        "Expected output:\n",
        "```\n",
        "Mordor,Gondor,Rohan,Beleriand,Mirkwood,Dead Marshes,Rhun,Harad\n",
        "```"
      ]
    },
    {
      "cell_type": "code",
      "metadata": {
        "id": "-FKVC8589Asg"
      },
      "source": [
        "print('1. lotr_cities as a comma-separated string:')\n",
        "# Your code goes here"
      ],
      "execution_count": null,
      "outputs": []
    },
    {
      "cell_type": "markdown",
      "metadata": {
        "id": "qwwNdHut9Asj"
      },
      "source": [
        "### 2.\n",
        "Display only the first 5 cities in `lotr_cities` as a list.\n",
        "\n",
        "Expected output:\n",
        "```\n",
        "['Mordor', 'Gondor', 'Rohan', 'Beleriand', 'Mirkwood']\n",
        "```"
      ]
    },
    {
      "cell_type": "code",
      "metadata": {
        "id": "fXvlz1vE9Ask"
      },
      "source": [
        "print('2. The first 5 cities in lotr_cities:')\n",
        "# Your code goes here"
      ],
      "execution_count": null,
      "outputs": []
    },
    {
      "cell_type": "markdown",
      "metadata": {
        "id": "1NZXeTWz9Asm"
      },
      "source": [
        "### 3.\n",
        "Display the last 5 cities in `lotr_cities` as a list.\n",
        "\n",
        "Expected output:\n",
        "```\n",
        "['Beleriand', 'Mirkwood', 'Dead Marshes', 'Rhun', 'Harad']\n",
        "```"
      ]
    },
    {
      "cell_type": "code",
      "metadata": {
        "id": "2qpPjGy39Asm"
      },
      "source": [
        "print('3. The last 5 cities in lotr_cities:')\n",
        "# Your code goes here"
      ],
      "execution_count": null,
      "outputs": []
    },
    {
      "cell_type": "markdown",
      "metadata": {
        "id": "x_16C03I9Asp"
      },
      "source": [
        "### 4.\n",
        "Display the 3rd through the 5th city in `lotr_cities` as a list.\n",
        "\n",
        "Expected output:\n",
        "```\n",
        "['Rohan', 'Beleriand', 'Mirkwood']\n",
        "```"
      ]
    },
    {
      "cell_type": "code",
      "metadata": {
        "id": "iRy893i89Asp"
      },
      "source": [
        "print('4. The 3rd through the 5th cities in lotr_cities:')\n",
        "# Your code goes here"
      ],
      "execution_count": null,
      "outputs": []
    },
    {
      "cell_type": "markdown",
      "metadata": {
        "id": "XSzPf5nQ9Asr"
      },
      "source": [
        "### 5.\n",
        "Using built-in list methods, remove `Rohan` from `lotr_cities` and display the resulting `lotr_cities`.\n",
        "\n",
        "Expected output:\n",
        "```\n",
        "['Mordor', 'Gondor', 'Beleriand', 'Mirkwood', 'Dead Marshes', 'Rhun', 'Harad']\n",
        "```"
      ]
    },
    {
      "cell_type": "code",
      "metadata": {
        "id": "QseDXTPN9Ass"
      },
      "source": [
        "print('5. lotr_cities with \"Rohan\" removed:')\n",
        "# Your code goes here"
      ],
      "execution_count": null,
      "outputs": []
    },
    {
      "cell_type": "markdown",
      "metadata": {
        "id": "4ecVHfhb9Asw"
      },
      "source": [
        "### 6.\n",
        "Using built-in list methods, remove all cities after `Dead Marshes` in `lotr_cities` and display the resulting `lotr_cities`.\n",
        "\n",
        "Expected output:\n",
        "```\n",
        "['Mordor', 'Gondor', 'Beleriand', 'Mirkwood', 'Dead Marshes']\n",
        "```"
      ]
    },
    {
      "cell_type": "code",
      "metadata": {
        "id": "kMXidYl79Asx"
      },
      "source": [
        "print('the 6. lotr_cities with cities after \"Dead Marshes\" removed:')\n",
        "# Your code goes here"
      ],
      "execution_count": null,
      "outputs": []
    },
    {
      "cell_type": "markdown",
      "metadata": {
        "id": "sAd_rAac9Asz"
      },
      "source": [
        "### 7.\n",
        "Using built-in list methods, insert \"Rohan\" back into `lotr_cities` right after \"Gondor\" and display the resulting `lotr_cities`.\n",
        "\n",
        "Expected output:\n",
        "```\n",
        "['Mordor', 'Gondor', 'Rohan', 'Beleriand', 'Mirkwood', 'Dead Marshes']\n",
        "```"
      ]
    },
    {
      "cell_type": "code",
      "metadata": {
        "id": "KH1Mqvfp9Asz"
      },
      "source": [
        "print('7. lotr_cities w/ \"Rohan\" added back in after \"Gondor\"')\n",
        "# Your code goes here"
      ],
      "execution_count": null,
      "outputs": []
    },
    {
      "cell_type": "markdown",
      "metadata": {
        "id": "-X_4y-dB9As1"
      },
      "source": [
        "### 8.\n",
        "Rename \"Dead Marshes\" to \"Deadest Marshes\" in `lotr_cities` and display the resulting `lotr_cities`.\n",
        "\n",
        "Expected output:\n",
        "```\n",
        "['Mordor', 'Gondor', 'Rohan', 'Beleriand', 'Mirkwood', 'Deadest Marshes']\n",
        "```"
      ]
    },
    {
      "cell_type": "code",
      "metadata": {
        "id": "u6zzZs4M9As1"
      },
      "source": [
        "print('8. lotr_cities w/ \"Dead Marshes\" renamed to \"Deadest Marshes:')\n",
        "# Your code goes here"
      ],
      "execution_count": null,
      "outputs": []
    },
    {
      "cell_type": "markdown",
      "metadata": {
        "id": "XbOz-6z69AtD"
      },
      "source": [
        "### 9.\n",
        "Find and display all cities from `got_cities` that use double vowels (\"aa\",\"ee\", \"ii\", \"oo\", \"uu\").\n",
        "\n",
        "Expected output:\n",
        "```\n",
        "['Braavos', 'Free Cities', 'Meereen']\n",
        "```"
      ]
    },
    {
      "cell_type": "code",
      "metadata": {
        "id": "tWEuIjHE9AtE"
      },
      "source": [
        "print('9. All cities from got_cities that use double vowels:')\n",
        "# Your code goes here"
      ],
      "execution_count": null,
      "outputs": []
    },
    {
      "cell_type": "markdown",
      "metadata": {
        "id": "Xq9YeFJ_9AtF"
      },
      "source": [
        "### 10.\n",
        "Find and display all cities from `lotr_cities` that end with \"or\".\n",
        "\n",
        "Expected output:\n",
        "```\n",
        "['Mordor', 'Gondor']\n",
        "```"
      ]
    },
    {
      "cell_type": "code",
      "metadata": {
        "id": "Lofg7GZ_9AtG"
      },
      "source": [
        "print('10. All cities from lotr_cities that end with \"or\":')\n",
        "# Your code goes here"
      ],
      "execution_count": null,
      "outputs": []
    },
    {
      "cell_type": "markdown",
      "metadata": {
        "id": "nAyAfJEO9AtH"
      },
      "source": [
        "### 11.\n",
        "Find and display all the words in `best_thing` that start with \"b\".\n",
        "\n",
        "Expected output:\n",
        "```\n",
        "['best', 'boolean', 'by', 'bit']\n",
        "```"
      ]
    },
    {
      "cell_type": "code",
      "metadata": {
        "id": "br-pLH8E9AtI"
      },
      "source": [
        "print('11. All the words in best_thing that start with \"b\":')\n",
        "# Your code goes here"
      ],
      "execution_count": null,
      "outputs": []
    },
    {
      "cell_type": "markdown",
      "metadata": {
        "id": "wBQAhdlK9AtJ"
      },
      "source": [
        "### 12.\n",
        "Display \"Yes\" or \"No\" whether `lotr_cities` includes \"Mirkwood\"."
      ]
    },
    {
      "cell_type": "code",
      "metadata": {
        "id": "cQKiU4K99AtL"
      },
      "source": [
        "print('12. Does lotr_cities include \"Mirkwood\"?:')\n",
        "# Your code goes here"
      ],
      "execution_count": null,
      "outputs": []
    },
    {
      "cell_type": "markdown",
      "metadata": {
        "id": "2shhC4of9AtN"
      },
      "source": [
        "### 13.\n",
        "Display \"Yes\" or \"No\" whether `lotr_cities` includes \"Hollywood\"."
      ]
    },
    {
      "cell_type": "code",
      "metadata": {
        "id": "ec1a_QCg9AtN"
      },
      "source": [
        "print('13. Does lotr_cities include \"Hollywood\"?:')\n",
        "# Your code goes here"
      ],
      "execution_count": null,
      "outputs": []
    },
    {
      "cell_type": "markdown",
      "metadata": {
        "id": "Xw8nax8s9AtO"
      },
      "source": [
        "### 14.\n",
        "Display the index of \"Mirkwood\" in `lotr_cities`.\n",
        "\n",
        "Expected output:\n",
        "```\n",
        "4\n",
        "```"
      ]
    },
    {
      "cell_type": "code",
      "metadata": {
        "id": "TVi4O4Ey9AtP"
      },
      "source": [
        "print('14. The index of \"Mirkwood\" in lotr_cities:')\n",
        "# Your code goes here"
      ],
      "execution_count": null,
      "outputs": []
    },
    {
      "cell_type": "markdown",
      "metadata": {
        "id": "8z6IAYud9AtQ"
      },
      "source": [
        "### 15.\n",
        "Find and display the first city in `lotr_cities` that consists of more than one word."
      ]
    },
    {
      "cell_type": "code",
      "metadata": {
        "id": "NSTbPjr_9AtR"
      },
      "source": [
        "print('15. The first city in lotr_cities that consists of more than one word:')\n",
        "# Your code goes here"
      ],
      "execution_count": null,
      "outputs": []
    },
    {
      "cell_type": "markdown",
      "metadata": {
        "id": "lTnsH78Y9AtS"
      },
      "source": [
        "### 16.\n",
        "Reverse the order of list elements in `lotr_cities` (not the city names) and display the resulting `lotr_cities`.\n",
        "\n",
        "Expected output:\n",
        "```\n",
        "['Deadest Marshes', 'Mirkwood', 'Beleriand', 'Rohan', 'Gondor', 'Mordor']\n",
        "```"
      ]
    },
    {
      "cell_type": "code",
      "metadata": {
        "id": "b3H_cc649AtT"
      },
      "source": [
        "print('16. lotr_cities reversed:')\n",
        "# Your code goes here"
      ],
      "execution_count": null,
      "outputs": []
    },
    {
      "cell_type": "markdown",
      "metadata": {
        "id": "FEZn8ElD9AtV"
      },
      "source": [
        "### 17.\n",
        "Sort `lotr_cities` alphabetically and display the resulting `lotr_cities`.\n",
        "\n",
        "Expected output:\n",
        "```\n",
        "['Beleriand', 'Deadest Marshes', 'Gondor', 'Mirkwood', 'Mordor', 'Rohan']\n",
        "```"
      ]
    },
    {
      "cell_type": "code",
      "metadata": {
        "id": "kV_c6KrN9AtV"
      },
      "source": [
        "print('17. lotr_cities sorted alphabetically:')\n",
        "# Your code goes here"
      ],
      "execution_count": null,
      "outputs": []
    },
    {
      "cell_type": "markdown",
      "metadata": {
        "id": "4xYLt0cv9AtX"
      },
      "source": [
        "### 18.\n",
        "Sort `lotr_cities` by the number of characters in each city (i.e., shortest name to longest name) and display the resulting `lotr_cities`.\n",
        "\n",
        "Expected output:\n",
        "```\n",
        "['Rohan', 'Gondor', 'Mordor', 'Mirkwood', 'Beleriand', 'Deadest Marshes']\n",
        "```"
      ]
    },
    {
      "cell_type": "code",
      "metadata": {
        "id": "wdArSzXK9AtX"
      },
      "source": [
        "print('18. lotr_cities sorted by the number of characters in each city:')\n",
        "# Your code goes here"
      ],
      "execution_count": null,
      "outputs": []
    },
    {
      "cell_type": "markdown",
      "metadata": {
        "id": "9r_QFg-x9AtZ"
      },
      "source": [
        "### 19.\n",
        "Using built-in list methods, remove the last city from `lotr_cities` and display the removed city.\n",
        "\n",
        "Expected output\n",
        "```\n",
        "['Rohan', 'Gondor', 'Mordor', 'Mirkwood', 'Beleriand']\n",
        "```"
      ]
    },
    {
      "cell_type": "code",
      "metadata": {
        "id": "WXK5gbBg9AtZ"
      },
      "source": [
        "print('19. lotr_cities with last city removed:')\n",
        "# Your code goes here"
      ],
      "execution_count": null,
      "outputs": []
    },
    {
      "cell_type": "markdown",
      "metadata": {
        "id": "BEEyTFW09Atb"
      },
      "source": [
        "### 20.\n",
        "Using built-in list methods, add back the city from `lotr_cities` that was removed in exercise #19 to the end of the list and display the resulting `lotr_cities`.\n",
        "\n",
        "Expected output:\n",
        "```\n",
        "['Rohan', 'Gondor', 'Mordor', 'Mirkwood', 'Beleriand', 'Deadest Marshes']\n",
        "```"
      ]
    },
    {
      "cell_type": "code",
      "metadata": {
        "id": "qJ0uXsBz9Atd"
      },
      "source": [
        "print('20. lotr_cities w/ last city added back:')\n",
        "# Your code goes here"
      ],
      "execution_count": null,
      "outputs": []
    },
    {
      "cell_type": "markdown",
      "metadata": {
        "id": "nSYfRKBf9Atf"
      },
      "source": [
        "### 21.\n",
        "Using built-in list methods, remove the first city from `lotr_cities` and display the removed city.\n",
        "\n",
        "Expected output:\n",
        "```\n",
        "['Gondor', 'Mordor', 'Mirkwood', 'Beleriand', 'Deadest Marshes']\n",
        "```"
      ]
    },
    {
      "cell_type": "code",
      "metadata": {
        "id": "NPL8jP2P9Atf"
      },
      "source": [
        "print('21. lotr_cities with first city removed:')\n",
        "# Your code goes here"
      ],
      "execution_count": null,
      "outputs": []
    },
    {
      "cell_type": "markdown",
      "metadata": {
        "id": "ZMb1sUuc9Ath"
      },
      "source": [
        "### 22.\n",
        "Using built-in list methods, add back the city from `lotr_cities` that was removed in exercise #21 to the front of the list and display the resulting `lotr_cities`.\n",
        "\n",
        "Expected output:\n",
        "```\n",
        "['Rohan', 'Gondor', 'Mordor', 'Mirkwood', 'Beleriand', 'Deadest Marshes']\n",
        "```"
      ]
    },
    {
      "cell_type": "code",
      "metadata": {
        "id": "NH0cPUxd9Ath"
      },
      "source": [
        "print('22. lotr_cities w/ first city added back:')\n",
        "# Your code goes here"
      ],
      "execution_count": null,
      "outputs": []
    },
    {
      "cell_type": "markdown",
      "metadata": {
        "id": "ssPKPTHc9Atj"
      },
      "source": [
        "## NICE JOB! You are done!"
      ]
    },
    {
      "cell_type": "markdown",
      "metadata": {
        "id": "g-ETnfzI9Atj"
      },
      "source": [
        "_This notebook prepared by: C1.PeterMarsh"
      ]
    }
  ]
}