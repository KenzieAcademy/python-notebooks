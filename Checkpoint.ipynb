{
  "nbformat": 4,
  "nbformat_minor": 0,
  "metadata": {
    "colab": {
      "name": "Python Foundations - Checkpoint 1",
      "provenance": [],
      "collapsed_sections": [
        "3iryC6D4561M",
        "J22SGfBh6AoC",
        "caHgfC8sGLQi",
        "_XhHywcxIHkC",
        "AZbLaR9SJEoL",
        "gQTRwduAKayP",
        "C3MxnK4BWOjp"
      ]
    },
    "kernelspec": {
      "name": "python3",
      "display_name": "Python 3"
    }
  },
  "cells": [
    {
      "cell_type": "markdown",
      "metadata": {
        "id": "wZu0CJ054mZk"
      },
      "source": [
        "<table align=left width=\"590\" height=\"144\" style=\"height: 67px; width: 565px;\">\n",
        "<tbody>\n",
        "<tr>\n",
        "<td width=82><img alt=\"revA\" src=\"https://static1.squarespace.com/static/5992c2c7a803bb8283297efe/t/59c803110abd04d34ca9a1f0/1530629279239/\" /></td>\n",
        "<td style=\"width: 422px; height: 67px;\">\n",
        "<h1 style=\"text-align: left;\">Python Foundations</h1>\n",
        "<h2 style=\"text-align: left;\">Checkpoint 1</h2>\n",
        "</td>\n",
        "</tr>\n",
        "</tbody>\n",
        "</table>"
      ]
    },
    {
      "cell_type": "code",
      "metadata": {
        "id": "5LeUhxORcYZ5"
      },
      "source": [
        "from datetime import datetime as dt\n",
        "\n",
        "# Fill in the __author__ string with your name and run this cell.\n",
        "__author__ = \"???\"\n",
        "start_time = dt.utcnow()\n",
        "print(f\"Author: {__author__}\")\n",
        "print(f\"Start Time: {start_time} UTC\")"
      ],
      "execution_count": null,
      "outputs": []
    },
    {
      "cell_type": "markdown",
      "metadata": {
        "id": "3iryC6D4561M"
      },
      "source": [
        "# Strings"
      ]
    },
    {
      "cell_type": "markdown",
      "metadata": {
        "id": "Otg9oxDE4vVo"
      },
      "source": [
        "## 1."
      ]
    },
    {
      "cell_type": "code",
      "metadata": {
        "id": "6QFcb-u30yfB"
      },
      "source": [
        "# Create and print the string \"Python\" from the strings defined below by\n",
        "# using indexing, slicing, concatenation, and/or string methods.\n",
        "p1 = \"pyh\"\n",
        "p2 = \"not\"\n"
      ],
      "execution_count": null,
      "outputs": []
    },
    {
      "cell_type": "markdown",
      "metadata": {
        "id": "3t4hZ4iuBiQD"
      },
      "source": [
        "### Expected Output:\n",
        "```\n",
        "Python\n",
        "```"
      ]
    },
    {
      "cell_type": "markdown",
      "metadata": {
        "id": "cavmqUtU5XpN"
      },
      "source": [
        "## 2."
      ]
    },
    {
      "cell_type": "code",
      "metadata": {
        "id": "DoBKm1F_5Ya0"
      },
      "source": [
        "# Use string methods to create the string \"Pyth0n\" (that's a zero!)\n",
        "# from the string defined below.\n",
        "s = \"python\"\n"
      ],
      "execution_count": null,
      "outputs": []
    },
    {
      "cell_type": "markdown",
      "metadata": {
        "id": "EfzipyGnDUb5"
      },
      "source": [
        "### Expected Output:\n",
        "```\n",
        "Pyth0n\n",
        "```"
      ]
    },
    {
      "cell_type": "markdown",
      "metadata": {
        "id": "59J8hgqI5k2B"
      },
      "source": [
        "## 3."
      ]
    },
    {
      "cell_type": "code",
      "metadata": {
        "id": "LqPRxMWF5lcQ"
      },
      "source": [
        "# Using the variables defined below and your knowledge of string formatting, \n",
        "# print the string \"3 + 5 = 8\" without using literal integers.\n",
        "n1, n2 = 3, 5\n"
      ],
      "execution_count": null,
      "outputs": []
    },
    {
      "cell_type": "markdown",
      "metadata": {
        "id": "dFaY-kKEDxeb"
      },
      "source": [
        "### Expected Output:\n",
        "```\n",
        "3 + 5 = 8\n",
        "```"
      ]
    },
    {
      "cell_type": "markdown",
      "metadata": {
        "id": "J22SGfBh6AoC"
      },
      "source": [
        "# Lists"
      ]
    },
    {
      "cell_type": "markdown",
      "metadata": {
        "id": "IXG7MKDc53km"
      },
      "source": [
        "## 4."
      ]
    },
    {
      "cell_type": "code",
      "metadata": {
        "id": "MpQKIxJP54JM"
      },
      "source": [
        "# Create and print a list of only the numbers at even indices from the list defined below.\n",
        "nums = [9, 5, 8, 2, 17, 4, 1, 2, 3]\n"
      ],
      "execution_count": null,
      "outputs": []
    },
    {
      "cell_type": "markdown",
      "metadata": {
        "id": "MUAItsSBE1Qd"
      },
      "source": [
        "### Expected Output:\n",
        "```\n",
        "[9, 8, 17, 1, 3]\n",
        "```"
      ]
    },
    {
      "cell_type": "markdown",
      "metadata": {
        "id": "7_05QpeA6Fdo"
      },
      "source": [
        "## 5."
      ]
    },
    {
      "cell_type": "code",
      "metadata": {
        "id": "BJGJ2cd76BUv"
      },
      "source": [
        "# Place a -2 at the beginning of the list defined below. Print the resulting list.\n",
        "nums = [9, 8, 17, 1, 3]\n"
      ],
      "execution_count": null,
      "outputs": []
    },
    {
      "cell_type": "markdown",
      "metadata": {
        "id": "oUWs2_YWF9Nq"
      },
      "source": [
        "### Expected Output:\n",
        "```\n",
        "[-2, 9, 8, 17, 1, 3]\n",
        "```"
      ]
    },
    {
      "cell_type": "markdown",
      "metadata": {
        "id": "m5MA_gNiGHlR"
      },
      "source": [
        "## 6."
      ]
    },
    {
      "cell_type": "code",
      "metadata": {
        "id": "0gSWVymEGIFx"
      },
      "source": [
        "# Remove the value 17 from the list defined below. Print the resulting list.\n",
        "nums = [-2, 9, 8, 17, 1, 3]\n"
      ],
      "execution_count": null,
      "outputs": []
    },
    {
      "cell_type": "markdown",
      "metadata": {
        "id": "od-o-TA-GF0y"
      },
      "source": [
        "### Expected Output:\n",
        "```\n",
        "[-2, 9, 8, 1, 3]\n",
        "```"
      ]
    },
    {
      "cell_type": "markdown",
      "metadata": {
        "id": "XmKDFw9WGIxy"
      },
      "source": [
        "## 7."
      ]
    },
    {
      "cell_type": "code",
      "metadata": {
        "id": "TcJyabc6GJy7"
      },
      "source": [
        "# Using the list defined below, use comprehension syntax to create a \n",
        "# new list of tuples where each tuple contains the original number and its \n",
        "# square (n*n). Print the resulting list.\n",
        "nums = [-2, 9, 8, 1, 3]\n"
      ],
      "execution_count": null,
      "outputs": []
    },
    {
      "cell_type": "markdown",
      "metadata": {
        "id": "Ir8r2dh_HHR8"
      },
      "source": [
        "### Expected Output:\n",
        "```\n",
        "[(-2, 4), (9, 81), (8, 64), (1, 1), (3, 9)]",
        "```"
      ]
    },
    {
      "cell_type": "markdown",
      "metadata": {
        "id": "Mu1A56c0GKM_"
      },
      "source": [
        "## 8."
      ]
    },
    {
      "cell_type": "code",
      "metadata": {
        "id": "g4ss_TzEGKmT"
      },
      "source": [
        "# Sort the list defined below by each tuple's second item (the\n",
        "# square value). Print the resulting list of tuples.\n",
        "tuples = [(-2, 4), (9, 81), (8, 64), (1, 1), (3, 9)]\n"
      ],
      "execution_count": null,
      "outputs": []
    },
    {
      "cell_type": "markdown",
      "metadata": {
        "id": "1oFWmHToHyRJ"
      },
      "source": [
        "### Expected Output:\n",
        "```\n",
        "[(1, 1), (-2, 4), (3, 9), (8, 64), (9, 81)\n",
        "```"
      ]
    },
    {
      "cell_type": "markdown",
      "metadata": {
        "id": "caHgfC8sGLQi"
      },
      "source": [
        "# Loops"
      ]
    },
    {
      "cell_type": "markdown",
      "metadata": {
        "id": "iNYcXAIhGMaA"
      },
      "source": [
        "## 9."
      ]
    },
    {
      "cell_type": "code",
      "metadata": {
        "id": "vJ5T_RQ3GL14"
      },
      "source": [
        "# Build and print a list containing the length of each word from the list defined below.\n",
        "words = ['This', 'is', 'the', 'way']\n"
      ],
      "execution_count": null,
      "outputs": []
    },
    {
      "cell_type": "markdown",
      "metadata": {
        "id": "rV8E4x8wINbE"
      },
      "source": [
        "### Expected Output:\n",
        "```\n",
        "[4, 2, 3, 3]\n",
        "```"
      ]
    },
    {
      "cell_type": "markdown",
      "metadata": {
        "id": "3-neUMOLHBqJ"
      },
      "source": [
        "## 10."
      ]
    },
    {
      "cell_type": "code",
      "metadata": {
        "id": "Mth4qc3BHCpi"
      },
      "source": [
        "# Using a `for` loop with the `enumerate()` function, print each index and word from\n",
        "# the list defined below. However, if the index is odd, print the word in reverse instead.\n",
        "words = ['What', 'goes', 'up', 'must', 'come', 'down']\n"
      ],
      "execution_count": null,
      "outputs": []
    },
    {
      "cell_type": "markdown",
      "metadata": {
        "id": "0qNFDpWOIwej"
      },
      "source": [
        "### Expected Output:\n",
        "```\n",
        "0 What\n",
        "1 seog\n",
        "2 up\n",
        "3 tsum\n",
        "4 come\n",
        "5 nwod\n",
        "```"
      ]
    },
    {
      "cell_type": "markdown",
      "metadata": {
        "id": "ujr0HEaRHFzo"
      },
      "source": [
        "## 11."
      ]
    },
    {
      "cell_type": "code",
      "metadata": {
        "id": "eZWAHh1nHP_W"
      },
      "source": [
        "# Fill in the following code, replacing the question marks, to print the numbers 1-10 counting backwards.\n",
        "for i in range(?, ?, ?):\n",
        "  print(i)"
      ],
      "execution_count": null,
      "outputs": []
    },
    {
      "cell_type": "markdown",
      "metadata": {
        "id": "8mgwWzBoI7jS"
      },
      "source": [
        "### Expected Output:\n",
        "```\n",
        "10\n",
        "9\n",
        "8\n",
        "7\n",
        "6\n",
        "5\n",
        "4\n",
        "3\n",
        "2\n",
        "1\n",
        "```"
      ]
    },
    {
      "cell_type": "markdown",
      "metadata": {
        "id": "qECsIGImHGGk"
      },
      "source": [
        "## 12."
      ]
    },
    {
      "cell_type": "code",
      "metadata": {
        "id": "oaaLP-TjHQnA"
      },
      "source": [
        "# Using a while loop, remove the smallest number from the list defined below\n",
        "# until there are only 5 numbers left, then print the list.\n",
        "nums = [76, 22, 21, 35, 98, 88, 7, 81, 54, 10]\n",
        "\n"
      ],
      "execution_count": null,
      "outputs": []
    },
    {
      "cell_type": "markdown",
      "metadata": {
        "id": "XUjwoV7PJLWE"
      },
      "source": [
        "### Expected Output:\n",
        "```\n",
        "[76, 98, 88, 81, 54]\n",
        "```"
      ]
    },
    {
      "cell_type": "markdown",
      "metadata": {
        "id": "_XhHywcxIHkC"
      },
      "source": [
        "# Dictionaries"
      ]
    },
    {
      "cell_type": "code",
      "metadata": {
        "id": "GVaGu5OjIOBE"
      },
      "source": [
        "# Run this cell!\n",
        "# Use this dictionary for the questions in this section.\n",
        "person = {\n",
        "    \"name\": \"Bob\",\n",
        "    \"age\": 50,\n",
        "    \"wife\": \"Martha\"\n",
        "}"
      ],
      "execution_count": null,
      "outputs": []
    },
    {
      "cell_type": "markdown",
      "metadata": {
        "id": "EnAMvbT9HGz4"
      },
      "source": [
        "## 13."
      ]
    },
    {
      "cell_type": "code",
      "metadata": {
        "id": "GDSk1dGlHSHf"
      },
      "source": [
        "# Bob just had a birthday! Update his age in the person dictionary.\n",
        "\n",
        "# your code here\n",
        "print(person)"
      ],
      "execution_count": null,
      "outputs": []
    },
    {
      "cell_type": "markdown",
      "metadata": {
        "id": "yp8sMOtgJnks"
      },
      "source": [
        "### Example Output:\n",
        "```\n",
        "{'name': 'Bob', 'age': 51, 'wife': 'Martha'}\n",
        "```"
      ]
    },
    {
      "cell_type": "markdown",
      "metadata": {
        "id": "b5rRWStkHG4o"
      },
      "source": [
        "## 14."
      ]
    },
    {
      "cell_type": "code",
      "metadata": {
        "id": "tDwKo71vHStH"
      },
      "source": [
        "# Check for the \"children\" key in the person dictionary from above.\n",
        "# Print \"no kids\" if the \"children\" key does not exist\n"
      ],
      "execution_count": null,
      "outputs": []
    },
    {
      "cell_type": "markdown",
      "metadata": {
        "id": "KR8A14WlKHFB"
      },
      "source": [
        "### Expected Output:\n",
        "```\n",
        "no kids\n",
        "```"
      ]
    },
    {
      "cell_type": "markdown",
      "metadata": {
        "id": "I4Rc8kO4HG9m"
      },
      "source": [
        "## 15."
      ]
    },
    {
      "cell_type": "code",
      "metadata": {
        "id": "6w0HFcd4HTM-"
      },
      "source": [
        "# Bob and Martha just had twins! Add a \"children\" key to the dictionary \n",
        "# which contains a list of strings of the children's names. Give them fun names!\n",
        "\n",
        "print(person)"
      ],
      "execution_count": null,
      "outputs": []
    },
    {
      "cell_type": "markdown",
      "metadata": {
        "id": "lj9GHSo4LJiw"
      },
      "source": [
        "### Example Output:\n",
        "```\n",
        "{'name': 'Bob', 'age': 51, 'wife': 'Martha', 'children': ['GOB', 'Tobias']}\n",
        "```"
      ]
    },
    {
      "cell_type": "markdown",
      "metadata": {
        "id": "xs5vXMr_HHCC"
      },
      "source": [
        "## 16."
      ]
    },
    {
      "cell_type": "code",
      "metadata": {
        "id": "vZJd1wf9HT_y"
      },
      "source": [
        "# Tell us about Bob! Loop through the person dictionary and \n",
        "# print each piece of Bob's information.\n",
        "for i, val in person.items():\n",
        "  print(i, \":\", val)"
      ],
      "execution_count": null,
      "outputs": []
    },
    {
      "cell_type": "markdown",
      "metadata": {
        "id": "03WmYvu2MCdk"
      },
      "source": [
        "### Example Output:\n",
        "```\n",
        "name : Bob\n",
        "age : 50\n",
        "wife : Martha\n",
        "children : ['GOB', 'Tobias']\n",
        "```"
      ]
    },
    {
      "cell_type": "markdown",
      "metadata": {
        "id": "AZbLaR9SJEoL"
      },
      "source": [
        "# Functions"
      ]
    },
    {
      "cell_type": "code",
      "metadata": {
        "id": "XSbJEwGCJHGO"
      },
      "source": [
        "# Run this cell!\n",
        "# Use this dictionary for the questions in this section.\n",
        "sw = {\n",
        "    'vader': 'sith',\n",
        "    'luke': 'jedi',\n",
        "    'yoda': 'jedi',\n",
        "    'obi-wan': 'jedi',\n",
        "    'qui-gon': 'jedi',\n",
        "    'palaptine': 'sith',\n",
        "    'binks': 'sith'\n",
        "}"
      ],
      "execution_count": null,
      "outputs": []
    },
    {
      "cell_type": "markdown",
      "metadata": {
        "id": "qjlEtteMHHGS"
      },
      "source": [
        "## 17."
      ]
    },
    {
      "cell_type": "code",
      "metadata": {
        "id": "HMPXXRVrHUsM"
      },
      "source": [
        "# Create a function called jedi_sort that receives the above dictionary\n",
        "# as an argument, and separates the sith from the jedi and returns a tuple\n",
        "# which contains 2 lists, 1 of jedi names and 1 of sith names\n",
        "def jedi_sort(sw):\n",
        "  jedi_list = [i for i, val in sw.items() if val==\"jedi\"]\n",
        "  sith_list = [i for i, val in sw.items() if val==\"sith\"]\n",
        "  return (jedi_list, sith_list)\n",
        "print(jedi_sort(sw))"
      ],
      "execution_count": null,
      "outputs": []
    },
    {
      "cell_type": "markdown",
      "metadata": {
        "id": "uiWV-x4gOwlF"
      },
      "source": [
        "### Expected Output:\n",
        "```\n",
        "(['luke', 'yoda', 'obi-wan', 'qui-gon'], ['vader', 'palaptine', 'binks'])\n",
        "```"
      ]
    },
    {
      "cell_type": "markdown",
      "metadata": {
        "id": "dEGLImd7HHKk"
      },
      "source": [
        "## 18."
      ]
    },
    {
      "cell_type": "code",
      "metadata": {
        "id": "6ZthwoFYHVPp"
      },
      "source": [
        "# Create a function called \"who_wins\" that uses the result from the previous \n",
        "# function and prints \"sith win\" or \"jedi win\" based on which side has more \n",
        "# people.\n",
        "\n",
        "def who_wins(sw):\n",
        "  if len(sw[0]) > len(sw[1]):\n",
        "    return \"Jedi win\"\n",
        "  else:\n",
        "    return \"sith win\"\n",
        "\n",
        "print(who_wins(jedi_sort(sw)))"
      ],
      "execution_count": null,
      "outputs": []
    },
    {
      "cell_type": "markdown",
      "metadata": {
        "id": "tCwmsa-kPgf8"
      },
      "source": [
        "### Expected Output:\n",
        "```\n",
        "jedi win\n",
        "```"
      ]
    },
    {
      "cell_type": "markdown",
      "metadata": {
        "id": "gQTRwduAKayP"
      },
      "source": [
        "# Debugging"
      ]
    },
    {
      "cell_type": "markdown",
      "metadata": {
        "id": "UoP-nqJ4HHOg"
      },
      "source": [
        "## 19."
      ]
    },
    {
      "cell_type": "code",
      "metadata": {
        "id": "0wH506LyHO-6"
      },
      "source": [
        "# Fix the bugs in the following code so that it only prints once.\n",
        "total = sum(3, 5, 12, 9)\n",
        "if total < 30:\n",
        "    print 'That's not enough: ' + total\n",
        "if totul > 30:\n",
        "    print('That's too much: ' + total)\n",
        "else:\n",
        "    print('That's perfect: ' + total)\n"
      ],
      "execution_count": null,
      "outputs": []
    },
    {
      "cell_type": "markdown",
      "metadata": {
        "id": "C3MxnK4BWOjp"
      },
      "source": [
        "# Please run the final cell below, to conclude."
      ]
    },
    {
      "cell_type": "code",
      "metadata": {
        "id": "zuSg-c4WWVuZ"
      },
      "source": [
        "# Wrapping up\n",
        "end_time = dt.utcnow()\n",
        "print(f\"End Time: {end_time} UTC\")\n",
        "print(f\"Duration: {end_time - start_time}\")"
      ],
      "execution_count": null,
      "outputs": []
    },
    {
      "cell_type": "markdown",
      "metadata": {
        "id": "ebGc7MyNXloO"
      },
      "source": [
        "# The End\n",
        "Now, use the **File** menu above and select **Download .ipynb**. Save the file to your computer and submit it for the **Checkpoint 1** assessment."
      ]
    }
  ]
}
